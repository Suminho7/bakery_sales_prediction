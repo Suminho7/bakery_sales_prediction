{
 "cells": [
  {
   "cell_type": "markdown",
   "metadata": {},
   "source": [
    "# Weitere mögliche Features und Variablen"
   ]
  },
  {
   "cell_type": "markdown",
   "metadata": {},
   "source": [
    "## Kalenderdaten\n",
    "- Feiertage (bereits in Datenaufbereitung -> Frage: Welche Feiertage wurden genutzt? Schleswig-Holstein?)\n",
    "- Schulferien\n",
    "- Wochentage und Wochenenden\n",
    "- Saisonale Ereignisse (z.B. Weihnachten, Ostern, u.ä.)\n",
    "- vorheriger Feiertag\n",
    "- Tage bis zum nächsten Feiertag\n",
    "- Tage der Woche"
   ]
  },
  {
   "cell_type": "markdown",
   "metadata": {},
   "source": [
    "Quellen für Kalenderdaten: \n",
    "\n",
    "Calendarific: Bietet APIs für Feiertage und wichtige Ereignisse weltweit. (https://calendarific.com/)\n",
    "Time and Date: Diese Website bietet eine Vielzahl von Kalenderinformationen, einschließlich Feiertage und Schulferien. (https://www.timeanddate.com/)\n",
    "Nationaler Feiertagskalender: Offizielle Regierungs- oder institutionelle Webseiten bieten oft herunterladbare Kalenderdaten für Feiertage und Schulferien."
   ]
  },
  {
   "cell_type": "markdown",
   "metadata": {},
   "source": [
    "### Kalenderdaten laden"
   ]
  },
  {
   "cell_type": "markdown",
   "metadata": {},
   "source": [
    "#Kalenderdaten in CSV-Datei laden\n",
    "\n",
    "datum: Das Datum des Ereignisses.\n",
    "feiertag: Binär (1/0), ob es ein Feiertag ist.\n",
    "ferien: Binär (1/0), ob es Schulferien sind.\n",
    "wochenende: Binär (1/0), ob es ein Wochenende ist.\n",
    "\n",
    "\n",
    "# Kalenderdaten laden\n",
    "kalenderdaten = pd.read_csv('kalenderdaten.csv')\n",
    "\n",
    "# Daten zusammenführen\n",
    "daten = wetterdaten.merge(verkaufsdaten, on='datum')\n",
    "daten = daten.merge(kalenderdaten, on='datum')\n",
    "\n",
    "\n",
    "** Wichtig **\n",
    "Korrekte Formatierung der Kalenderdaten\n"
   ]
  },
  {
   "cell_type": "markdown",
   "metadata": {},
   "source": [
    "zusätzliche Features"
   ]
  },
  {
   "cell_type": "markdown",
   "metadata": {},
   "source": [
    "## Online- und Suchdaten\n",
    "- Google Trend zu Warengruppen"
   ]
  },
  {
   "cell_type": "markdown",
   "metadata": {},
   "source": [
    "## Wirtschaftliche Indikatoren\n",
    "- Verbraucherpreisindex (CPI)\n",
    "- Einzelhandelsumsätze auf regionaler Ebene"
   ]
  },
  {
   "cell_type": "markdown",
   "metadata": {},
   "source": [
    "# Wetterbasierte Features"
   ]
  },
  {
   "cell_type": "markdown",
   "metadata": {},
   "source": [
    "## Temperatur\n",
    "- Durchschnittstemperatur\n",
    "- Höchst- und Tiefsttemperatur\n",
    "- Temperaturabweichung vom Durchschnitt"
   ]
  },
  {
   "cell_type": "markdown",
   "metadata": {},
   "source": [
    "## Niederschlag\n",
    "- Regenmenge\n",
    "- Schneemenge\n",
    "- Anzahl der Niederschlagstage in einem Zeitraum"
   ]
  },
  {
   "cell_type": "markdown",
   "metadata": {},
   "source": [
    "## Sonnenschein\n",
    "- Anzahl der Sonnenstunden\n",
    "- Bewölkungsgrad"
   ]
  },
  {
   "cell_type": "markdown",
   "metadata": {},
   "source": [
    "## Wind\n",
    "- Durchschnittliche Windgeschwindigkeit\n",
    "- Höchste Windböen"
   ]
  },
  {
   "cell_type": "markdown",
   "metadata": {},
   "source": [
    "# Wichtige Hinweise\n",
    "Feature Engineering: Experimentieren Sie mit verschiedenen Features und deren Kombinationen, um herauszufinden, welche am besten zur Vorhersagegenauigkeit beitragen.\n",
    "Feature Selection: Verwenden Sie Techniken wie die Feature-Importance-Analyse, um die wichtigsten Features zu identifizieren und unwichtige zu entfernen.\n",
    "Modellvalidierung: Überprüfen Sie Ihr Modell regelmäßig auf Überanpassung und führen Sie Cross-Validation durch, um die Robustheit Ihres Modells zu gewährleisten."
   ]
  }
 ],
 "metadata": {
  "kernelspec": {
   "display_name": "python_course",
   "language": "python",
   "name": "python3"
  },
  "language_info": {
   "codemirror_mode": {
    "name": "ipython",
    "version": 3
   },
   "file_extension": ".py",
   "mimetype": "text/x-python",
   "name": "python",
   "nbconvert_exporter": "python",
   "pygments_lexer": "ipython3",
   "version": "3.10.13"
  }
 },
 "nbformat": 4,
 "nbformat_minor": 2
}
