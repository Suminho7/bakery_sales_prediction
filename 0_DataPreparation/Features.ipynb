{
 "cells": [
  {
   "cell_type": "markdown",
   "metadata": {},
   "source": [
    "# Daten einlesen\n"
   ]
  },
  {
   "cell_type": "code",
   "execution_count": null,
   "metadata": {},
   "outputs": [],
   "source": [
    "import pandas as pd\n",
    "import matplotlib.pyplot as plt\n",
    "\n",
    "# Download Data\n",
    "umsatzdaten_url = \"https://github.com/opencampus-sh/einfuehrung-in-data-science-und-ml/raw/main/umsatzdaten_gekuerzt.csv\"\n",
    "\n",
    "kiwodaten_url = \"https://github.com/opencampus-sh/einfuehrung-in-data-science-und-ml/raw/main/kiwo.csv\"\n",
    "\n",
    "wetterdaten_url = \"https://github.com/opencampus-sh/einfuehrung-in-data-science-und-ml/raw/main/wetter.csv\"\n",
    "\n",
    "# Daten von den URLs herunterladen und in Pandas DataFrames laden\n",
    "umsatzdaten = pd.read_csv(umsatzdaten_url)\n",
    "kiwo = pd.read_csv(kiwodaten_url)\n",
    "wetter = pd.read_csv(wetterdaten_url)\n",
    "\n",
    "#Outer Join\n",
    "merged_data = pd.merge(umsatzdaten, kiwo, on='Datum', how='outer')\n",
    "merged_data = pd.merge(merged_data, wetter, on='Datum', how='outer')\n",
    "\n",
    "# Gib den zusammengeführten DataFrame aus\n",
    "print(merged_data)\n",
    "\n",
    "#Konvertiere die Spalte \"Datum\" in einen Datumsdatentypen \n",
    "merged_data[\"Datum\"] = pd.to_datetime(merged_data[\"Datum\"])\n",
    "\n",
    "print(merged_data)"
   ]
  },
  {
   "cell_type": "markdown",
   "metadata": {},
   "source": [
    "# Daten nach Wochentag aufteilen"
   ]
  },
  {
   "cell_type": "code",
   "execution_count": 11,
   "metadata": {},
   "outputs": [
    {
     "name": "stdout",
     "output_type": "stream",
     "text": [
      "           Datum  Warengruppe  Umsatz  KielerWoche  Bewoelkung  Temperatur  \\\n",
      "0     2012-01-01          NaN     NaN            0         8.0      9.8250   \n",
      "1     2012-01-02          NaN     NaN            0         7.0      7.4375   \n",
      "2     2012-01-03          NaN     NaN            0         8.0      5.5375   \n",
      "3     2012-01-04          NaN     NaN            0         4.0      5.6875   \n",
      "4     2012-01-05          NaN     NaN            0         6.0      5.3000   \n",
      "...          ...          ...     ...          ...         ...         ...   \n",
      "10114 2019-07-28          NaN     NaN            0         3.0     23.3500   \n",
      "10115 2019-07-29          NaN     NaN            0         6.0     25.2500   \n",
      "10116 2019-07-30          NaN     NaN            0         7.0     20.7375   \n",
      "10117 2019-07-31          NaN     NaN            0         6.0     20.4500   \n",
      "10118 2019-08-01          NaN     NaN            0         5.0     21.0625   \n",
      "\n",
      "       Windgeschwindigkeit  Wettercode  wochentag wochentag_name  Wochentag  \\\n",
      "0                     14.0        58.0          6         Sunday          6   \n",
      "1                     12.0         NaN          0         Monday          0   \n",
      "2                     18.0        63.0          1        Tuesday          1   \n",
      "3                     19.0        80.0          2      Wednesday          2   \n",
      "4                     23.0        80.0          3       Thursday          3   \n",
      "...                    ...         ...        ...            ...        ...   \n",
      "10114                 14.0         5.0          6         Sunday          6   \n",
      "10115                  7.0        61.0          0         Monday          0   \n",
      "10116                  8.0        61.0          1        Tuesday          1   \n",
      "10117                  7.0        61.0          2      Wednesday          2   \n",
      "10118                  9.0        61.0          3       Thursday          3   \n",
      "\n",
      "      Wochentag_name  Wochenende  \n",
      "0             Sunday           1  \n",
      "1             Monday           0  \n",
      "2            Tuesday           0  \n",
      "3          Wednesday           0  \n",
      "4           Thursday           0  \n",
      "...              ...         ...  \n",
      "10114         Sunday           1  \n",
      "10115         Monday           0  \n",
      "10116        Tuesday           0  \n",
      "10117      Wednesday           0  \n",
      "10118       Thursday           0  \n",
      "\n",
      "[10119 rows x 13 columns]\n",
      "       Datum  Warengruppe  Umsatz  KielerWoche  Bewoelkung  Temperatur  \\\n",
      "0 2012-01-01          NaN     NaN            0         8.0      9.8250   \n",
      "1 2012-01-02          NaN     NaN            0         7.0      7.4375   \n",
      "2 2012-01-03          NaN     NaN            0         8.0      5.5375   \n",
      "3 2012-01-04          NaN     NaN            0         4.0      5.6875   \n",
      "4 2012-01-05          NaN     NaN            0         6.0      5.3000   \n",
      "\n",
      "   Windgeschwindigkeit  Wettercode  wochentag wochentag_name  Wochentag  \\\n",
      "0                 14.0        58.0          6         Sunday          6   \n",
      "1                 12.0         NaN          0         Monday          0   \n",
      "2                 18.0        63.0          1        Tuesday          1   \n",
      "3                 19.0        80.0          2      Wednesday          2   \n",
      "4                 23.0        80.0          3       Thursday          3   \n",
      "\n",
      "  Wochentag_name  Wochenende  \n",
      "0         Sunday        True  \n",
      "1         Monday       False  \n",
      "2        Tuesday       False  \n",
      "3      Wednesday       False  \n",
      "4       Thursday       False  \n"
     ]
    },
    {
     "ename": "OSError",
     "evalue": "[Errno 30] Read-only file system: 'merged_data.csv'",
     "output_type": "error",
     "traceback": [
      "\u001b[0;31m---------------------------------------------------------------------------\u001b[0m",
      "\u001b[0;31mOSError\u001b[0m                                   Traceback (most recent call last)",
      "Cell \u001b[0;32mIn[11], line 54\u001b[0m\n\u001b[1;32m     50\u001b[0m merged_data[\u001b[38;5;124m'\u001b[39m\u001b[38;5;124mWochenende\u001b[39m\u001b[38;5;124m'\u001b[39m] \u001b[38;5;241m=\u001b[39m merged_data[\u001b[38;5;124m'\u001b[39m\u001b[38;5;124mWochenende\u001b[39m\u001b[38;5;124m'\u001b[39m]\u001b[38;5;241m.\u001b[39mfillna(\u001b[38;5;241m0\u001b[39m)\u001b[38;5;241m.\u001b[39mastype(\u001b[38;5;28mint\u001b[39m)\n\u001b[1;32m     53\u001b[0m \u001b[38;5;66;03m# Exportiere den DataFrame als CSV\u001b[39;00m\n\u001b[0;32m---> 54\u001b[0m \u001b[43mmerged_data\u001b[49m\u001b[38;5;241;43m.\u001b[39;49m\u001b[43mto_csv\u001b[49m\u001b[43m(\u001b[49m\u001b[38;5;124;43m'\u001b[39;49m\u001b[38;5;124;43mmerged_data.csv\u001b[39;49m\u001b[38;5;124;43m'\u001b[39;49m\u001b[43m,\u001b[49m\u001b[43m \u001b[49m\u001b[43mindex\u001b[49m\u001b[38;5;241;43m=\u001b[39;49m\u001b[38;5;28;43;01mFalse\u001b[39;49;00m\u001b[43m)\u001b[49m\n",
      "File \u001b[0;32m/Applications/miniconda3/envs/python_course/lib/python3.10/site-packages/pandas/util/_decorators.py:333\u001b[0m, in \u001b[0;36mdeprecate_nonkeyword_arguments.<locals>.decorate.<locals>.wrapper\u001b[0;34m(*args, **kwargs)\u001b[0m\n\u001b[1;32m    327\u001b[0m \u001b[38;5;28;01mif\u001b[39;00m \u001b[38;5;28mlen\u001b[39m(args) \u001b[38;5;241m>\u001b[39m num_allow_args:\n\u001b[1;32m    328\u001b[0m     warnings\u001b[38;5;241m.\u001b[39mwarn(\n\u001b[1;32m    329\u001b[0m         msg\u001b[38;5;241m.\u001b[39mformat(arguments\u001b[38;5;241m=\u001b[39m_format_argument_list(allow_args)),\n\u001b[1;32m    330\u001b[0m         \u001b[38;5;167;01mFutureWarning\u001b[39;00m,\n\u001b[1;32m    331\u001b[0m         stacklevel\u001b[38;5;241m=\u001b[39mfind_stack_level(),\n\u001b[1;32m    332\u001b[0m     )\n\u001b[0;32m--> 333\u001b[0m \u001b[38;5;28;01mreturn\u001b[39;00m \u001b[43mfunc\u001b[49m\u001b[43m(\u001b[49m\u001b[38;5;241;43m*\u001b[39;49m\u001b[43margs\u001b[49m\u001b[43m,\u001b[49m\u001b[43m \u001b[49m\u001b[38;5;241;43m*\u001b[39;49m\u001b[38;5;241;43m*\u001b[39;49m\u001b[43mkwargs\u001b[49m\u001b[43m)\u001b[49m\n",
      "File \u001b[0;32m/Applications/miniconda3/envs/python_course/lib/python3.10/site-packages/pandas/core/generic.py:3964\u001b[0m, in \u001b[0;36mNDFrame.to_csv\u001b[0;34m(self, path_or_buf, sep, na_rep, float_format, columns, header, index, index_label, mode, encoding, compression, quoting, quotechar, lineterminator, chunksize, date_format, doublequote, escapechar, decimal, errors, storage_options)\u001b[0m\n\u001b[1;32m   3953\u001b[0m df \u001b[38;5;241m=\u001b[39m \u001b[38;5;28mself\u001b[39m \u001b[38;5;28;01mif\u001b[39;00m \u001b[38;5;28misinstance\u001b[39m(\u001b[38;5;28mself\u001b[39m, ABCDataFrame) \u001b[38;5;28;01melse\u001b[39;00m \u001b[38;5;28mself\u001b[39m\u001b[38;5;241m.\u001b[39mto_frame()\n\u001b[1;32m   3955\u001b[0m formatter \u001b[38;5;241m=\u001b[39m DataFrameFormatter(\n\u001b[1;32m   3956\u001b[0m     frame\u001b[38;5;241m=\u001b[39mdf,\n\u001b[1;32m   3957\u001b[0m     header\u001b[38;5;241m=\u001b[39mheader,\n\u001b[0;32m   (...)\u001b[0m\n\u001b[1;32m   3961\u001b[0m     decimal\u001b[38;5;241m=\u001b[39mdecimal,\n\u001b[1;32m   3962\u001b[0m )\n\u001b[0;32m-> 3964\u001b[0m \u001b[38;5;28;01mreturn\u001b[39;00m \u001b[43mDataFrameRenderer\u001b[49m\u001b[43m(\u001b[49m\u001b[43mformatter\u001b[49m\u001b[43m)\u001b[49m\u001b[38;5;241;43m.\u001b[39;49m\u001b[43mto_csv\u001b[49m\u001b[43m(\u001b[49m\n\u001b[1;32m   3965\u001b[0m \u001b[43m    \u001b[49m\u001b[43mpath_or_buf\u001b[49m\u001b[43m,\u001b[49m\n\u001b[1;32m   3966\u001b[0m \u001b[43m    \u001b[49m\u001b[43mlineterminator\u001b[49m\u001b[38;5;241;43m=\u001b[39;49m\u001b[43mlineterminator\u001b[49m\u001b[43m,\u001b[49m\n\u001b[1;32m   3967\u001b[0m \u001b[43m    \u001b[49m\u001b[43msep\u001b[49m\u001b[38;5;241;43m=\u001b[39;49m\u001b[43msep\u001b[49m\u001b[43m,\u001b[49m\n\u001b[1;32m   3968\u001b[0m \u001b[43m    \u001b[49m\u001b[43mencoding\u001b[49m\u001b[38;5;241;43m=\u001b[39;49m\u001b[43mencoding\u001b[49m\u001b[43m,\u001b[49m\n\u001b[1;32m   3969\u001b[0m \u001b[43m    \u001b[49m\u001b[43merrors\u001b[49m\u001b[38;5;241;43m=\u001b[39;49m\u001b[43merrors\u001b[49m\u001b[43m,\u001b[49m\n\u001b[1;32m   3970\u001b[0m \u001b[43m    \u001b[49m\u001b[43mcompression\u001b[49m\u001b[38;5;241;43m=\u001b[39;49m\u001b[43mcompression\u001b[49m\u001b[43m,\u001b[49m\n\u001b[1;32m   3971\u001b[0m \u001b[43m    \u001b[49m\u001b[43mquoting\u001b[49m\u001b[38;5;241;43m=\u001b[39;49m\u001b[43mquoting\u001b[49m\u001b[43m,\u001b[49m\n\u001b[1;32m   3972\u001b[0m \u001b[43m    \u001b[49m\u001b[43mcolumns\u001b[49m\u001b[38;5;241;43m=\u001b[39;49m\u001b[43mcolumns\u001b[49m\u001b[43m,\u001b[49m\n\u001b[1;32m   3973\u001b[0m \u001b[43m    \u001b[49m\u001b[43mindex_label\u001b[49m\u001b[38;5;241;43m=\u001b[39;49m\u001b[43mindex_label\u001b[49m\u001b[43m,\u001b[49m\n\u001b[1;32m   3974\u001b[0m \u001b[43m    \u001b[49m\u001b[43mmode\u001b[49m\u001b[38;5;241;43m=\u001b[39;49m\u001b[43mmode\u001b[49m\u001b[43m,\u001b[49m\n\u001b[1;32m   3975\u001b[0m \u001b[43m    \u001b[49m\u001b[43mchunksize\u001b[49m\u001b[38;5;241;43m=\u001b[39;49m\u001b[43mchunksize\u001b[49m\u001b[43m,\u001b[49m\n\u001b[1;32m   3976\u001b[0m \u001b[43m    \u001b[49m\u001b[43mquotechar\u001b[49m\u001b[38;5;241;43m=\u001b[39;49m\u001b[43mquotechar\u001b[49m\u001b[43m,\u001b[49m\n\u001b[1;32m   3977\u001b[0m \u001b[43m    \u001b[49m\u001b[43mdate_format\u001b[49m\u001b[38;5;241;43m=\u001b[39;49m\u001b[43mdate_format\u001b[49m\u001b[43m,\u001b[49m\n\u001b[1;32m   3978\u001b[0m \u001b[43m    \u001b[49m\u001b[43mdoublequote\u001b[49m\u001b[38;5;241;43m=\u001b[39;49m\u001b[43mdoublequote\u001b[49m\u001b[43m,\u001b[49m\n\u001b[1;32m   3979\u001b[0m \u001b[43m    \u001b[49m\u001b[43mescapechar\u001b[49m\u001b[38;5;241;43m=\u001b[39;49m\u001b[43mescapechar\u001b[49m\u001b[43m,\u001b[49m\n\u001b[1;32m   3980\u001b[0m \u001b[43m    \u001b[49m\u001b[43mstorage_options\u001b[49m\u001b[38;5;241;43m=\u001b[39;49m\u001b[43mstorage_options\u001b[49m\u001b[43m,\u001b[49m\n\u001b[1;32m   3981\u001b[0m \u001b[43m\u001b[49m\u001b[43m)\u001b[49m\n",
      "File \u001b[0;32m/Applications/miniconda3/envs/python_course/lib/python3.10/site-packages/pandas/io/formats/format.py:1014\u001b[0m, in \u001b[0;36mDataFrameRenderer.to_csv\u001b[0;34m(self, path_or_buf, encoding, sep, columns, index_label, mode, compression, quoting, quotechar, lineterminator, chunksize, date_format, doublequote, escapechar, errors, storage_options)\u001b[0m\n\u001b[1;32m    993\u001b[0m     created_buffer \u001b[38;5;241m=\u001b[39m \u001b[38;5;28;01mFalse\u001b[39;00m\n\u001b[1;32m    995\u001b[0m csv_formatter \u001b[38;5;241m=\u001b[39m CSVFormatter(\n\u001b[1;32m    996\u001b[0m     path_or_buf\u001b[38;5;241m=\u001b[39mpath_or_buf,\n\u001b[1;32m    997\u001b[0m     lineterminator\u001b[38;5;241m=\u001b[39mlineterminator,\n\u001b[0;32m   (...)\u001b[0m\n\u001b[1;32m   1012\u001b[0m     formatter\u001b[38;5;241m=\u001b[39m\u001b[38;5;28mself\u001b[39m\u001b[38;5;241m.\u001b[39mfmt,\n\u001b[1;32m   1013\u001b[0m )\n\u001b[0;32m-> 1014\u001b[0m \u001b[43mcsv_formatter\u001b[49m\u001b[38;5;241;43m.\u001b[39;49m\u001b[43msave\u001b[49m\u001b[43m(\u001b[49m\u001b[43m)\u001b[49m\n\u001b[1;32m   1016\u001b[0m \u001b[38;5;28;01mif\u001b[39;00m created_buffer:\n\u001b[1;32m   1017\u001b[0m     \u001b[38;5;28;01massert\u001b[39;00m \u001b[38;5;28misinstance\u001b[39m(path_or_buf, StringIO)\n",
      "File \u001b[0;32m/Applications/miniconda3/envs/python_course/lib/python3.10/site-packages/pandas/io/formats/csvs.py:251\u001b[0m, in \u001b[0;36mCSVFormatter.save\u001b[0;34m(self)\u001b[0m\n\u001b[1;32m    247\u001b[0m \u001b[38;5;250m\u001b[39m\u001b[38;5;124;03m\"\"\"\u001b[39;00m\n\u001b[1;32m    248\u001b[0m \u001b[38;5;124;03mCreate the writer & save.\u001b[39;00m\n\u001b[1;32m    249\u001b[0m \u001b[38;5;124;03m\"\"\"\u001b[39;00m\n\u001b[1;32m    250\u001b[0m \u001b[38;5;66;03m# apply compression and byte/text conversion\u001b[39;00m\n\u001b[0;32m--> 251\u001b[0m \u001b[38;5;28;01mwith\u001b[39;00m \u001b[43mget_handle\u001b[49m\u001b[43m(\u001b[49m\n\u001b[1;32m    252\u001b[0m \u001b[43m    \u001b[49m\u001b[38;5;28;43mself\u001b[39;49m\u001b[38;5;241;43m.\u001b[39;49m\u001b[43mfilepath_or_buffer\u001b[49m\u001b[43m,\u001b[49m\n\u001b[1;32m    253\u001b[0m \u001b[43m    \u001b[49m\u001b[38;5;28;43mself\u001b[39;49m\u001b[38;5;241;43m.\u001b[39;49m\u001b[43mmode\u001b[49m\u001b[43m,\u001b[49m\n\u001b[1;32m    254\u001b[0m \u001b[43m    \u001b[49m\u001b[43mencoding\u001b[49m\u001b[38;5;241;43m=\u001b[39;49m\u001b[38;5;28;43mself\u001b[39;49m\u001b[38;5;241;43m.\u001b[39;49m\u001b[43mencoding\u001b[49m\u001b[43m,\u001b[49m\n\u001b[1;32m    255\u001b[0m \u001b[43m    \u001b[49m\u001b[43merrors\u001b[49m\u001b[38;5;241;43m=\u001b[39;49m\u001b[38;5;28;43mself\u001b[39;49m\u001b[38;5;241;43m.\u001b[39;49m\u001b[43merrors\u001b[49m\u001b[43m,\u001b[49m\n\u001b[1;32m    256\u001b[0m \u001b[43m    \u001b[49m\u001b[43mcompression\u001b[49m\u001b[38;5;241;43m=\u001b[39;49m\u001b[38;5;28;43mself\u001b[39;49m\u001b[38;5;241;43m.\u001b[39;49m\u001b[43mcompression\u001b[49m\u001b[43m,\u001b[49m\n\u001b[1;32m    257\u001b[0m \u001b[43m    \u001b[49m\u001b[43mstorage_options\u001b[49m\u001b[38;5;241;43m=\u001b[39;49m\u001b[38;5;28;43mself\u001b[39;49m\u001b[38;5;241;43m.\u001b[39;49m\u001b[43mstorage_options\u001b[49m\u001b[43m,\u001b[49m\n\u001b[1;32m    258\u001b[0m \u001b[43m\u001b[49m\u001b[43m)\u001b[49m \u001b[38;5;28;01mas\u001b[39;00m handles:\n\u001b[1;32m    259\u001b[0m     \u001b[38;5;66;03m# Note: self.encoding is irrelevant here\u001b[39;00m\n\u001b[1;32m    260\u001b[0m     \u001b[38;5;28mself\u001b[39m\u001b[38;5;241m.\u001b[39mwriter \u001b[38;5;241m=\u001b[39m csvlib\u001b[38;5;241m.\u001b[39mwriter(\n\u001b[1;32m    261\u001b[0m         handles\u001b[38;5;241m.\u001b[39mhandle,\n\u001b[1;32m    262\u001b[0m         lineterminator\u001b[38;5;241m=\u001b[39m\u001b[38;5;28mself\u001b[39m\u001b[38;5;241m.\u001b[39mlineterminator,\n\u001b[0;32m   (...)\u001b[0m\n\u001b[1;32m    267\u001b[0m         quotechar\u001b[38;5;241m=\u001b[39m\u001b[38;5;28mself\u001b[39m\u001b[38;5;241m.\u001b[39mquotechar,\n\u001b[1;32m    268\u001b[0m     )\n\u001b[1;32m    270\u001b[0m     \u001b[38;5;28mself\u001b[39m\u001b[38;5;241m.\u001b[39m_save()\n",
      "File \u001b[0;32m/Applications/miniconda3/envs/python_course/lib/python3.10/site-packages/pandas/io/common.py:873\u001b[0m, in \u001b[0;36mget_handle\u001b[0;34m(path_or_buf, mode, encoding, compression, memory_map, is_text, errors, storage_options)\u001b[0m\n\u001b[1;32m    868\u001b[0m \u001b[38;5;28;01melif\u001b[39;00m \u001b[38;5;28misinstance\u001b[39m(handle, \u001b[38;5;28mstr\u001b[39m):\n\u001b[1;32m    869\u001b[0m     \u001b[38;5;66;03m# Check whether the filename is to be opened in binary mode.\u001b[39;00m\n\u001b[1;32m    870\u001b[0m     \u001b[38;5;66;03m# Binary mode does not support 'encoding' and 'newline'.\u001b[39;00m\n\u001b[1;32m    871\u001b[0m     \u001b[38;5;28;01mif\u001b[39;00m ioargs\u001b[38;5;241m.\u001b[39mencoding \u001b[38;5;129;01mand\u001b[39;00m \u001b[38;5;124m\"\u001b[39m\u001b[38;5;124mb\u001b[39m\u001b[38;5;124m\"\u001b[39m \u001b[38;5;129;01mnot\u001b[39;00m \u001b[38;5;129;01min\u001b[39;00m ioargs\u001b[38;5;241m.\u001b[39mmode:\n\u001b[1;32m    872\u001b[0m         \u001b[38;5;66;03m# Encoding\u001b[39;00m\n\u001b[0;32m--> 873\u001b[0m         handle \u001b[38;5;241m=\u001b[39m \u001b[38;5;28;43mopen\u001b[39;49m\u001b[43m(\u001b[49m\n\u001b[1;32m    874\u001b[0m \u001b[43m            \u001b[49m\u001b[43mhandle\u001b[49m\u001b[43m,\u001b[49m\n\u001b[1;32m    875\u001b[0m \u001b[43m            \u001b[49m\u001b[43mioargs\u001b[49m\u001b[38;5;241;43m.\u001b[39;49m\u001b[43mmode\u001b[49m\u001b[43m,\u001b[49m\n\u001b[1;32m    876\u001b[0m \u001b[43m            \u001b[49m\u001b[43mencoding\u001b[49m\u001b[38;5;241;43m=\u001b[39;49m\u001b[43mioargs\u001b[49m\u001b[38;5;241;43m.\u001b[39;49m\u001b[43mencoding\u001b[49m\u001b[43m,\u001b[49m\n\u001b[1;32m    877\u001b[0m \u001b[43m            \u001b[49m\u001b[43merrors\u001b[49m\u001b[38;5;241;43m=\u001b[39;49m\u001b[43merrors\u001b[49m\u001b[43m,\u001b[49m\n\u001b[1;32m    878\u001b[0m \u001b[43m            \u001b[49m\u001b[43mnewline\u001b[49m\u001b[38;5;241;43m=\u001b[39;49m\u001b[38;5;124;43m\"\u001b[39;49m\u001b[38;5;124;43m\"\u001b[39;49m\u001b[43m,\u001b[49m\n\u001b[1;32m    879\u001b[0m \u001b[43m        \u001b[49m\u001b[43m)\u001b[49m\n\u001b[1;32m    880\u001b[0m     \u001b[38;5;28;01melse\u001b[39;00m:\n\u001b[1;32m    881\u001b[0m         \u001b[38;5;66;03m# Binary mode\u001b[39;00m\n\u001b[1;32m    882\u001b[0m         handle \u001b[38;5;241m=\u001b[39m \u001b[38;5;28mopen\u001b[39m(handle, ioargs\u001b[38;5;241m.\u001b[39mmode)\n",
      "\u001b[0;31mOSError\u001b[0m: [Errno 30] Read-only file system: 'merged_data.csv'"
     ]
    }
   ],
   "source": [
    "# Erstelle eine neue Spalte 'wochentag', die den Wochentag für jedes Datum enthält\n",
    "# 0 = Montag, 1 = Dienstag, ..., 6 = Sonntag\n",
    "#merged_data['Wochentag'] = merged_data['Datum'].dt.dayofweek\n",
    "\n",
    "# Optional: Wenn du die Wochentage als Namen anstatt als Zahlen haben möchtest\n",
    "merged_data['Wochentag_name'] = merged_data['Datum'].dt.day_name()\n",
    "\n",
    "print(merged_data)\n",
    "\n",
    "# Jetzt kannst du den DataFrame nach Wochentagen aufteilen\n",
    "# Beispiel: Nur die Daten für Montag\n",
    "montag_df = merged_data[merged_data['Wochentag'] == 0]\n",
    "\n",
    "# Oder für alle Wochentage separat\n",
    "montag_df = merged_data[merged_data['Wochentag'] == 0]\n",
    "dienstag_df = merged_data[merged_data['Wochentag'] == 1]\n",
    "mittwoch_df = merged_data[merged_data['Wochentag'] == 2]\n",
    "donnerstag_df = merged_data[merged_data['Wochentag'] == 3]\n",
    "freitag_df = merged_data[merged_data['Wochentag'] == 4]\n",
    "samstag_df = merged_data[merged_data['Wochentag'] == 5]\n",
    "sonntag_df = merged_data[merged_data['Wochentag'] == 6]\n",
    "\n",
    "# Umsatzdaten um Variable erweitern, die anzeigt, ob der Tag ein Wochenende ist\n",
    "merged_data['Wochenende'] = merged_data['Datum'].dt.dayofweek >= 5\n",
    "\n",
    "# Anzeigen der ersten Zeilen des DataFrame\n",
    "print(merged_data.head())\n",
    "\n",
    "\"\"\"\n",
    "#Druckt die einzelnen WOchentage mit den Daten aus.\n",
    "# Ausgabe der DataFrames\n",
    "print(\"Montag:\")\n",
    "print(montag_df)\n",
    "print(\"\\nDienstag:\")\n",
    "print(dienstag_df)\n",
    "print(\"\\nMittwoch:\")\n",
    "print(mittwoch_df)\n",
    "print(\"\\nDonnerstag:\")\n",
    "print(donnerstag_df)\n",
    "print(\"\\nFreitag:\")\n",
    "print(freitag_df)\n",
    "print(\"\\nSamstag:\")\n",
    "print(samstag_df)\n",
    "print(\"\\nSonntag:\")\n",
    "print(sonntag_df)\n",
    "\"\"\"\n",
    "\n",
    "# Kieler Woche, Wochenende und Temp.abw binär mit 0 und 1 kodieren\n",
    "merged_data['KielerWoche'] = merged_data['KielerWoche'].fillna(0).astype(int)\n",
    "merged_data['Wochenende'] = merged_data['Wochenende'].fillna(0).astype(int)\n",
    "\n",
    "\n",
    "# Exportiere den DataFrame als CSV\n",
    "merged_data.to_csv('merged_data.csv', index=False)"
   ]
  },
  {
   "cell_type": "markdown",
   "metadata": {},
   "source": [
    "# Weitere mögliche Features und Variablen"
   ]
  },
  {
   "cell_type": "markdown",
   "metadata": {},
   "source": [
    "## Kalenderdaten\n",
    "- Schulferien\n",
    "- Saisonale Ereignisse (z.B. Weihnachten, Ostern, u.ä.)\n",
    "- vorheriger Feiertag\n",
    "- Tage bis zum nächsten Feiertag\n"
   ]
  },
  {
   "cell_type": "markdown",
   "metadata": {},
   "source": [
    "Quellen für Kalenderdaten: \n",
    "\n",
    "Calendarific: Bietet APIs für Feiertage und wichtige Ereignisse weltweit. (https://calendarific.com/)\n",
    "Time and Date: Diese Website bietet eine Vielzahl von Kalenderinformationen, einschließlich Feiertage und Schulferien. (https://www.timeanddate.com/)\n",
    "Nationaler Feiertagskalender: Offizielle Regierungs- oder institutionelle Webseiten bieten oft herunterladbare Kalenderdaten für Feiertage und Schulferien."
   ]
  },
  {
   "cell_type": "markdown",
   "metadata": {},
   "source": [
    "### Kalenderdaten laden"
   ]
  },
  {
   "cell_type": "markdown",
   "metadata": {},
   "source": [
    "#Kalenderdaten in CSV-Datei laden\n",
    "\n",
    "datum: Das Datum des Ereignisses.\n",
    "feiertag: Binär (1/0), ob es ein Feiertag ist.\n",
    "ferien: Binär (1/0), ob es Schulferien sind.\n",
    "wochenende: Binär (1/0), ob es ein Wochenende ist.\n",
    "\n",
    "\n",
    "# Kalenderdaten laden\n",
    "kalenderdaten = pd.read_csv('kalenderdaten.csv')\n",
    "\n",
    "# Daten zusammenführen\n",
    "daten = wetterdaten.merge(verkaufsdaten, on='datum')\n",
    "daten = daten.merge(kalenderdaten, on='datum')\n",
    "\n",
    "\n",
    "** Wichtig **\n",
    "Korrekte Formatierung der Kalenderdaten\n"
   ]
  },
  {
   "cell_type": "markdown",
   "metadata": {},
   "source": [
    "zusätzliche Features"
   ]
  },
  {
   "cell_type": "markdown",
   "metadata": {},
   "source": [
    "## Online- und Suchdaten\n",
    "- Google Trend zu Warengruppen"
   ]
  },
  {
   "cell_type": "markdown",
   "metadata": {},
   "source": [
    "## Wirtschaftliche Indikatoren\n",
    "- Verbraucherpreisindex (CPI)\n",
    "- Einzelhandelsumsätze auf regionaler Ebene"
   ]
  },
  {
   "cell_type": "markdown",
   "metadata": {},
   "source": [
    "# Wetterbasierte Features"
   ]
  },
  {
   "cell_type": "markdown",
   "metadata": {},
   "source": [
    "## Temperatur\n",
    "- Durchschnittstemperatur\n",
    "- Höchst- und Tiefsttemperatur\n",
    "- Temperaturabweichung vom Durchschnitt"
   ]
  },
  {
   "cell_type": "markdown",
   "metadata": {},
   "source": [
    "## Niederschlag\n",
    "- Regenmenge\n",
    "- Schneemenge\n",
    "- Anzahl der Niederschlagstage in einem Zeitraum"
   ]
  },
  {
   "cell_type": "markdown",
   "metadata": {},
   "source": [
    "## Sonnenschein\n",
    "- Anzahl der Sonnenstunden\n",
    "- Bewölkungsgrad"
   ]
  },
  {
   "cell_type": "markdown",
   "metadata": {},
   "source": [
    "## Wind\n",
    "- Durchschnittliche Windgeschwindigkeit\n",
    "- Höchste Windböen"
   ]
  },
  {
   "cell_type": "markdown",
   "metadata": {},
   "source": [
    "# Wichtige Hinweise\n",
    "Feature Engineering: Experimentieren Sie mit verschiedenen Features und deren Kombinationen, um herauszufinden, welche am besten zur Vorhersagegenauigkeit beitragen.\n",
    "Feature Selection: Verwenden Sie Techniken wie die Feature-Importance-Analyse, um die wichtigsten Features zu identifizieren und unwichtige zu entfernen.\n",
    "Modellvalidierung: Überprüfen Sie Ihr Modell regelmäßig auf Überanpassung und führen Sie Cross-Validation durch, um die Robustheit Ihres Modells zu gewährleisten."
   ]
  }
 ],
 "metadata": {
  "kernelspec": {
   "display_name": "python_course",
   "language": "python",
   "name": "python3"
  },
  "language_info": {
   "codemirror_mode": {
    "name": "ipython",
    "version": 3
   },
   "file_extension": ".py",
   "mimetype": "text/x-python",
   "name": "python",
   "nbconvert_exporter": "python",
   "pygments_lexer": "ipython3",
   "version": "3.10.13"
  }
 },
 "nbformat": 4,
 "nbformat_minor": 2
}
