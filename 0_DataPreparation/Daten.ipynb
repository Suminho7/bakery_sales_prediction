{
 "cells": [
  {
   "cell_type": "markdown",
   "metadata": {},
   "source": [
    "# Daten einlesen"
   ]
  },
  {
   "cell_type": "markdown",
   "metadata": {},
   "source": [
    "## Notwendige Bibliotheken importieren"
   ]
  },
  {
   "cell_type": "code",
   "execution_count": 1,
   "metadata": {},
   "outputs": [
    {
     "ename": "ModuleNotFoundError",
     "evalue": "No module named 'tensorflow'",
     "output_type": "error",
     "traceback": [
      "\u001b[0;31m---------------------------------------------------------------------------\u001b[0m",
      "\u001b[0;31mModuleNotFoundError\u001b[0m                       Traceback (most recent call last)",
      "Cell \u001b[0;32mIn[1], line 9\u001b[0m\n\u001b[1;32m      7\u001b[0m \u001b[38;5;28;01mfrom\u001b[39;00m \u001b[38;5;21;01msklearn\u001b[39;00m\u001b[38;5;21;01m.\u001b[39;00m\u001b[38;5;21;01mlinear_model\u001b[39;00m \u001b[38;5;28;01mimport\u001b[39;00m LinearRegression\n\u001b[1;32m      8\u001b[0m \u001b[38;5;28;01mfrom\u001b[39;00m \u001b[38;5;21;01msklearn\u001b[39;00m\u001b[38;5;21;01m.\u001b[39;00m\u001b[38;5;21;01mpreprocessing\u001b[39;00m \u001b[38;5;28;01mimport\u001b[39;00m StandardScaler\n\u001b[0;32m----> 9\u001b[0m \u001b[38;5;28;01mimport\u001b[39;00m \u001b[38;5;21;01mtensorflow\u001b[39;00m \u001b[38;5;28;01mas\u001b[39;00m \u001b[38;5;21;01mtf\u001b[39;00m\n",
      "\u001b[0;31mModuleNotFoundError\u001b[0m: No module named 'tensorflow'"
     ]
    }
   ],
   "source": [
    "import pandas as pd\n",
    "import matplotlib.pyplot as plt\n",
    "import statsmodels.formula.api as smf\n",
    "import numpy as np\n",
    "import scipy.stats as stats\n",
    "from sklearn.model_selection import train_test_split\n",
    "from sklearn.linear_model import LinearRegression\n",
    "from sklearn.preprocessing import StandardScaler\n",
    "import tensorflow as tf"
   ]
  },
  {
   "cell_type": "markdown",
   "metadata": {},
   "source": [
    "## Daten laden und in DataFrame verbinden"
   ]
  },
  {
   "cell_type": "code",
   "execution_count": null,
   "metadata": {},
   "outputs": [],
   "source": [
    "# Download Data\n",
    "umsatzdaten_url = \"https://github.com/opencampus-sh/einfuehrung-in-data-science-und-ml/raw/main/umsatzdaten_gekuerzt.csv\"\n",
    "\n",
    "kiwodaten_url = \"https://github.com/opencampus-sh/einfuehrung-in-data-science-und-ml/raw/main/kiwo.csv\"\n",
    "\n",
    "wetterdaten_url = \"https://github.com/opencampus-sh/einfuehrung-in-data-science-und-ml/raw/main/wetter.csv\"\n",
    "\n",
    "# Daten von den URLs herunterladen und in Pandas DataFrames laden\n",
    "umsatzdaten = pd.read_csv(umsatzdaten_url)\n",
    "kiwo = pd.read_csv(kiwodaten_url)\n",
    "wetter = pd.read_csv(wetterdaten_url)\n",
    "\n",
    "#Outer Join\n",
    "merged_data = pd.merge(umsatzdaten, kiwo, on='Datum', how='outer')\n",
    "merged_data = pd.merge(merged_data, wetter, on='Datum', how='outer')\n",
    "\n",
    "# Überprüfen, ob `KielerWoche` NaN-Werte korrekt darstellt\n",
    "print(merged_data['KielerWoche'])\n",
    "\n",
    "# Gib den zusammengeführten DataFrame aus\n",
    "print(merged_data)"
   ]
  },
  {
   "cell_type": "markdown",
   "metadata": {},
   "source": [
    "# Überprüfung auf fehlende Werte"
   ]
  },
  {
   "cell_type": "code",
   "execution_count": null,
   "metadata": {},
   "outputs": [],
   "source": [
    "# Überprüfung auf fehlende Werte pro Spalte\n",
    "missing_values = merged_data.isnull()\n",
    "print(\"Anzahl fehlender Werte pro Spalte:\")\n",
    "print(missing_values.sum())\n",
    "\n",
    "# Gesamte Anzahl fehlender Werte\n",
    "total_missing_values = missing_values.sum().sum()\n",
    "print(\"\\nGesamte Anzahl fehlender Werte:\")\n",
    "print(total_missing_values)\n",
    "\n",
    "\n"
   ]
  },
  {
   "cell_type": "markdown",
   "metadata": {},
   "source": [
    "## Datum konvertieren / Wochentag / Feiertage hinzufügen"
   ]
  },
  {
   "cell_type": "code",
   "execution_count": null,
   "metadata": {},
   "outputs": [],
   "source": [
    "#Konvertiere die Spalte \"Datum\" in einen Datumsdatentypen \n",
    "merged_data[\"Datum\"] = pd.to_datetime(merged_data[\"Datum\"])\n",
    "\n",
    "# Hinzufügen einer Spalte für den numerischen Wochentag (Montag=0, Sonntag=6)\n",
    "merged_data['Wochentag_Numerisch'] = merged_data['Datum'].dt.weekday\n",
    "\n",
    "# Überprüfen, ob `KielerWoche` NaN-Werte korrekt darstellt und Umwandlung in binären Wert\n",
    "merged_data['KielerWoche'] = merged_data['KielerWoche'].notna().astype(int)\n",
    "\n",
    "# Hinzufügen einer Spalte für Wochenenden (Samstag und Sonntag)\n",
    "merged_data['Wochenende'] = (merged_data['Datum'].dt.dayofweek >= 5).astype(int)\n",
    "\n",
    "# Feiertage als Liste von Datumsangaben\n",
    "feiertage = pd.to_datetime([\n",
    "    '2012-01-01', '2012-04-06', '2012-04-09', '2012-05-01', '2012-05-17', '2012-05-28', '2012-10-03', '2012-12-25', '2012-12-26', '2013-01-01', '2013-03-29', '2013-04-01', '2013-05-01', '2013-05-09', '2013-05-20', '2013-10-03', '2013-12-25', '2013-12-26', '2014-01-01', '2014-04-18', '2014-04-21', '2014-05-01', '2014-05-29', '2014-06-09', '2014-10-03', '2014-12-25', '2014-12-26', '2015-01-01', '2015-04-03', '2015-04-06', '2015-05-01', '2015-05-14', '2015-05-25', '2015-10-03', '2015-12-25', '2015-12-26', '2016-01-01', '2016-03-25', '2016-03-28', '2016-05-01', '2016-05-05', '2016-05-16', '2016-10-03', '2016-12-25', '2016-12-26', '2017-01-01', '2017-04-14', '2017-04-17', '2017-05-01', '2017-05-25', '2017-06-05', '2017-10-03', '2017-12-25', '2017-12-26',\n",
    "'2018-01-01', '2018-03-30', '2018-04-02', '2018-05-01', '2018-05-10', '2018-05-21', '2018-10-03', '2018-12-25', '2018-12-26', '2019-01-01', '2019-04-19', '2019-04-22', '2019-05-01', '2019-05-30', '2019-06-10', '2019-10-03', '2019-12-25', '2019-12-26'\n",
    "] )\n",
    "\n",
    "#Füge eine Spalte hinzu, die angibt, ob das Datum ein Feiertag ist (1) oder nicht (0)\n",
    "merged_data['Feiertag'] = merged_data['Datum'].isin(feiertage).astype(int)\n",
    "\n",
    "# Lagged variable für Feiertage (1 Tag vorher)\n",
    "merged_data['TagVorherFeiertag'] = merged_data['Feiertag'].shift(1).fillna(0).astype(int)\n",
    "\n",
    "# Lagged variable für Wochenende (1 Tag vorher)\n",
    "merged_data['TagVorherWochenende'] = merged_data['Wochenende'].shift(1).fillna(0).astype(int)\n",
    "\n",
    "# Lagged variable für den Umsatz im Vergleich zum Vortag\n",
    "merged_data['UmsatzVortag'] = merged_data['Umsatz'].shift(1).fillna(0)"
   ]
  },
  {
   "cell_type": "markdown",
   "metadata": {},
   "source": [
    "## Aggregation des Umsatzes nach Warengruppe und Feiertag / nach Wochentag"
   ]
  },
  {
   "cell_type": "code",
   "execution_count": null,
   "metadata": {},
   "outputs": [],
   "source": [
    "# Aggregation des Umsatzes nach Warengruppe und Feiertag\n",
    "umsatz_nach_warengruppe_feiertag = merged_data.groupby(['Warengruppe', 'Feiertag'])['Umsatz'].sum().reset_index()\n",
    "print(umsatz_nach_warengruppe_feiertag)\n",
    "\n",
    "# Aggregation des Umsatzes nach Wochentag und Warengruppe\n",
    "umsatz_nach_wochentag_warengruppe = merged_data.groupby(['Wochentag_Numerisch', 'Warengruppe'])['Umsatz'].sum().reset_index()\n",
    "print(umsatz_nach_wochentag_warengruppe)"
   ]
  },
  {
   "cell_type": "markdown",
   "metadata": {},
   "source": [
    "### Visualisierung"
   ]
  },
  {
   "cell_type": "code",
   "execution_count": null,
   "metadata": {},
   "outputs": [],
   "source": [
    "# Erstelle die Visualisierung\n",
    "plt.figure(figsize=(10, 6))\n",
    "for warengruppe in umsatz_je_wochentag_warengruppe[\"Warengruppe\"].unique():\n",
    "    data = umsatz_je_wochentag_warengruppe[umsatz_je_wochentag_warengruppe[\"Warengruppe\"] == warengruppe]\n",
    "    plt.plot(data[\"Wochentag_Numerisch\"], data[\"Umsatz\"], marker='o', label=warengruppe)\n",
    "\n",
    "plt.xlabel(\"Wochentag_Numerisch\")\n",
    "plt.ylabel(\"Umsatz\")\n",
    "plt.title(\"Umsatz je Wochentag und Warengruppe\")\n",
    "plt.legend(title=\"Warengruppe\")\n",
    "plt.xticks(rotation=45)"
   ]
  },
  {
   "cell_type": "markdown",
   "metadata": {},
   "source": [
    "# Deskriptive Statistiken berechnen"
   ]
  },
  {
   "cell_type": "code",
   "execution_count": null,
   "metadata": {},
   "outputs": [],
   "source": [
    "# Temperatur\n",
    "temp_stats = merged_data['Temperatur'].describe()\n",
    "\n",
    "# Umsatz\n",
    "umsatz_stats = merged_data['Umsatz'].describe()\n",
    "\n",
    "# Wind\n",
    "wind_stats = merged_data['Windgeschwindigkeit'].describe()\n",
    "\n",
    "# Umsatz je Warengruppe\n",
    "deskriptive_statistiken = merged_data.groupby(\"Warengruppe\")[\"Umsatz\"].describe()"
   ]
  },
  {
   "cell_type": "markdown",
   "metadata": {},
   "source": [
    "## Output deskriptive Statistiken"
   ]
  },
  {
   "cell_type": "code",
   "execution_count": null,
   "metadata": {},
   "outputs": [],
   "source": [
    "# Output der Deskriptiven Statistiken\n",
    "print(\"Deskriptive Statistiken für Temperatur:\")\n",
    "print(temp_stats)\n",
    "\n",
    "print(\"\\nDeskriptive Statistiken für Umsatz:\")\n",
    "print(umsatz_stats)\n",
    "\n",
    "print(\"\\nDeskriptive Statistiken für Windgeschwindigkeit:\")\n",
    "print(wind_stats)\n",
    "\n",
    "# Ausgabe der deskriptiven Statistiken\n",
    "print(deskriptive_statistiken)"
   ]
  },
  {
   "cell_type": "markdown",
   "metadata": {},
   "source": [
    "# Korrelationen berechnen"
   ]
  },
  {
   "cell_type": "code",
   "execution_count": null,
   "metadata": {},
   "outputs": [],
   "source": [
    "# Korrelationen berechnen\n",
    "corr_umsatz_weekend = merged_data['Umsatz'].corr(merged_data['Wochenende'].astype(int))\n",
    "corr_umsatz_weekday = merged_data.groupby('Wochentag_Numerisch')['Umsatz'].mean()\n",
    "corr_umsatz_temp = merged_data['Umsatz'].corr(merged_data['Temperatur'])\n",
    "corr_umsatz_wind = merged_data['Umsatz'].corr(merged_data['Windgeschwindigkeit'])\n",
    "\n",
    "# Korrelationsmatrix für Umsatzdaten\n",
    "corr_matrix = merged_data.corr()\n",
    "\n",
    "# Korrelationen zwischen Umsatz und einzelnen Wochentagen berechnen\n",
    "corr_umsatz_weekdays = {}\n",
    "for day in range(7):\n",
    "    # Filtere den DataFrame nach dem aktuellen Wochentag\n",
    "    day_data = merged_data[merged_data['Wochentag_Numerisch'] == day]\n",
    "    # Berechne die Korrelation zwischen Umsatz und dem aktuellen Wochentag\n",
    "    corr = day_data['Umsatz'].corr(day_data['Wochentag_Numerisch'])\n",
    "    # Speichere die Korrelation für den aktuellen Wochentag\n",
    "    corr_umsatz_weekdays[day] = corr\n",
    "\n",
    "# Ausgabe der Korrelationen für die einzelnen Wochentage\n",
    "for day, corr in corr_umsatz_weekdays.items():\n",
    "    print(f\"Korrelation zwischen Umsatz und {day}: {corr}\")\n",
    "\n",
    "# Berechne die Kontingenztabelle\n",
    "kontingenztabelle = pd.crosstab(merged_data[\"Warengruppe\"], merged_data[\"Wochenende\"])\n",
    "\n",
    "# Berechne Cramér's V\n",
    "chi2 = stats.chi2_contingency(kontingenztabelle)[0]\n",
    "n = kontingenztabelle.sum().sum()\n",
    "min_dim = min(kontingenztabelle.shape) - 1\n",
    "cramers_v = np.sqrt(chi2 / (n * min_dim))\n",
    "\n",
    "print(f\"Cramér's V: {cramers_v}\")\n",
    "\n",
    "# Optional: Ausgabe der Kontingenztabelle zur Überprüfung\n",
    "print(kontingenztabelle)"
   ]
  },
  {
   "cell_type": "markdown",
   "metadata": {},
   "source": [
    "# Lineares Modelle"
   ]
  },
  {
   "cell_type": "markdown",
   "metadata": {},
   "source": [
    "## lineares Modell 1"
   ]
  },
  {
   "cell_type": "code",
   "execution_count": null,
   "metadata": {},
   "outputs": [],
   "source": [
    "# Fit the linear model including categorical variables and additional features\n",
    "mod = smf.ols('Umsatz ~ C(Warengruppe) + Temperatur + Wochenende + KielerWoche + C(Wochentag_Numerisch)  ', data=merged_data).fit()\n",
    "\n",
    "# Print the summary\n",
    "print(mod.summary())"
   ]
  },
  {
   "cell_type": "markdown",
   "metadata": {},
   "source": [
    "## lineares modell 2"
   ]
  },
  {
   "cell_type": "code",
   "execution_count": null,
   "metadata": {},
   "outputs": [],
   "source": [
    "mod = smf.ols('Umsatz ~ C(Warengruppe) + Temperatur + Wochenende + KielerWoche  + C(Wochentag_Numerisch)', data=merged_data).fit()\n",
    "\n",
    "# Print the summary\n",
    "print(mod.summary())\n",
    "\n"
   ]
  },
  {
   "cell_type": "markdown",
   "metadata": {},
   "source": [
    "## lineares modell 3"
   ]
  },
  {
   "cell_type": "code",
   "execution_count": null,
   "metadata": {},
   "outputs": [],
   "source": [
    "# Baue das Modell, inklusive Interaktionsterm zwischen Warengruppe und Wochentag\n",
    "mod = smf.ols('Umsatz ~ C(Warengruppe) * C(Wochentag_Numerisch) + Temperatur + Wochenende + KielerWoche', data=merged_data).fit()\n",
    "\n",
    "# Print the summary\n",
    "print(mod.summary())"
   ]
  },
  {
   "cell_type": "markdown",
   "metadata": {},
   "source": [
    "## lineares modell 4"
   ]
  },
  {
   "cell_type": "code",
   "execution_count": null,
   "metadata": {},
   "outputs": [],
   "source": [
    "# Baue das Modell, inklusive Interaktionstermen zwischen Warengruppe und Wochentag sowie Warengruppe und KielerWoche\n",
    "mod = smf.ols('Umsatz ~ C(Warengruppe) * C(Wochentag_Numerisch) + Temperatur + Wochenende + C(Warengruppe) * KielerWoche', data=merged_data).fit()\n",
    "\n",
    "# Print the summary\n",
    "print(mod.summary())"
   ]
  },
  {
   "cell_type": "markdown",
   "metadata": {},
   "source": [
    "## lineares modell 5"
   ]
  },
  {
   "cell_type": "code",
   "execution_count": null,
   "metadata": {},
   "outputs": [],
   "source": [
    "# Fit the linear model including categorical variables and additional features\n",
    "mod = smf.ols('Umsatz ~ C(Warengruppe) + Temperatur + Wochenende + KielerWoche + C(Wochentag_Numerisch)  ', data=merged_data).fit()\n",
    "\n",
    "# Print the summary\n",
    "print(mod.summary())"
   ]
  },
  {
   "cell_type": "markdown",
   "metadata": {},
   "source": [
    "## lineares modell 6 -> bestes Ergebnis bisher"
   ]
  },
  {
   "cell_type": "code",
   "execution_count": null,
   "metadata": {},
   "outputs": [],
   "source": [
    "# Modell inklusive Interaktionen zwischen Warengruppe und Wochentag sowie Warengruppe und KielerWoche\n",
    "# Zusätzlich Interaktion zwischen lagged variables und Warengruppe hinzugefügt\n",
    "mod = smf.ols('Umsatz ~ C(Warengruppe) * C(Wochentag_Numerisch) + Temperatur + Wochenende + C(Warengruppe) * KielerWoche + TagVorherFeiertag * C(Warengruppe) + TagVorherWochenende * C(Warengruppe) + UmsatzVortag * C(Warengruppe)', data=merged_data).fit()\n",
    "\n",
    "# Modellzusammenfassung anzeigen\n",
    "print(mod.summary())"
   ]
  },
  {
   "cell_type": "markdown",
   "metadata": {},
   "source": [
    "# Aufteilung der Daten"
   ]
  },
  {
   "cell_type": "code",
   "execution_count": null,
   "metadata": {},
   "outputs": [],
   "source": [
    "# Aufteilen des Datensatzes in Trainings- und Validierungsdaten (70:30)\n",
    "train_data, validation_data = train_test_split(merged_data, test_size=0.3, random_state=42)\n"
   ]
  },
  {
   "cell_type": "markdown",
   "metadata": {},
   "source": [
    "# Training des Modell"
   ]
  },
  {
   "cell_type": "markdown",
   "metadata": {},
   "source": [
    "## Fehlende Werte "
   ]
  },
  {
   "cell_type": "code",
   "execution_count": null,
   "metadata": {},
   "outputs": [],
   "source": [
    "# Anzeige der Anzahl der fehlenden Werte in jeder Spalte\n",
    "missing_values = merged_data.isnull().sum()\n",
    "print(missing_values)\n",
    "\n",
    "# Anzeige der Gesamtanzahl der fehlenden Werte\n",
    "total_missing_values = merged_data.isnull().sum().sum()\n",
    "print(f\"Gesamtanzahl der fehlenden Werte: {total_missing_values}\")"
   ]
  },
  {
   "cell_type": "code",
   "execution_count": null,
   "metadata": {},
   "outputs": [],
   "source": [
    "# Imputation mit dem Mittelwert für numerische Spalten im Trainingsdatensatz\n",
    "train_data_imputed = train_data.copy()\n",
    "numerische_spalten = train_data.select_dtypes(include=np.number).columns\n",
    "train_data_imputed[numerische_spalten] = train_data[numerische_spalten].fillna(train_data[numerische_spalten].mean())\n",
    "\n",
    "# Imputation mit dem Mittelwert für numerische Spalten im Trainingsdatensatz\n",
    "train_data_imputed = train_data.copy()\n",
    "numerische_spalten = train_data.select_dtypes(include=np.number).columns\n",
    "train_data_imputed[numerische_spalten] = train_data[numerische_spalten].fillna(train_data[numerische_spalten].mean())\n"
   ]
  },
  {
   "cell_type": "code",
   "execution_count": null,
   "metadata": {},
   "outputs": [],
   "source": [
    "# Modellbildung mit Statsmodels\n",
    "formula = 'Umsatz ~ C(Warengruppe) * C(Wochentag_Numerisch) + Temperatur + Wochenende + C(Warengruppe) * KielerWoche + TagVorherFeiertag * C(Warengruppe) + TagVorherWochenende * C(Warengruppe) + UmsatzVortag * C(Warengruppe)'\n",
    "mod = smf.ols(formula, data=train_data_imputed).fit()\n",
    "\n",
    "# Modellzusammenfassung anzeigen\n",
    "print(mod.summary())"
   ]
  },
  {
   "cell_type": "markdown",
   "metadata": {},
   "source": [
    "## Modell trainieren"
   ]
  },
  {
   "cell_type": "code",
   "execution_count": null,
   "metadata": {},
   "outputs": [],
   "source": []
  }
 ],
 "metadata": {
  "kernelspec": {
   "display_name": "python_course",
   "language": "python",
   "name": "python3"
  },
  "language_info": {
   "codemirror_mode": {
    "name": "ipython",
    "version": 3
   },
   "file_extension": ".py",
   "mimetype": "text/x-python",
   "name": "python",
   "nbconvert_exporter": "python",
   "pygments_lexer": "ipython3",
   "version": "3.10.13"
  }
 },
 "nbformat": 4,
 "nbformat_minor": 2
}
