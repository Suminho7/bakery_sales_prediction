{
 "cells": [
  {
   "cell_type": "markdown",
   "metadata": {},
   "source": [
    "# Daten einlesen"
   ]
  },
  {
   "cell_type": "markdown",
   "metadata": {},
   "source": [
    "## Notwendige Bibliotheken importieren"
   ]
  },
  {
   "cell_type": "code",
   "execution_count": 69,
   "metadata": {},
   "outputs": [],
   "source": [
    "import pandas as pd\n",
    "import matplotlib.pyplot as plt\n",
    "import statsmodels.formula.api as smf\n",
    "import numpy as np\n",
    "import scipy.stats as stats\n",
    "from sklearn.model_selection import train_test_split\n",
    "from sklearn.linear_model import LinearRegression"
   ]
  },
  {
   "cell_type": "markdown",
   "metadata": {},
   "source": [
    "## Daten laden und in DataFrame verbinden"
   ]
  },
  {
   "cell_type": "code",
   "execution_count": 70,
   "metadata": {},
   "outputs": [
    {
     "name": "stdout",
     "output_type": "stream",
     "text": [
      "            Datum  Warengruppe  Umsatz  KielerWoche  Bewoelkung  Temperatur  \\\n",
      "0      2012-01-01          NaN     NaN          NaN         8.0      9.8250   \n",
      "1      2012-01-02          NaN     NaN          NaN         7.0      7.4375   \n",
      "2      2012-01-03          NaN     NaN          NaN         8.0      5.5375   \n",
      "3      2012-01-04          NaN     NaN          NaN         4.0      5.6875   \n",
      "4      2012-01-05          NaN     NaN          NaN         6.0      5.3000   \n",
      "...           ...          ...     ...          ...         ...         ...   \n",
      "10114  2019-07-28          NaN     NaN          NaN         3.0     23.3500   \n",
      "10115  2019-07-29          NaN     NaN          NaN         6.0     25.2500   \n",
      "10116  2019-07-30          NaN     NaN          NaN         7.0     20.7375   \n",
      "10117  2019-07-31          NaN     NaN          NaN         6.0     20.4500   \n",
      "10118  2019-08-01          NaN     NaN          NaN         5.0     21.0625   \n",
      "\n",
      "       Windgeschwindigkeit  Wettercode  \n",
      "0                     14.0        58.0  \n",
      "1                     12.0         NaN  \n",
      "2                     18.0        63.0  \n",
      "3                     19.0        80.0  \n",
      "4                     23.0        80.0  \n",
      "...                    ...         ...  \n",
      "10114                 14.0         5.0  \n",
      "10115                  7.0        61.0  \n",
      "10116                  8.0        61.0  \n",
      "10117                  7.0        61.0  \n",
      "10118                  9.0        61.0  \n",
      "\n",
      "[10119 rows x 8 columns]\n"
     ]
    }
   ],
   "source": [
    "# Download Data\n",
    "umsatzdaten_url = \"https://github.com/opencampus-sh/einfuehrung-in-data-science-und-ml/raw/main/umsatzdaten_gekuerzt.csv\"\n",
    "\n",
    "kiwodaten_url = \"https://github.com/opencampus-sh/einfuehrung-in-data-science-und-ml/raw/main/kiwo.csv\"\n",
    "\n",
    "wetterdaten_url = \"https://github.com/opencampus-sh/einfuehrung-in-data-science-und-ml/raw/main/wetter.csv\"\n",
    "\n",
    "# Daten von den URLs herunterladen und in Pandas DataFrames laden\n",
    "umsatzdaten = pd.read_csv(umsatzdaten_url)\n",
    "kiwo = pd.read_csv(kiwodaten_url)\n",
    "wetter = pd.read_csv(wetterdaten_url)\n",
    "\n",
    "#Outer Join\n",
    "merged_data = pd.merge(umsatzdaten, kiwo, on='Datum', how='outer')\n",
    "merged_data = pd.merge(merged_data, wetter, on='Datum', how='outer')\n",
    "\n",
    "# Gib den zusammengeführten DataFrame aus\n",
    "print(merged_data)"
   ]
  },
  {
   "cell_type": "code",
   "execution_count": 71,
   "metadata": {},
   "outputs": [
    {
     "name": "stdout",
     "output_type": "stream",
     "text": [
      "Anzahl fehlender Werte pro Spalte:\n",
      "Datum                     0\n",
      "Warengruppe             785\n",
      "Umsatz                  785\n",
      "KielerWoche            9869\n",
      "Bewoelkung               71\n",
      "Temperatur               16\n",
      "Windgeschwindigkeit      16\n",
      "Wettercode             2538\n",
      "dtype: int64\n",
      "\n",
      "Gesamte Anzahl fehlender Werte:\n",
      "14080\n"
     ]
    }
   ],
   "source": [
    "# Überprüfung auf fehlende Werte\n",
    "missing_values = merged_data.isnull()\n",
    "\n",
    "# Ausgabe der Anzahl fehlender Werte pro Spalte\n",
    "print(\"Anzahl fehlender Werte pro Spalte:\")\n",
    "print(missing_values.sum())\n",
    "\n",
    "# Alternativ: Anzeige der gesamten fehlenden Werte\n",
    "print(\"\\nGesamte Anzahl fehlender Werte:\")\n",
    "print(missing_values.sum().sum())"
   ]
  },
  {
   "cell_type": "markdown",
   "metadata": {},
   "source": [
    "## Datum konvertieren / Wochentag hinzufügen"
   ]
  },
  {
   "cell_type": "markdown",
   "metadata": {},
   "source": [
    "Hier ist der Unterschied im Modell zu finden! Der auskommentierte Code führt dazu, dass sich der Wert von 0.877 auf 0.7?? ändert"
   ]
  },
  {
   "cell_type": "code",
   "execution_count": 72,
   "metadata": {},
   "outputs": [
    {
     "name": "stdout",
     "output_type": "stream",
     "text": [
      "           Datum  Warengruppe  Umsatz  KielerWoche  Bewoelkung  Temperatur  \\\n",
      "0     2012-01-01          NaN     NaN            0         8.0      9.8250   \n",
      "1     2012-01-02          NaN     NaN            0         7.0      7.4375   \n",
      "2     2012-01-03          NaN     NaN            0         8.0      5.5375   \n",
      "3     2012-01-04          NaN     NaN            0         4.0      5.6875   \n",
      "4     2012-01-05          NaN     NaN            0         6.0      5.3000   \n",
      "...          ...          ...     ...          ...         ...         ...   \n",
      "10114 2019-07-28          NaN     NaN            0         3.0     23.3500   \n",
      "10115 2019-07-29          NaN     NaN            0         6.0     25.2500   \n",
      "10116 2019-07-30          NaN     NaN            0         7.0     20.7375   \n",
      "10117 2019-07-31          NaN     NaN            0         6.0     20.4500   \n",
      "10118 2019-08-01          NaN     NaN            0         5.0     21.0625   \n",
      "\n",
      "       Windgeschwindigkeit  Wettercode  Wochentag_Numerisch  Wochenende  \n",
      "0                     14.0        58.0                    6           1  \n",
      "1                     12.0         NaN                    0           0  \n",
      "2                     18.0        63.0                    1           0  \n",
      "3                     19.0        80.0                    2           0  \n",
      "4                     23.0        80.0                    3           0  \n",
      "...                    ...         ...                  ...         ...  \n",
      "10114                 14.0         5.0                    6           1  \n",
      "10115                  7.0        61.0                    0           0  \n",
      "10116                  8.0        61.0                    1           0  \n",
      "10117                  7.0        61.0                    2           0  \n",
      "10118                  9.0        61.0                    3           0  \n",
      "\n",
      "[10119 rows x 10 columns]\n"
     ]
    }
   ],
   "source": [
    "#Konvertiere die Spalte \"Datum\" in einen Datumsdatentypen \n",
    "merged_data[\"Datum\"] = pd.to_datetime(merged_data[\"Datum\"])\n",
    "\n",
    "# 1. Spalte für Wochentage als numerischen Wert hinzufügen\n",
    "merged_data['Wochentag_Numerisch'] = merged_data['Datum'].dt.weekday\n",
    "\n",
    "# Fülle NaN-Werte in 'Kieler Woche' mit 0\n",
    "#merged_data['KielerWoche'] = merged_data['KielerWoche'].fillna(0)\n",
    "\n",
    "# Füge eine Spalte hinzu, die angibt, ob es sich um die Kieler Woche handelt\n",
    "#merged_data['KielerWoche'] = merged_data['KielerWoche'].astype(int) #(wenn ich diesen code mit einfüge, dann ändert sich der wert im modell)\n",
    "\n",
    "# Füge eine Spalte hinzu, die angibt, ob es sich um ein Wochenende handelt\n",
    "merged_data['Wochenende'] = merged_data['Datum'].dt.dayofweek >= 5\n",
    "merged_data['Wochenende'] = merged_data['Wochenende'].astype(int)\n",
    "\n",
    "print(merged_data)"
   ]
  },
  {
   "cell_type": "markdown",
   "metadata": {},
   "source": [
    "#Konvertiere die Spalte \"Datum\" in einen Datumsdatentypen \n",
    "merged_data[\"Datum\"] = pd.to_datetime(merged_data[\"Datum\"])\n",
    "\n",
    "# 1. Spalte für Wochentage als numerischen Wert hinzufügen\n",
    "merged_data['Wochentag_Numerisch'] = merged_data['Datum'].dt.weekday\n",
    "\n",
    "# Fülle NaN-Werte in 'Kieler Woche' mit 0\n",
    "#merged_data['KielerWoche'] = merged_data['KielerWoche'].fillna(0)\n",
    "\n",
    "# Füge eine Spalte hinzu, die angibt, ob es sich um die Kieler Woche handelt\n",
    "#merged_data['KielerWoche'] = merged_data['KielerWoche'].astype(int)\n",
    "--> wenn ich diesen Kommentar raus\n",
    "# Füge eine Spalte hinzu, die angibt, ob es sich um ein Wochenende handelt\n",
    "merged_data['Wochenende'] = merged_data['Datum'].dt.dayofweek >= 5\n",
    "#merged_data['Wochenende'] = merged_data['Wochenende'].astype(int)\n",
    "\n",
    "print(merged_data)"
   ]
  },
  {
   "cell_type": "markdown",
   "metadata": {},
   "source": [
    "## Feiertage hinzufügen / Umsatz je Feiertag und Warengruppe"
   ]
  },
  {
   "cell_type": "code",
   "execution_count": 73,
   "metadata": {},
   "outputs": [
    {
     "name": "stdout",
     "output_type": "stream",
     "text": [
      "           Datum  Warengruppe  Umsatz  KielerWoche  Bewoelkung  Temperatur  \\\n",
      "0     2012-01-01          NaN     NaN            0         8.0      9.8250   \n",
      "1     2012-01-02          NaN     NaN            0         7.0      7.4375   \n",
      "2     2012-01-03          NaN     NaN            0         8.0      5.5375   \n",
      "3     2012-01-04          NaN     NaN            0         4.0      5.6875   \n",
      "4     2012-01-05          NaN     NaN            0         6.0      5.3000   \n",
      "...          ...          ...     ...          ...         ...         ...   \n",
      "10114 2019-07-28          NaN     NaN            0         3.0     23.3500   \n",
      "10115 2019-07-29          NaN     NaN            0         6.0     25.2500   \n",
      "10116 2019-07-30          NaN     NaN            0         7.0     20.7375   \n",
      "10117 2019-07-31          NaN     NaN            0         6.0     20.4500   \n",
      "10118 2019-08-01          NaN     NaN            0         5.0     21.0625   \n",
      "\n",
      "       Windgeschwindigkeit  Wettercode  Wochentag_Numerisch  Wochenende  \\\n",
      "0                     14.0        58.0                    6           1   \n",
      "1                     12.0         NaN                    0           0   \n",
      "2                     18.0        63.0                    1           0   \n",
      "3                     19.0        80.0                    2           0   \n",
      "4                     23.0        80.0                    3           0   \n",
      "...                    ...         ...                  ...         ...   \n",
      "10114                 14.0         5.0                    6           1   \n",
      "10115                  7.0        61.0                    0           0   \n",
      "10116                  8.0        61.0                    1           0   \n",
      "10117                  7.0        61.0                    2           0   \n",
      "10118                  9.0        61.0                    3           0   \n",
      "\n",
      "       Feiertag  \n",
      "0             1  \n",
      "1             0  \n",
      "2             0  \n",
      "3             0  \n",
      "4             0  \n",
      "...         ...  \n",
      "10114         0  \n",
      "10115         0  \n",
      "10116         0  \n",
      "10117         0  \n",
      "10118         0  \n",
      "\n",
      "[10119 rows x 11 columns]\n",
      "   Feiertag        Umsatz\n",
      "0         0  1.903069e+06\n",
      "1         1  2.672691e+04\n"
     ]
    }
   ],
   "source": [
    "# Feiertage als Liste von Datumsangaben (Beispieldaten)\n",
    "feiertage = pd.to_datetime([\n",
    "    '2012-01-01', '2012-04-06', '2012-04-09', '2012-05-01', '2012-05-17', '2012-05-28', '2012-10-03', '2012-12-25', '2012-12-26', '2013-01-01', '2013-03-29', '2013-04-01', '2013-05-01', '2013-05-09', '2013-05-20', '2013-10-03', '2013-12-25', '2013-12-26', '2014-01-01', '2014-04-18', '2014-04-21', '2014-05-01', '2014-05-29', '2014-06-09', '2014-10-03', '2014-12-25', '2014-12-26', '2015-01-01', '2015-04-03', '2015-04-06', '2015-05-01', '2015-05-14', '2015-05-25', '2015-10-03', '2015-12-25', '2015-12-26', '2016-01-01', '2016-03-25', '2016-03-28', '2016-05-01', '2016-05-05', '2016-05-16', '2016-10-03', '2016-12-25', '2016-12-26', '2017-01-01', '2017-04-14', '2017-04-17', '2017-05-01', '2017-05-25', '2017-06-05', '2017-10-03', '2017-12-25', '2017-12-26',\n",
    "'2018-01-01', '2018-03-30', '2018-04-02', '2018-05-01', '2018-05-10', '2018-05-21', '2018-10-03', '2018-12-25', '2018-12-26', '2019-01-01', '2019-04-19', '2019-04-22', '2019-05-01', '2019-05-30', '2019-06-10', '2019-10-03', '2019-12-25', '2019-12-26'\n",
    "] )\n",
    "\n",
    "# Füge eine Spalte hinzu, die anzeigt, ob das Datum ein Feiertag ist (1) oder nicht (0)\n",
    "merged_data['Feiertag'] = merged_data['Datum'].isin(feiertage).astype(int)\n",
    "\n",
    "# Anzeige des DataFrames mit der neuen Spalte\n",
    "print(merged_data)\n",
    "\n",
    "# Gruppieren nach Feiertag und Warengruppe und Aggregieren des Umsatzes\n",
    "umsatz_je_feiertag_warengruppe = merged_data.groupby(['Feiertag'] + [col for col in merged_data.columns if 'Warengruppe_' in col])['Umsatz'].sum().reset_index()\n",
    "\n",
    "# Anzeige der Ergebnisse\n",
    "print(umsatz_je_feiertag_warengruppe)\n"
   ]
  },
  {
   "cell_type": "markdown",
   "metadata": {},
   "source": [
    "## Umsatz nach Wochentag und Warengruppe gruppieren"
   ]
  },
  {
   "cell_type": "code",
   "execution_count": 74,
   "metadata": {},
   "outputs": [
    {
     "name": "stdout",
     "output_type": "stream",
     "text": [
      "    Wochentag_Numerisch  Warengruppe         Umsatz\n",
      "0                     0          1.0   34349.518577\n",
      "1                     0          2.0   94518.267009\n",
      "2                     0          3.0   38768.415694\n",
      "3                     0          4.0   20668.483499\n",
      "4                     0          5.0   65505.413757\n",
      "5                     0          6.0    2633.407614\n",
      "6                     1          1.0   31035.935115\n",
      "7                     1          2.0   92908.071950\n",
      "8                     1          3.0   38040.052609\n",
      "9                     1          4.0   19807.539861\n",
      "10                    1          5.0   68043.250991\n",
      "11                    1          6.0    2950.421577\n",
      "12                    2          1.0   30686.879782\n",
      "13                    2          2.0   91747.856697\n",
      "14                    2          3.0   37755.007020\n",
      "15                    2          4.0   19276.580698\n",
      "16                    2          5.0   69612.460394\n",
      "17                    2          6.0    2516.051662\n",
      "18                    3          1.0   35131.645020\n",
      "19                    3          2.0   94031.839875\n",
      "20                    3          3.0   37253.891937\n",
      "21                    3          4.0   19532.368451\n",
      "22                    3          5.0   68808.535855\n",
      "23                    3          6.0    3013.572798\n",
      "24                    4          1.0   32718.556908\n",
      "25                    4          2.0   94979.742448\n",
      "26                    4          3.0   38620.516552\n",
      "27                    4          4.0   19738.297666\n",
      "28                    4          5.0   69157.523580\n",
      "29                    4          6.0    2784.949199\n",
      "30                    5          1.0   38593.824977\n",
      "31                    5          2.0  125001.295223\n",
      "32                    5          3.0   52594.737848\n",
      "33                    5          4.0   21738.211629\n",
      "34                    5          5.0   81447.091239\n",
      "35                    5          6.0    3028.201958\n",
      "36                    6          1.0   19660.863080\n",
      "37                    6          2.0  138956.626316\n",
      "38                    6          3.0   54084.511046\n",
      "39                    6          4.0   34565.356110\n",
      "40                    6          5.0   80916.754334\n",
      "41                    6          6.0    2613.052615\n"
     ]
    },
    {
     "data": {
      "text/plain": [
       "<Figure size 640x480 with 0 Axes>"
      ]
     },
     "metadata": {},
     "output_type": "display_data"
    }
   ],
   "source": [
    "# Gruppiere die Daten nach Wochentag und Warengruppe und aggregiere die Umsätze\n",
    "umsatz_je_wochentag_warengruppe = merged_data.groupby([\"Wochentag_Numerisch\", \"Warengruppe\"])[\"Umsatz\"].sum().reset_index()\n",
    "\n",
    "# Ausgabe des Ergebnisses\n",
    "print(umsatz_je_wochentag_warengruppe)\n",
    "\n",
    "plt.tight_layout()\n",
    "plt.show()"
   ]
  },
  {
   "cell_type": "markdown",
   "metadata": {},
   "source": [
    "### Visualisierung"
   ]
  },
  {
   "cell_type": "code",
   "execution_count": 75,
   "metadata": {},
   "outputs": [
    {
     "data": {
      "text/plain": [
       "(array([-1.,  0.,  1.,  2.,  3.,  4.,  5.,  6.,  7.]),\n",
       " [Text(-1.0, 0, '−1'),\n",
       "  Text(0.0, 0, '0'),\n",
       "  Text(1.0, 0, '1'),\n",
       "  Text(2.0, 0, '2'),\n",
       "  Text(3.0, 0, '3'),\n",
       "  Text(4.0, 0, '4'),\n",
       "  Text(5.0, 0, '5'),\n",
       "  Text(6.0, 0, '6'),\n",
       "  Text(7.0, 0, '7')])"
      ]
     },
     "execution_count": 75,
     "metadata": {},
     "output_type": "execute_result"
    },
    {
     "data": {
      "image/png": "[encoded data removed]",
      "text/plain": [
       "<Figure size 1000x600 with 1 Axes>"
      ]
     },
     "metadata": {},
     "output_type": "display_data"
    }
   ],
   "source": [
    "# Erstelle die Visualisierung\n",
    "plt.figure(figsize=(10, 6))\n",
    "for warengruppe in umsatz_je_wochentag_warengruppe[\"Warengruppe\"].unique():\n",
    "    data = umsatz_je_wochentag_warengruppe[umsatz_je_wochentag_warengruppe[\"Warengruppe\"] == warengruppe]\n",
    "    plt.plot(data[\"Wochentag_Numerisch\"], data[\"Umsatz\"], marker='o', label=warengruppe)\n",
    "\n",
    "plt.xlabel(\"Wochentag_Numerisch\")\n",
    "plt.ylabel(\"Umsatz\")\n",
    "plt.title(\"Umsatz je Wochentag und Warengruppe\")\n",
    "plt.legend(title=\"Warengruppe\")\n",
    "plt.xticks(rotation=45)"
   ]
  },
  {
   "cell_type": "markdown",
   "metadata": {},
   "source": [
    "# Deskriptive Statistiken berechnen"
   ]
  },
  {
   "cell_type": "code",
   "execution_count": 76,
   "metadata": {},
   "outputs": [],
   "source": [
    "# Temperatur\n",
    "temp_stats = merged_data['Temperatur'].describe()\n",
    "\n",
    "# Umsatz\n",
    "umsatz_stats = merged_data['Umsatz'].describe()\n",
    "\n",
    "# Wind\n",
    "wind_stats = merged_data['Windgeschwindigkeit'].describe()\n",
    "\n",
    "# Umsatz je Warengruppe\n",
    "deskriptive_statistiken = merged_data.groupby(\"Warengruppe\")[\"Umsatz\"].describe()"
   ]
  },
  {
   "cell_type": "markdown",
   "metadata": {},
   "source": [
    "## Output deskriptive Statistiken"
   ]
  },
  {
   "cell_type": "code",
   "execution_count": 77,
   "metadata": {},
   "outputs": [
    {
     "name": "stdout",
     "output_type": "stream",
     "text": [
      "Deskriptive Statistiken für Temperatur:\n",
      "count    10103.000000\n",
      "mean        12.014560\n",
      "std          7.212466\n",
      "min        -10.250000\n",
      "25%          6.250000\n",
      "50%         11.625000\n",
      "75%         17.875000\n",
      "max         32.671428\n",
      "Name: Temperatur, dtype: float64\n",
      "\n",
      "Deskriptive Statistiken für Umsatz:\n",
      "count    9334.000000\n",
      "mean      206.749044\n",
      "std       144.545189\n",
      "min         7.051201\n",
      "25%        96.897441\n",
      "50%       161.900831\n",
      "75%       280.644663\n",
      "max      1879.461831\n",
      "Name: Umsatz, dtype: float64\n",
      "\n",
      "Deskriptive Statistiken für Windgeschwindigkeit:\n",
      "count    10103.000000\n",
      "mean        11.026527\n",
      "std          4.131774\n",
      "min          3.000000\n",
      "25%          8.000000\n",
      "50%         10.000000\n",
      "75%         13.000000\n",
      "max         35.000000\n",
      "Name: Windgeschwindigkeit, dtype: float64\n",
      "              count        mean         std         min         25%  \\\n",
      "Warengruppe                                                           \n",
      "1.0          1819.0  122.142509   40.299209   23.108406   96.436728   \n",
      "2.0          1819.0  402.497911  139.660208  174.999832  289.050638   \n",
      "3.0          1819.0  163.340920   75.578308   37.739245  105.589349   \n",
      "4.0          1766.0   87.954042   35.318400   27.433726   66.024297   \n",
      "5.0          1819.0  276.795509   99.472740  121.493282  228.972912   \n",
      "6.0           292.0   66.916635   32.372569    7.051201   41.559645   \n",
      "\n",
      "                    50%         75%          max  \n",
      "Warengruppe                                       \n",
      "1.0          120.053295  144.264423   416.788764  \n",
      "2.0          370.834527  492.837815  1203.431130  \n",
      "3.0          142.808943  201.950786   565.941679  \n",
      "4.0           79.986363   98.345934   430.500089  \n",
      "5.0          265.958912  307.620893  1879.461831  \n",
      "6.0           62.909351   86.238825   172.865985  \n"
     ]
    }
   ],
   "source": [
    "# Output der Deskriptiven Statistiken\n",
    "print(\"Deskriptive Statistiken für Temperatur:\")\n",
    "print(temp_stats)\n",
    "\n",
    "print(\"\\nDeskriptive Statistiken für Umsatz:\")\n",
    "print(umsatz_stats)\n",
    "\n",
    "print(\"\\nDeskriptive Statistiken für Windgeschwindigkeit:\")\n",
    "print(wind_stats)\n",
    "\n",
    "# Ausgabe der deskriptiven Statistiken\n",
    "print(deskriptive_statistiken)"
   ]
  },
  {
   "cell_type": "markdown",
   "metadata": {},
   "source": [
    "# Korrelationen berechnen"
   ]
  },
  {
   "cell_type": "code",
   "execution_count": 78,
   "metadata": {},
   "outputs": [
    {
     "name": "stdout",
     "output_type": "stream",
     "text": [
      "Korrelation zwischen Umsatz und 0: nan\n",
      "Korrelation zwischen Umsatz und 1: nan\n",
      "Korrelation zwischen Umsatz und 2: nan\n",
      "Korrelation zwischen Umsatz und 3: nan\n",
      "Korrelation zwischen Umsatz und 4: nan\n",
      "Korrelation zwischen Umsatz und 5: nan\n",
      "Korrelation zwischen Umsatz und 6: nan\n",
      "Cramér's V: 0.002742493155364742\n",
      "Wochenende      0    1\n",
      "Warengruppe           \n",
      "1.0          1298  521\n",
      "2.0          1298  521\n",
      "3.0          1298  521\n",
      "4.0          1255  511\n",
      "5.0          1298  521\n",
      "6.0           209   83\n"
     ]
    },
    {
     "name": "stderr",
     "output_type": "stream",
     "text": [
      "/Applications/miniconda3/envs/python_course/lib/python3.10/site-packages/numpy/lib/function_base.py:2897: RuntimeWarning: invalid value encountered in divide\n",
      "  c /= stddev[:, None]\n",
      "/Applications/miniconda3/envs/python_course/lib/python3.10/site-packages/numpy/lib/function_base.py:2898: RuntimeWarning: invalid value encountered in divide\n",
      "  c /= stddev[None, :]\n"
     ]
    }
   ],
   "source": [
    "# Korrelationen berechnen\n",
    "corr_umsatz_weekend = merged_data['Umsatz'].corr(merged_data['Wochenende'].astype(int))\n",
    "corr_umsatz_weekday = merged_data.groupby('Wochentag_Numerisch')['Umsatz'].mean()\n",
    "corr_umsatz_temp = merged_data['Umsatz'].corr(merged_data['Temperatur'])\n",
    "corr_umsatz_wind = merged_data['Umsatz'].corr(merged_data['Windgeschwindigkeit'])\n",
    "\n",
    "# Korrelationsmatrix für Umsatzdaten\n",
    "corr_matrix = merged_data.corr()\n",
    "\n",
    "# Korrelationen zwischen Umsatz und einzelnen Wochentagen berechnen\n",
    "corr_umsatz_weekdays = {}\n",
    "for day in range(7):\n",
    "    # Filtere den DataFrame nach dem aktuellen Wochentag\n",
    "    day_data = merged_data[merged_data['Wochentag_Numerisch'] == day]\n",
    "    # Berechne die Korrelation zwischen Umsatz und dem aktuellen Wochentag\n",
    "    corr = day_data['Umsatz'].corr(day_data['Wochentag_Numerisch'])\n",
    "    # Speichere die Korrelation für den aktuellen Wochentag\n",
    "    corr_umsatz_weekdays[day] = corr\n",
    "\n",
    "# Ausgabe der Korrelationen für die einzelnen Wochentage\n",
    "for day, corr in corr_umsatz_weekdays.items():\n",
    "    print(f\"Korrelation zwischen Umsatz und {day}: {corr}\")\n",
    "\n",
    "\n",
    "\n",
    "# Berechne die Kontingenztabelle\n",
    "kontingenztabelle = pd.crosstab(merged_data[\"Warengruppe\"], merged_data[\"Wochenende\"])\n",
    "\n",
    "# Berechne Cramér's V\n",
    "chi2 = stats.chi2_contingency(kontingenztabelle)[0]\n",
    "n = kontingenztabelle.sum().sum()\n",
    "min_dim = min(kontingenztabelle.shape) - 1\n",
    "cramers_v = np.sqrt(chi2 / (n * min_dim))\n",
    "\n",
    "print(f\"Cramér's V: {cramers_v}\")\n",
    "\n",
    "# Optional: Ausgabe der Kontingenztabelle zur Überprüfung\n",
    "print(kontingenztabelle)"
   ]
  },
  {
   "cell_type": "code",
   "execution_count": 79,
   "metadata": {},
   "outputs": [
    {
     "name": "stdout",
     "output_type": "stream",
     "text": [
      "                            OLS Regression Results                            \n",
      "==============================================================================\n",
      "Dep. Variable:                 Umsatz   R-squared:                       0.713\n",
      "Model:                            OLS   Adj. R-squared:                  0.712\n",
      "Method:                 Least Squares   F-statistic:                     1775.\n",
      "Date:                Thu, 13 Jun 2024   Prob (F-statistic):               0.00\n",
      "Time:                        17:48:46   Log-Likelihood:                -53757.\n",
      "No. Observations:                9318   AIC:                         1.075e+05\n",
      "Df Residuals:                    9304   BIC:                         1.076e+05\n",
      "Df Model:                          13                                         \n",
      "Covariance Type:            nonrobust                                         \n",
      "===============================================================================================\n",
      "                                  coef    std err          t      P>|t|      [0.025      0.975]\n",
      "-----------------------------------------------------------------------------------------------\n",
      "Intercept                      60.2971      3.009     20.040      0.000      54.399      66.195\n",
      "C(Warengruppe)[T.2.0]         280.3416      2.574    108.925      0.000     275.297     285.387\n",
      "C(Warengruppe)[T.3.0]          41.2131      2.574     16.013      0.000      36.168      46.258\n",
      "C(Warengruppe)[T.4.0]         -34.2429      2.593    -13.206      0.000     -39.326     -29.160\n",
      "C(Warengruppe)[T.5.0]         154.7358      2.574     60.122      0.000     149.691     159.781\n",
      "C(Warengruppe)[T.6.0]         -32.6961      4.936     -6.624      0.000     -42.371     -23.021\n",
      "C(Wochentag_Numerisch)[T.1]    -5.9824      3.002     -1.993      0.046     -11.868      -0.097\n",
      "C(Wochentag_Numerisch)[T.2]    -7.4355      3.007     -2.473      0.013     -13.330      -1.541\n",
      "C(Wochentag_Numerisch)[T.3]    -0.4958      3.011     -0.165      0.869      -6.399       5.407\n",
      "C(Wochentag_Numerisch)[T.4]     1.7521      3.022      0.580      0.562      -4.171       7.676\n",
      "C(Wochentag_Numerisch)[T.5]    13.8423      1.734      7.983      0.000      10.443      17.241\n",
      "C(Wochentag_Numerisch)[T.6]    19.3901      1.734     11.182      0.000      15.991      22.789\n",
      "Temperatur                      4.0101      0.113     35.448      0.000       3.788       4.232\n",
      "Wochenende                     33.2323      1.739     19.112      0.000      29.824      36.641\n",
      "KielerWoche                    16.1231      5.316      3.033      0.002       5.702      26.544\n",
      "==============================================================================\n",
      "Omnibus:                     9509.461   Durbin-Watson:                   1.662\n",
      "Prob(Omnibus):                  0.000   Jarque-Bera (JB):          2178409.321\n",
      "Skew:                           4.554   Prob(JB):                         0.00\n",
      "Kurtosis:                      77.350   Cond. No.                     6.09e+15\n",
      "==============================================================================\n",
      "\n",
      "Notes:\n",
      "[1] Standard Errors assume that the covariance matrix of the errors is correctly specified.\n",
      "[2] The smallest eigenvalue is 4.98e-26. This might indicate that there are\n",
      "strong multicollinearity problems or that the design matrix is singular.\n"
     ]
    }
   ],
   "source": [
    "mod = smf.ols('Umsatz ~ C(Warengruppe) + Temperatur + Wochenende + KielerWoche  + C(Wochentag_Numerisch)', data=merged_data).fit()\n",
    "\n",
    "# Print the summary\n",
    "print(mod.summary())\n",
    "\n"
   ]
  },
  {
   "cell_type": "code",
   "execution_count": 80,
   "metadata": {},
   "outputs": [
    {
     "name": "stdout",
     "output_type": "stream",
     "text": [
      "                            OLS Regression Results                            \n",
      "==============================================================================\n",
      "Dep. Variable:                 Umsatz   R-squared:                       0.747\n",
      "Model:                            OLS   Adj. R-squared:                  0.746\n",
      "Method:                 Least Squares   F-statistic:                     637.3\n",
      "Date:                Thu, 13 Jun 2024   Prob (F-statistic):               0.00\n",
      "Time:                        17:48:46   Log-Likelihood:                -53162.\n",
      "No. Observations:                9318   AIC:                         1.064e+05\n",
      "Df Residuals:                    9274   BIC:                         1.067e+05\n",
      "Df Model:                          43                                         \n",
      "Covariance Type:            nonrobust                                         \n",
      "=====================================================================================================================\n",
      "                                                        coef    std err          t      P>|t|      [0.025      0.975]\n",
      "---------------------------------------------------------------------------------------------------------------------\n",
      "Intercept                                            84.2888      4.713     17.884      0.000      75.050      93.527\n",
      "C(Warengruppe)[T.2.0]                               233.2122      6.416     36.348      0.000     220.635     245.789\n",
      "C(Warengruppe)[T.3.0]                                17.1275      6.416      2.669      0.008       4.551      29.704\n",
      "C(Warengruppe)[T.4.0]                               -50.6881      6.461     -7.846      0.000     -63.352     -38.024\n",
      "C(Warengruppe)[T.5.0]                               120.7593      6.416     18.821      0.000     108.182     133.336\n",
      "C(Warengruppe)[T.6.0]                               -45.3636     12.267     -3.698      0.000     -69.409     -21.318\n",
      "C(Wochentag_Numerisch)[T.1]                         -14.9896      6.392     -2.345      0.019     -27.518      -2.461\n",
      "C(Wochentag_Numerisch)[T.2]                         -17.0013      6.392     -2.660      0.008     -29.530      -4.473\n",
      "C(Wochentag_Numerisch)[T.3]                           1.9736      6.416      0.308      0.758     -10.603      14.551\n",
      "C(Wochentag_Numerisch)[T.4]                          -6.4450      6.429     -1.003      0.316     -19.047       6.157\n",
      "C(Wochentag_Numerisch)[T.5]                          29.1360      3.689      7.898      0.000      21.905      36.367\n",
      "C(Wochentag_Numerisch)[T.6]                         -43.7834      3.696    -11.846      0.000     -51.029     -36.538\n",
      "C(Warengruppe)[T.2.0]:C(Wochentag_Numerisch)[T.1]     2.9410      9.039      0.325      0.745     -14.777      20.659\n",
      "C(Warengruppe)[T.3.0]:C(Wochentag_Numerisch)[T.1]     9.6058      9.039      1.063      0.288      -8.113      27.324\n",
      "C(Warengruppe)[T.4.0]:C(Wochentag_Numerisch)[T.1]    10.7162      9.110      1.176      0.240      -7.142      28.575\n",
      "C(Warengruppe)[T.5.0]:C(Wochentag_Numerisch)[T.1]    20.4900      9.039      2.267      0.023       2.772      38.208\n",
      "C(Warengruppe)[T.6.0]:C(Wochentag_Numerisch)[T.1]    16.7014     17.061      0.979      0.328     -16.741      50.144\n",
      "C(Warengruppe)[T.2.0]:C(Wochentag_Numerisch)[T.2]    -0.9954      9.039     -0.110      0.912     -18.714      16.723\n",
      "C(Warengruppe)[T.3.0]:C(Wochentag_Numerisch)[T.2]     9.8163      9.039      1.086      0.278      -7.902      27.535\n",
      "C(Warengruppe)[T.4.0]:C(Wochentag_Numerisch)[T.2]    11.4538      9.129      1.255      0.210      -6.441      29.348\n",
      "C(Warengruppe)[T.5.0]:C(Wochentag_Numerisch)[T.2]    27.4416      9.039      3.036      0.002       9.723      45.160\n",
      "C(Warengruppe)[T.6.0]:C(Wochentag_Numerisch)[T.2]    12.4829     17.411      0.717      0.473     -21.646      46.612\n",
      "C(Warengruppe)[T.2.0]:C(Wochentag_Numerisch)[T.3]    -5.7611      9.074     -0.635      0.525     -23.547      12.025\n",
      "C(Warengruppe)[T.3.0]:C(Wochentag_Numerisch)[T.3]    -8.7863      9.074     -0.968      0.333     -26.573       9.000\n",
      "C(Warengruppe)[T.4.0]:C(Wochentag_Numerisch)[T.3]    -8.0012      9.128     -0.877      0.381     -25.893       9.891\n",
      "C(Warengruppe)[T.5.0]:C(Wochentag_Numerisch)[T.3]     9.7262      9.074      1.072      0.284      -8.060      27.513\n",
      "C(Warengruppe)[T.6.0]:C(Wochentag_Numerisch)[T.3]    -1.4357     17.070     -0.084      0.933     -34.897      32.025\n",
      "C(Warengruppe)[T.2.0]:C(Wochentag_Numerisch)[T.4]     9.9956      9.091      1.099      0.272      -7.826      27.817\n",
      "C(Warengruppe)[T.3.0]:C(Wochentag_Numerisch)[T.4]     5.9270      9.091      0.652      0.514     -11.894      23.748\n",
      "C(Warengruppe)[T.4.0]:C(Wochentag_Numerisch)[T.4]     3.0222      9.164      0.330      0.742     -14.942      20.986\n",
      "C(Warengruppe)[T.5.0]:C(Wochentag_Numerisch)[T.4]    21.5804      9.091      2.374      0.018       3.759      39.402\n",
      "C(Warengruppe)[T.6.0]:C(Wochentag_Numerisch)[T.4]    10.5334     17.424      0.605      0.546     -23.622      44.689\n",
      "C(Warengruppe)[T.2.0]:C(Wochentag_Numerisch)[T.5]    97.8509      9.048     10.815      0.000      80.116     115.586\n",
      "C(Warengruppe)[T.3.0]:C(Wochentag_Numerisch)[T.5]    36.5158      9.048      4.036      0.000      18.781      54.251\n",
      "C(Warengruppe)[T.4.0]:C(Wochentag_Numerisch)[T.5]   -10.8550      9.119     -1.190      0.234     -28.731       7.021\n",
      "C(Warengruppe)[T.5.0]:C(Wochentag_Numerisch)[T.5]    43.4295      9.048      4.800      0.000      25.694      61.165\n",
      "C(Warengruppe)[T.6.0]:C(Wochentag_Numerisch)[T.5]    -2.3417     17.413     -0.134      0.893     -36.475      31.792\n",
      "C(Warengruppe)[T.2.0]:C(Wochentag_Numerisch)[T.6]   225.7361      9.065     24.902      0.000     207.967     243.505\n",
      "C(Warengruppe)[T.3.0]:C(Wochentag_Numerisch)[T.6]   115.3273      9.065     12.722      0.000      97.558     133.097\n",
      "C(Warengruppe)[T.4.0]:C(Wochentag_Numerisch)[T.6]   108.6971      9.101     11.944      0.000      90.857     126.537\n",
      "C(Warengruppe)[T.5.0]:C(Wochentag_Numerisch)[T.6]   114.9582      9.065     12.682      0.000      97.189     132.727\n",
      "C(Warengruppe)[T.6.0]:C(Wochentag_Numerisch)[T.6]    51.6171     17.235      2.995      0.003      17.832      85.402\n",
      "Temperatur                                            4.0121      0.106     37.742      0.000       3.804       4.220\n",
      "Wochenende                                          -14.6474      3.700     -3.959      0.000     -21.900      -7.394\n",
      "KielerWoche                                          15.7231      4.996      3.147      0.002       5.931      25.515\n",
      "==============================================================================\n",
      "Omnibus:                    10642.854   Durbin-Watson:                   1.509\n",
      "Prob(Omnibus):                  0.000   Jarque-Bera (JB):          3587860.477\n",
      "Skew:                           5.468   Prob(JB):                         0.00\n",
      "Kurtosis:                      98.507   Cond. No.                     2.25e+15\n",
      "==============================================================================\n",
      "\n",
      "Notes:\n",
      "[1] Standard Errors assume that the covariance matrix of the errors is correctly specified.\n",
      "[2] The smallest eigenvalue is 3.64e-25. This might indicate that there are\n",
      "strong multicollinearity problems or that the design matrix is singular.\n"
     ]
    }
   ],
   "source": [
    "# Erstelle eine numerische Darstellung des Wochentags\n",
    "merged_data[\"Wochentag_Numerisch\"] = merged_data[\"Datum\"].dt.dayofweek\n",
    "\n",
    "# Baue das Modell, inklusive Interaktionsterm zwischen Warengruppe und Wochentag\n",
    "mod = smf.ols('Umsatz ~ C(Warengruppe) * C(Wochentag_Numerisch) + Temperatur + Wochenende + KielerWoche', data=merged_data).fit()\n",
    "\n",
    "# Print the summary\n",
    "print(mod.summary())"
   ]
  },
  {
   "cell_type": "code",
   "execution_count": 81,
   "metadata": {},
   "outputs": [
    {
     "name": "stdout",
     "output_type": "stream",
     "text": [
      "                            OLS Regression Results                            \n",
      "==============================================================================\n",
      "Dep. Variable:                 Umsatz   R-squared:                       0.749\n",
      "Model:                            OLS   Adj. R-squared:                  0.748\n",
      "Method:                 Least Squares   F-statistic:                     589.2\n",
      "Date:                Thu, 13 Jun 2024   Prob (F-statistic):               0.00\n",
      "Time:                        17:48:47   Log-Likelihood:                -53124.\n",
      "No. Observations:                9318   AIC:                         1.063e+05\n",
      "Df Residuals:                    9270   BIC:                         1.067e+05\n",
      "Df Model:                          47                                         \n",
      "Covariance Type:            nonrobust                                         \n",
      "=====================================================================================================================\n",
      "                                                        coef    std err          t      P>|t|      [0.025      0.975]\n",
      "---------------------------------------------------------------------------------------------------------------------\n",
      "Intercept                                            84.7735      4.699     18.042      0.000      75.563      93.984\n",
      "C(Warengruppe)[T.2.0]                               231.2840      6.398     36.147      0.000     218.742     243.826\n",
      "C(Warengruppe)[T.3.0]                                16.4384      6.398      2.569      0.010       3.896      28.981\n",
      "C(Warengruppe)[T.4.0]                               -50.1037      6.443     -7.776      0.000     -62.734     -37.474\n",
      "C(Warengruppe)[T.5.0]                               120.4620      6.398     18.827      0.000     107.920     133.004\n",
      "C(Warengruppe)[T.6.0]                               -45.8463     12.221     -3.751      0.000     -69.802     -21.890\n",
      "C(Wochentag_Numerisch)[T.1]                         -14.9969      6.367     -2.355      0.019     -27.477      -2.516\n",
      "C(Wochentag_Numerisch)[T.2]                         -17.0086      6.367     -2.671      0.008     -29.489      -4.528\n",
      "C(Wochentag_Numerisch)[T.3]                           1.9736      6.391      0.309      0.757     -10.555      14.502\n",
      "C(Wochentag_Numerisch)[T.4]                          -6.4412      6.404     -1.006      0.315     -18.994       6.112\n",
      "C(Wochentag_Numerisch)[T.5]                          29.2901      3.675      7.969      0.000      22.086      36.495\n",
      "C(Wochentag_Numerisch)[T.6]                         -43.6218      3.682    -11.846      0.000     -50.840     -36.403\n",
      "C(Warengruppe)[T.2.0]:C(Wochentag_Numerisch)[T.1]     2.9704      9.004      0.330      0.741     -14.680      20.621\n",
      "C(Warengruppe)[T.3.0]:C(Wochentag_Numerisch)[T.1]     9.6163      9.004      1.068      0.286      -8.034      27.266\n",
      "C(Warengruppe)[T.4.0]:C(Wochentag_Numerisch)[T.1]    10.7152      9.075      1.181      0.238      -7.074      28.505\n",
      "C(Warengruppe)[T.5.0]:C(Wochentag_Numerisch)[T.1]    20.4946      9.004      2.276      0.023       2.844      38.145\n",
      "C(Warengruppe)[T.6.0]:C(Wochentag_Numerisch)[T.1]    16.7088     16.995      0.983      0.326     -16.605      50.023\n",
      "C(Warengruppe)[T.2.0]:C(Wochentag_Numerisch)[T.2]    -0.9660      9.004     -0.107      0.915     -18.616      16.684\n",
      "C(Warengruppe)[T.3.0]:C(Wochentag_Numerisch)[T.2]     9.8268      9.004      1.091      0.275      -7.823      27.477\n",
      "C(Warengruppe)[T.4.0]:C(Wochentag_Numerisch)[T.2]    11.4697      9.094      1.261      0.207      -6.356      29.295\n",
      "C(Warengruppe)[T.5.0]:C(Wochentag_Numerisch)[T.2]    27.4462      9.004      3.048      0.002       9.796      45.096\n",
      "C(Warengruppe)[T.6.0]:C(Wochentag_Numerisch)[T.2]    12.4904     17.344      0.720      0.471     -21.507      46.488\n",
      "C(Warengruppe)[T.2.0]:C(Wochentag_Numerisch)[T.3]    -5.7611      9.039     -0.637      0.524     -23.479      11.957\n",
      "C(Warengruppe)[T.3.0]:C(Wochentag_Numerisch)[T.3]    -8.7863      9.039     -0.972      0.331     -26.504       8.932\n",
      "C(Warengruppe)[T.4.0]:C(Wochentag_Numerisch)[T.3]    -8.0096      9.092     -0.881      0.378     -25.833       9.814\n",
      "C(Warengruppe)[T.5.0]:C(Wochentag_Numerisch)[T.3]     9.7262      9.039      1.076      0.282      -7.992      27.444\n",
      "C(Warengruppe)[T.6.0]:C(Wochentag_Numerisch)[T.3]    -1.4354     17.004     -0.084      0.933     -34.768      31.897\n",
      "C(Warengruppe)[T.2.0]:C(Wochentag_Numerisch)[T.4]     9.9805      9.056      1.102      0.270      -7.772      27.733\n",
      "C(Warengruppe)[T.3.0]:C(Wochentag_Numerisch)[T.4]     5.9216      9.056      0.654      0.513     -11.831      23.674\n",
      "C(Warengruppe)[T.4.0]:C(Wochentag_Numerisch)[T.4]     2.8192      9.129      0.309      0.757     -15.076      20.714\n",
      "C(Warengruppe)[T.5.0]:C(Wochentag_Numerisch)[T.4]    21.5781      9.056      2.383      0.017       3.826      39.331\n",
      "C(Warengruppe)[T.6.0]:C(Wochentag_Numerisch)[T.4]    10.5297     17.357      0.607      0.544     -23.494      44.554\n",
      "C(Warengruppe)[T.2.0]:C(Wochentag_Numerisch)[T.5]    95.9671      9.018     10.642      0.000      78.291     113.643\n",
      "C(Warengruppe)[T.3.0]:C(Wochentag_Numerisch)[T.5]    35.8426      9.018      3.975      0.000      18.166      53.519\n",
      "C(Warengruppe)[T.4.0]:C(Wochentag_Numerisch)[T.5]   -10.4803      9.088     -1.153      0.249     -28.295       7.335\n",
      "C(Warengruppe)[T.5.0]:C(Wochentag_Numerisch)[T.5]    43.1390      9.018      4.784      0.000      25.463      60.815\n",
      "C(Warengruppe)[T.6.0]:C(Wochentag_Numerisch)[T.5]    -2.8116     17.347     -0.162      0.871     -36.816      31.193\n",
      "C(Warengruppe)[T.2.0]:C(Wochentag_Numerisch)[T.6]   223.8228      9.035     24.773      0.000     206.112     241.533\n",
      "C(Warengruppe)[T.3.0]:C(Wochentag_Numerisch)[T.6]   114.6435      9.035     12.689      0.000      96.933     132.354\n",
      "C(Warengruppe)[T.4.0]:C(Wochentag_Numerisch)[T.6]   109.2274      9.071     12.042      0.000      91.447     127.008\n",
      "C(Warengruppe)[T.5.0]:C(Wochentag_Numerisch)[T.6]   114.6632      9.035     12.691      0.000      96.953     132.374\n",
      "C(Warengruppe)[T.6.0]:C(Wochentag_Numerisch)[T.6]    51.1401     17.170      2.978      0.003      17.483      84.797\n",
      "Temperatur                                            4.0118      0.106     37.885      0.000       3.804       4.219\n",
      "Wochenende                                          -14.3317      3.688     -3.886      0.000     -21.561      -7.102\n",
      "KielerWoche                                          -9.0898     10.996     -0.827      0.408     -30.645      12.465\n",
      "C(Warengruppe)[T.2.0]:KielerWoche                    99.4932     15.521      6.410      0.000      69.069     129.918\n",
      "C(Warengruppe)[T.3.0]:KielerWoche                    35.5572     15.521      2.291      0.022       5.132      65.982\n",
      "C(Warengruppe)[T.4.0]:KielerWoche                   -28.6623     15.698     -1.826      0.068     -59.434       2.110\n",
      "C(Warengruppe)[T.5.0]:KielerWoche                    15.3400     15.521      0.988      0.323     -15.085      45.765\n",
      "C(Warengruppe)[T.6.0]:KielerWoche                          0          0        nan        nan           0           0\n",
      "==============================================================================\n",
      "Omnibus:                    10724.808   Durbin-Watson:                   1.502\n",
      "Prob(Omnibus):                  0.000   Jarque-Bera (JB):          3704937.201\n",
      "Skew:                           5.539   Prob(JB):                         0.00\n",
      "Kurtosis:                     100.056   Cond. No.                     1.17e+16\n",
      "==============================================================================\n",
      "\n",
      "Notes:\n",
      "[1] Standard Errors assume that the covariance matrix of the errors is correctly specified.\n",
      "[2] The smallest eigenvalue is 1.35e-26. This might indicate that there are\n",
      "strong multicollinearity problems or that the design matrix is singular.\n"
     ]
    }
   ],
   "source": [
    "# Baue das Modell, inklusive Interaktionstermen zwischen Warengruppe und Wochentag sowie Warengruppe und KielerWoche\n",
    "mod = smf.ols('Umsatz ~ C(Warengruppe) * C(Wochentag_Numerisch) + Temperatur + Wochenende + C(Warengruppe) * KielerWoche', data=merged_data).fit()\n",
    "\n",
    "# Print the summary\n",
    "print(mod.summary())"
   ]
  },
  {
   "cell_type": "markdown",
   "metadata": {},
   "source": [
    "# Aufteilung der Daten"
   ]
  },
  {
   "cell_type": "code",
   "execution_count": 82,
   "metadata": {},
   "outputs": [
    {
     "name": "stdout",
     "output_type": "stream",
     "text": [
      "Anzahl der Trainingsdaten: 7083\n",
      "Anzahl der Validierungsdaten: 3036\n"
     ]
    }
   ],
   "source": [
    "# Aufteilen des Datensatzes in Trainings- und Validierungsdaten (70:30)\n",
    "train_data, validation_data = train_test_split(merged_data, test_size=0.3, random_state=42)\n",
    "\n",
    "# Ausgabe der Anzahl der Beispiele in Trainings- und Validierungsdaten\n",
    "print(\"Anzahl der Trainingsdaten:\", len(train_data))\n",
    "print(\"Anzahl der Validierungsdaten:\", len(validation_data))"
   ]
  },
  {
   "cell_type": "markdown",
   "metadata": {},
   "source": [
    "# Training des Modell"
   ]
  },
  {
   "cell_type": "markdown",
   "metadata": {},
   "source": [
    "## Fehlende Werte "
   ]
  },
  {
   "cell_type": "code",
   "execution_count": 83,
   "metadata": {},
   "outputs": [
    {
     "name": "stdout",
     "output_type": "stream",
     "text": [
      "Datum                     0\n",
      "Warengruppe             785\n",
      "Umsatz                  785\n",
      "KielerWoche               0\n",
      "Bewoelkung               71\n",
      "Temperatur               16\n",
      "Windgeschwindigkeit      16\n",
      "Wettercode             2538\n",
      "Wochentag_Numerisch       0\n",
      "Wochenende                0\n",
      "Feiertag                  0\n",
      "dtype: int64\n",
      "Gesamtanzahl der fehlenden Werte: 4211\n"
     ]
    }
   ],
   "source": [
    "# Anzeige der Anzahl der fehlenden Werte in jeder Spalte\n",
    "missing_values = merged_data.isnull().sum()\n",
    "print(missing_values)\n",
    "\n",
    "# Anzeige der Gesamtanzahl der fehlenden Werte\n",
    "total_missing_values = merged_data.isnull().sum().sum()\n",
    "print(f\"Gesamtanzahl der fehlenden Werte: {total_missing_values}\")"
   ]
  },
  {
   "cell_type": "code",
   "execution_count": 84,
   "metadata": {},
   "outputs": [
    {
     "name": "stdout",
     "output_type": "stream",
     "text": [
      "Datum                    0\n",
      "Warengruppe            253\n",
      "Umsatz                 253\n",
      "KielerWoche              0\n",
      "Bewoelkung              19\n",
      "Temperatur               5\n",
      "Windgeschwindigkeit      5\n",
      "Wettercode             769\n",
      "Wochentag_Numerisch      0\n",
      "Wochenende               0\n",
      "Feiertag                 0\n",
      "dtype: int64\n",
      "Gesamtanzahl der fehlenden Werte: 1304\n"
     ]
    }
   ],
   "source": [
    "# Anzeige der Anzahl der fehlenden Werte in jeder Spalte\n",
    "missing_values = validation_data.isnull().sum()\n",
    "print(missing_values)\n",
    "\n",
    "# Anzeige der Gesamtanzahl der fehlenden Werte\n",
    "total_missing_values = validation_data.isnull().sum().sum()\n",
    "print(f\"Gesamtanzahl der fehlenden Werte: {total_missing_values}\")"
   ]
  },
  {
   "cell_type": "code",
   "execution_count": 85,
   "metadata": {},
   "outputs": [
    {
     "name": "stdout",
     "output_type": "stream",
     "text": [
      "Datum                     0\n",
      "Warengruppe             532\n",
      "Umsatz                  532\n",
      "KielerWoche               0\n",
      "Bewoelkung               52\n",
      "Temperatur               11\n",
      "Windgeschwindigkeit      11\n",
      "Wettercode             1769\n",
      "Wochentag_Numerisch       0\n",
      "Wochenende                0\n",
      "Feiertag                  0\n",
      "dtype: int64\n",
      "Gesamtanzahl der fehlenden Werte: 2907\n"
     ]
    }
   ],
   "source": [
    "# Anzeige der Anzahl der fehlenden Werte in jeder Spalte\n",
    "missing_values = train_data.isnull().sum()\n",
    "print(missing_values)\n",
    "\n",
    "# Anzeige der Gesamtanzahl der fehlenden Werte\n",
    "total_missing_values = train_data.isnull().sum().sum()\n",
    "print(f\"Gesamtanzahl der fehlenden Werte: {total_missing_values}\")"
   ]
  },
  {
   "cell_type": "code",
   "execution_count": 86,
   "metadata": {},
   "outputs": [
    {
     "data": {
      "image/png": "[encoded data removed]",
      "text/plain": [
       "<Figure size 1000x600 with 1 Axes>"
      ]
     },
     "metadata": {},
     "output_type": "display_data"
    }
   ],
   "source": [
    "import seaborn as sns\n",
    "import matplotlib.pyplot as plt\n",
    "\n",
    "# Matrix Plot erstellen\n",
    "plt.figure(figsize=(10, 6))\n",
    "sns.heatmap(train_data.isnull(), cbar=False, cmap='viridis')\n",
    "plt.title('Matrix Plot der fehlenden Werte')\n",
    "plt.show()"
   ]
  },
  {
   "cell_type": "code",
   "execution_count": 87,
   "metadata": {},
   "outputs": [],
   "source": [
    "# Fülle fehlende Werte mit dem Durchschnitt der Spalte\n",
    "cleaned_data = merged_data.fillna(merged_data.mean())\n",
    "\n",
    "# Alternativ: Fülle fehlende Werte mit einem bestimmten Wert (z.B. 0)\n",
    "cleaned_data = merged_data.fillna(0)\n"
   ]
  },
  {
   "cell_type": "code",
   "execution_count": 88,
   "metadata": {},
   "outputs": [
    {
     "name": "stdout",
     "output_type": "stream",
     "text": [
      "Datum                     0\n",
      "Warengruppe             785\n",
      "Umsatz                  785\n",
      "KielerWoche               0\n",
      "Bewoelkung               71\n",
      "Temperatur               16\n",
      "Windgeschwindigkeit      16\n",
      "Wettercode             2538\n",
      "Wochentag_Numerisch       0\n",
      "Wochenende                0\n",
      "Feiertag                  0\n",
      "dtype: int64\n",
      "Gesamtanzahl der fehlenden Werte: 4211\n"
     ]
    }
   ],
   "source": [
    "# Anzeige der Anzahl der fehlenden Werte in jeder Spalte\n",
    "missing_values = merged_data.isnull().sum()\n",
    "print(missing_values)\n",
    "\n",
    "# Anzeige der Gesamtanzahl der fehlenden Werte\n",
    "total_missing_values = merged_data.isnull().sum().sum()\n",
    "print(f\"Gesamtanzahl der fehlenden Werte: {total_missing_values}\")"
   ]
  },
  {
   "cell_type": "markdown",
   "metadata": {},
   "source": [
    "Modell trainieren"
   ]
  },
  {
   "cell_type": "code",
   "execution_count": 89,
   "metadata": {},
   "outputs": [
    {
     "name": "stdout",
     "output_type": "stream",
     "text": [
      "Modell: LinearRegression()\n",
      "Koeffizienten: [ 1.22601023e+01  2.19385606e+01 -1.10812661e+00  4.09205899e+00\n",
      "  1.93213664e-01 -1.91574605e-02  5.87937012e-01  5.02012072e+01\n",
      "  1.63884406e+01]\n",
      "Intercept: 93.62803708332892\n"
     ]
    },
    {
     "ename": "ValueError",
     "evalue": "attempt to get argmax of an empty sequence",
     "output_type": "error",
     "traceback": [
      "\u001b[0;31m---------------------------------------------------------------------------\u001b[0m",
      "\u001b[0;31mValueError\u001b[0m                                Traceback (most recent call last)",
      "Cell \u001b[0;32mIn[89], line 27\u001b[0m\n\u001b[1;32m     22\u001b[0m \u001b[38;5;28mprint\u001b[39m(\u001b[38;5;124m\"\u001b[39m\u001b[38;5;124mIntercept:\u001b[39m\u001b[38;5;124m\"\u001b[39m, model\u001b[38;5;241m.\u001b[39mintercept_)\n\u001b[1;32m     24\u001b[0m \u001b[38;5;66;03m# Erstelle einen DataFrame für die Vorhersagen und die tatsächlichen Werte\u001b[39;00m\n\u001b[1;32m     25\u001b[0m predictions \u001b[38;5;241m=\u001b[39m pd\u001b[38;5;241m.\u001b[39mDataFrame({\n\u001b[1;32m     26\u001b[0m     \u001b[38;5;124m'\u001b[39m\u001b[38;5;124mDatum\u001b[39m\u001b[38;5;124m'\u001b[39m: validation_data[\u001b[38;5;124m'\u001b[39m\u001b[38;5;124mDatum\u001b[39m\u001b[38;5;124m'\u001b[39m],\n\u001b[0;32m---> 27\u001b[0m     \u001b[38;5;124m'\u001b[39m\u001b[38;5;124mWarengruppe\u001b[39m\u001b[38;5;124m'\u001b[39m: \u001b[43mvalidation_data\u001b[49m\u001b[38;5;241;43m.\u001b[39;49m\u001b[43mfilter\u001b[49m\u001b[43m(\u001b[49m\u001b[43mlike\u001b[49m\u001b[38;5;241;43m=\u001b[39;49m\u001b[38;5;124;43m'\u001b[39;49m\u001b[38;5;124;43mWarengruppe_\u001b[39;49m\u001b[38;5;124;43m'\u001b[39;49m\u001b[43m)\u001b[49m\u001b[38;5;241;43m.\u001b[39;49m\u001b[43midxmax\u001b[49m\u001b[43m(\u001b[49m\u001b[43maxis\u001b[49m\u001b[38;5;241;43m=\u001b[39;49m\u001b[38;5;241;43m1\u001b[39;49m\u001b[43m)\u001b[49m,\n\u001b[1;32m     28\u001b[0m     \u001b[38;5;124m'\u001b[39m\u001b[38;5;124mTatsächlicher Umsatz\u001b[39m\u001b[38;5;124m'\u001b[39m: y_validation,\n\u001b[1;32m     29\u001b[0m     \u001b[38;5;124m'\u001b[39m\u001b[38;5;124mVorhergesagter Umsatz\u001b[39m\u001b[38;5;124m'\u001b[39m: y_pred\n\u001b[1;32m     30\u001b[0m })\n\u001b[1;32m     32\u001b[0m \u001b[38;5;66;03m# Ausgabe der Vorhersagen je Warengruppe\u001b[39;00m\n\u001b[1;32m     33\u001b[0m \u001b[38;5;28mprint\u001b[39m(predictions)\n",
      "File \u001b[0;32m/Applications/miniconda3/envs/python_course/lib/python3.10/site-packages/pandas/core/frame.py:11877\u001b[0m, in \u001b[0;36mDataFrame.idxmax\u001b[0;34m(self, axis, skipna, numeric_only)\u001b[0m\n\u001b[1;32m  11874\u001b[0m \u001b[38;5;28;01melse\u001b[39;00m:\n\u001b[1;32m  11875\u001b[0m     data \u001b[38;5;241m=\u001b[39m \u001b[38;5;28mself\u001b[39m\n\u001b[0;32m> 11877\u001b[0m res \u001b[38;5;241m=\u001b[39m \u001b[43mdata\u001b[49m\u001b[38;5;241;43m.\u001b[39;49m\u001b[43m_reduce\u001b[49m\u001b[43m(\u001b[49m\n\u001b[1;32m  11878\u001b[0m \u001b[43m    \u001b[49m\u001b[43mnanops\u001b[49m\u001b[38;5;241;43m.\u001b[39;49m\u001b[43mnanargmax\u001b[49m\u001b[43m,\u001b[49m\u001b[43m \u001b[49m\u001b[38;5;124;43m\"\u001b[39;49m\u001b[38;5;124;43margmax\u001b[39;49m\u001b[38;5;124;43m\"\u001b[39;49m\u001b[43m,\u001b[49m\u001b[43m \u001b[49m\u001b[43maxis\u001b[49m\u001b[38;5;241;43m=\u001b[39;49m\u001b[43maxis\u001b[49m\u001b[43m,\u001b[49m\u001b[43m \u001b[49m\u001b[43mskipna\u001b[49m\u001b[38;5;241;43m=\u001b[39;49m\u001b[43mskipna\u001b[49m\u001b[43m,\u001b[49m\u001b[43m \u001b[49m\u001b[43mnumeric_only\u001b[49m\u001b[38;5;241;43m=\u001b[39;49m\u001b[38;5;28;43;01mFalse\u001b[39;49;00m\n\u001b[1;32m  11879\u001b[0m \u001b[43m\u001b[49m\u001b[43m)\u001b[49m\n\u001b[1;32m  11880\u001b[0m indices \u001b[38;5;241m=\u001b[39m res\u001b[38;5;241m.\u001b[39m_values\n\u001b[1;32m  11881\u001b[0m \u001b[38;5;66;03m# indices will always be 1d array since axis is not None\u001b[39;00m\n",
      "File \u001b[0;32m/Applications/miniconda3/envs/python_course/lib/python3.10/site-packages/pandas/core/frame.py:11549\u001b[0m, in \u001b[0;36mDataFrame._reduce\u001b[0;34m(self, op, name, axis, skipna, numeric_only, filter_type, **kwds)\u001b[0m\n\u001b[1;32m  11545\u001b[0m     df \u001b[38;5;241m=\u001b[39m df\u001b[38;5;241m.\u001b[39mT\n\u001b[1;32m  11547\u001b[0m \u001b[38;5;66;03m# After possibly _get_data and transposing, we are now in the\u001b[39;00m\n\u001b[1;32m  11548\u001b[0m \u001b[38;5;66;03m#  simple case where we can use BlockManager.reduce\u001b[39;00m\n\u001b[0;32m> 11549\u001b[0m res \u001b[38;5;241m=\u001b[39m \u001b[43mdf\u001b[49m\u001b[38;5;241;43m.\u001b[39;49m\u001b[43m_mgr\u001b[49m\u001b[38;5;241;43m.\u001b[39;49m\u001b[43mreduce\u001b[49m\u001b[43m(\u001b[49m\u001b[43mblk_func\u001b[49m\u001b[43m)\u001b[49m\n\u001b[1;32m  11550\u001b[0m out \u001b[38;5;241m=\u001b[39m df\u001b[38;5;241m.\u001b[39m_constructor_from_mgr(res, axes\u001b[38;5;241m=\u001b[39mres\u001b[38;5;241m.\u001b[39maxes)\u001b[38;5;241m.\u001b[39miloc[\u001b[38;5;241m0\u001b[39m]\n\u001b[1;32m  11551\u001b[0m \u001b[38;5;28;01mif\u001b[39;00m out_dtype \u001b[38;5;129;01mis\u001b[39;00m \u001b[38;5;129;01mnot\u001b[39;00m \u001b[38;5;28;01mNone\u001b[39;00m \u001b[38;5;129;01mand\u001b[39;00m out\u001b[38;5;241m.\u001b[39mdtype \u001b[38;5;241m!=\u001b[39m \u001b[38;5;124m\"\u001b[39m\u001b[38;5;124mboolean\u001b[39m\u001b[38;5;124m\"\u001b[39m:\n",
      "File \u001b[0;32m/Applications/miniconda3/envs/python_course/lib/python3.10/site-packages/pandas/core/internals/managers.py:1500\u001b[0m, in \u001b[0;36mBlockManager.reduce\u001b[0;34m(self, func)\u001b[0m\n\u001b[1;32m   1498\u001b[0m res_blocks: \u001b[38;5;28mlist\u001b[39m[Block] \u001b[38;5;241m=\u001b[39m []\n\u001b[1;32m   1499\u001b[0m \u001b[38;5;28;01mfor\u001b[39;00m blk \u001b[38;5;129;01min\u001b[39;00m \u001b[38;5;28mself\u001b[39m\u001b[38;5;241m.\u001b[39mblocks:\n\u001b[0;32m-> 1500\u001b[0m     nbs \u001b[38;5;241m=\u001b[39m \u001b[43mblk\u001b[49m\u001b[38;5;241;43m.\u001b[39;49m\u001b[43mreduce\u001b[49m\u001b[43m(\u001b[49m\u001b[43mfunc\u001b[49m\u001b[43m)\u001b[49m\n\u001b[1;32m   1501\u001b[0m     res_blocks\u001b[38;5;241m.\u001b[39mextend(nbs)\n\u001b[1;32m   1503\u001b[0m index \u001b[38;5;241m=\u001b[39m Index([\u001b[38;5;28;01mNone\u001b[39;00m])  \u001b[38;5;66;03m# placeholder\u001b[39;00m\n",
      "File \u001b[0;32m/Applications/miniconda3/envs/python_course/lib/python3.10/site-packages/pandas/core/internals/blocks.py:404\u001b[0m, in \u001b[0;36mBlock.reduce\u001b[0;34m(self, func)\u001b[0m\n\u001b[1;32m    398\u001b[0m \u001b[38;5;129m@final\u001b[39m\n\u001b[1;32m    399\u001b[0m \u001b[38;5;28;01mdef\u001b[39;00m \u001b[38;5;21mreduce\u001b[39m(\u001b[38;5;28mself\u001b[39m, func) \u001b[38;5;241m-\u001b[39m\u001b[38;5;241m>\u001b[39m \u001b[38;5;28mlist\u001b[39m[Block]:\n\u001b[1;32m    400\u001b[0m     \u001b[38;5;66;03m# We will apply the function and reshape the result into a single-row\u001b[39;00m\n\u001b[1;32m    401\u001b[0m     \u001b[38;5;66;03m#  Block with the same mgr_locs; squeezing will be done at a higher level\u001b[39;00m\n\u001b[1;32m    402\u001b[0m     \u001b[38;5;28;01massert\u001b[39;00m \u001b[38;5;28mself\u001b[39m\u001b[38;5;241m.\u001b[39mndim \u001b[38;5;241m==\u001b[39m \u001b[38;5;241m2\u001b[39m\n\u001b[0;32m--> 404\u001b[0m     result \u001b[38;5;241m=\u001b[39m \u001b[43mfunc\u001b[49m\u001b[43m(\u001b[49m\u001b[38;5;28;43mself\u001b[39;49m\u001b[38;5;241;43m.\u001b[39;49m\u001b[43mvalues\u001b[49m\u001b[43m)\u001b[49m\n\u001b[1;32m    406\u001b[0m     \u001b[38;5;28;01mif\u001b[39;00m \u001b[38;5;28mself\u001b[39m\u001b[38;5;241m.\u001b[39mvalues\u001b[38;5;241m.\u001b[39mndim \u001b[38;5;241m==\u001b[39m \u001b[38;5;241m1\u001b[39m:\n\u001b[1;32m    407\u001b[0m         res_values \u001b[38;5;241m=\u001b[39m result\n",
      "File \u001b[0;32m/Applications/miniconda3/envs/python_course/lib/python3.10/site-packages/pandas/core/frame.py:11468\u001b[0m, in \u001b[0;36mDataFrame._reduce.<locals>.blk_func\u001b[0;34m(values, axis)\u001b[0m\n\u001b[1;32m  11466\u001b[0m         \u001b[38;5;28;01mreturn\u001b[39;00m np\u001b[38;5;241m.\u001b[39marray([result])\n\u001b[1;32m  11467\u001b[0m \u001b[38;5;28;01melse\u001b[39;00m:\n\u001b[0;32m> 11468\u001b[0m     \u001b[38;5;28;01mreturn\u001b[39;00m \u001b[43mop\u001b[49m\u001b[43m(\u001b[49m\u001b[43mvalues\u001b[49m\u001b[43m,\u001b[49m\u001b[43m \u001b[49m\u001b[43maxis\u001b[49m\u001b[38;5;241;43m=\u001b[39;49m\u001b[43maxis\u001b[49m\u001b[43m,\u001b[49m\u001b[43m \u001b[49m\u001b[43mskipna\u001b[49m\u001b[38;5;241;43m=\u001b[39;49m\u001b[43mskipna\u001b[49m\u001b[43m,\u001b[49m\u001b[43m \u001b[49m\u001b[38;5;241;43m*\u001b[39;49m\u001b[38;5;241;43m*\u001b[39;49m\u001b[43mkwds\u001b[49m\u001b[43m)\u001b[49m\n",
      "File \u001b[0;32m/Applications/miniconda3/envs/python_course/lib/python3.10/site-packages/pandas/core/nanops.py:1148\u001b[0m, in \u001b[0;36mnanargmax\u001b[0;34m(values, axis, skipna, mask)\u001b[0m\n\u001b[1;32m   1116\u001b[0m \u001b[38;5;250m\u001b[39m\u001b[38;5;124;03m\"\"\"\u001b[39;00m\n\u001b[1;32m   1117\u001b[0m \u001b[38;5;124;03mParameters\u001b[39;00m\n\u001b[1;32m   1118\u001b[0m \u001b[38;5;124;03m----------\u001b[39;00m\n\u001b[0;32m   (...)\u001b[0m\n\u001b[1;32m   1145\u001b[0m \u001b[38;5;124;03marray([2, 2, 1, 1])\u001b[39;00m\n\u001b[1;32m   1146\u001b[0m \u001b[38;5;124;03m\"\"\"\u001b[39;00m\n\u001b[1;32m   1147\u001b[0m values, mask \u001b[38;5;241m=\u001b[39m _get_values(values, \u001b[38;5;28;01mTrue\u001b[39;00m, fill_value_typ\u001b[38;5;241m=\u001b[39m\u001b[38;5;124m\"\u001b[39m\u001b[38;5;124m-inf\u001b[39m\u001b[38;5;124m\"\u001b[39m, mask\u001b[38;5;241m=\u001b[39mmask)\n\u001b[0;32m-> 1148\u001b[0m result \u001b[38;5;241m=\u001b[39m \u001b[43mvalues\u001b[49m\u001b[38;5;241;43m.\u001b[39;49m\u001b[43margmax\u001b[49m\u001b[43m(\u001b[49m\u001b[43maxis\u001b[49m\u001b[43m)\u001b[49m\n\u001b[1;32m   1149\u001b[0m \u001b[38;5;66;03m# error: Argument 1 to \"_maybe_arg_null_out\" has incompatible type \"Any |\u001b[39;00m\n\u001b[1;32m   1150\u001b[0m \u001b[38;5;66;03m# signedinteger[Any]\"; expected \"ndarray[Any, Any]\"\u001b[39;00m\n\u001b[1;32m   1151\u001b[0m result \u001b[38;5;241m=\u001b[39m _maybe_arg_null_out(result, axis, mask, skipna)  \u001b[38;5;66;03m# type: ignore[arg-type]\u001b[39;00m\n",
      "\u001b[0;31mValueError\u001b[0m: attempt to get argmax of an empty sequence"
     ]
    }
   ],
   "source": [
    "# Aufteilen des Datensatzes in Trainings- und Validierungsdaten (70:30)\n",
    "train_data, validation_data = train_test_split(cleaned_data, test_size=0.3, random_state=42)\n",
    "\n",
    "# Separiere die Features (X) und das Ziel (y) im Trainings- und Validierungsdatensatz\n",
    "X_train = train_data.drop(columns=['Datum', 'Umsatz'])\n",
    "y_train = train_data['Umsatz']\n",
    "X_validation = validation_data.drop(columns=['Datum', 'Umsatz'])\n",
    "y_validation = validation_data['Umsatz']\n",
    "\n",
    "# Initialisiere das Modell\n",
    "model = LinearRegression()\n",
    "\n",
    "# Trainiere das Modell mit den Trainingsdaten\n",
    "model.fit(X_train, y_train)\n",
    "\n",
    "# Vorhersagen mit den Validierungsdaten\n",
    "y_pred = model.predict(X_validation)\n",
    "\n",
    "# Ausgabe des Modells und der Koeffizienten\n",
    "print(\"Modell:\", model)\n",
    "print(\"Koeffizienten:\", model.coef_)\n",
    "print(\"Intercept:\", model.intercept_)\n",
    "\n",
    "# Erstelle einen DataFrame für die Vorhersagen und die tatsächlichen Werte\n",
    "predictions = pd.DataFrame({\n",
    "    'Datum': validation_data['Datum'],\n",
    "    'Warengruppe': validation_data.filter(like='Warengruppe_').idxmax(axis=1),\n",
    "    'Tatsächlicher Umsatz': y_validation,\n",
    "    'Vorhergesagter Umsatz': y_pred\n",
    "})\n",
    "\n",
    "# Ausgabe der Vorhersagen je Warengruppe\n",
    "print(predictions)"
   ]
  }
 ],
 "metadata": {
  "kernelspec": {
   "display_name": "python_course",
   "language": "python",
   "name": "python3"
  },
  "language_info": {
   "codemirror_mode": {
    "name": "ipython",
    "version": 3
   },
   "file_extension": ".py",
   "mimetype": "text/x-python",
   "name": "python",
   "nbconvert_exporter": "python",
   "pygments_lexer": "ipython3",
   "version": "3.10.13"
  }
 },
 "nbformat": 4,
 "nbformat_minor": 2
}
