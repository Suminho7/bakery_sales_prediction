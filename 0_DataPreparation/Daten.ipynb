{
 "cells": [
  {
   "cell_type": "markdown",
   "metadata": {},
   "source": [
    "# Daten einlesen"
   ]
  },
  {
   "cell_type": "markdown",
   "metadata": {},
   "source": [
    "## Notwendige Bibliotheken importieren"
   ]
  },
  {
   "cell_type": "code",
   "execution_count": 2,
   "metadata": {},
   "outputs": [],
   "source": [
    "import pandas as pd\n",
    "import matplotlib.pyplot as plt\n",
    "import statsmodels.formula.api as smf\n",
    "import numpy as np\n",
    "import scipy.stats as stats"
   ]
  },
  {
   "cell_type": "markdown",
   "metadata": {},
   "source": [
    "## Daten laden und in DataFrame verbinden"
   ]
  },
  {
   "cell_type": "code",
   "execution_count": 3,
   "metadata": {},
   "outputs": [
    {
     "name": "stdout",
     "output_type": "stream",
     "text": [
      "            Datum  Warengruppe  Umsatz  KielerWoche  Bewoelkung  Temperatur  \\\n",
      "0      2012-01-01          NaN     NaN          NaN         8.0      9.8250   \n",
      "1      2012-01-02          NaN     NaN          NaN         7.0      7.4375   \n",
      "2      2012-01-03          NaN     NaN          NaN         8.0      5.5375   \n",
      "3      2012-01-04          NaN     NaN          NaN         4.0      5.6875   \n",
      "4      2012-01-05          NaN     NaN          NaN         6.0      5.3000   \n",
      "...           ...          ...     ...          ...         ...         ...   \n",
      "10114  2019-07-28          NaN     NaN          NaN         3.0     23.3500   \n",
      "10115  2019-07-29          NaN     NaN          NaN         6.0     25.2500   \n",
      "10116  2019-07-30          NaN     NaN          NaN         7.0     20.7375   \n",
      "10117  2019-07-31          NaN     NaN          NaN         6.0     20.4500   \n",
      "10118  2019-08-01          NaN     NaN          NaN         5.0     21.0625   \n",
      "\n",
      "       Windgeschwindigkeit  Wettercode  \n",
      "0                     14.0        58.0  \n",
      "1                     12.0         NaN  \n",
      "2                     18.0        63.0  \n",
      "3                     19.0        80.0  \n",
      "4                     23.0        80.0  \n",
      "...                    ...         ...  \n",
      "10114                 14.0         5.0  \n",
      "10115                  7.0        61.0  \n",
      "10116                  8.0        61.0  \n",
      "10117                  7.0        61.0  \n",
      "10118                  9.0        61.0  \n",
      "\n",
      "[10119 rows x 8 columns]\n"
     ]
    }
   ],
   "source": [
    "# Download Data\n",
    "umsatzdaten_url = \"https://github.com/opencampus-sh/einfuehrung-in-data-science-und-ml/raw/main/umsatzdaten_gekuerzt.csv\"\n",
    "\n",
    "kiwodaten_url = \"https://github.com/opencampus-sh/einfuehrung-in-data-science-und-ml/raw/main/kiwo.csv\"\n",
    "\n",
    "wetterdaten_url = \"https://github.com/opencampus-sh/einfuehrung-in-data-science-und-ml/raw/main/wetter.csv\"\n",
    "\n",
    "# Daten von den URLs herunterladen und in Pandas DataFrames laden\n",
    "umsatzdaten = pd.read_csv(umsatzdaten_url)\n",
    "kiwo = pd.read_csv(kiwodaten_url)\n",
    "wetter = pd.read_csv(wetterdaten_url)\n",
    "\n",
    "#Outer Join\n",
    "merged_data = pd.merge(umsatzdaten, kiwo, on='Datum', how='outer')\n",
    "merged_data = pd.merge(merged_data, wetter, on='Datum', how='outer')\n",
    "\n",
    "# Gib den zusammengeführten DataFrame aus\n",
    "print(merged_data)"
   ]
  },
  {
   "cell_type": "markdown",
   "metadata": {},
   "source": [
    "## Datum konvertieren / Wochentag hinzufügen"
   ]
  },
  {
   "cell_type": "code",
   "execution_count": 4,
   "metadata": {},
   "outputs": [
    {
     "name": "stdout",
     "output_type": "stream",
     "text": [
      "           Datum  Warengruppe  Umsatz  KielerWoche  Bewoelkung  Temperatur  \\\n",
      "0     2012-01-01          NaN     NaN          NaN         8.0      9.8250   \n",
      "1     2012-01-02          NaN     NaN          NaN         7.0      7.4375   \n",
      "2     2012-01-03          NaN     NaN          NaN         8.0      5.5375   \n",
      "3     2012-01-04          NaN     NaN          NaN         4.0      5.6875   \n",
      "4     2012-01-05          NaN     NaN          NaN         6.0      5.3000   \n",
      "...          ...          ...     ...          ...         ...         ...   \n",
      "10114 2019-07-28          NaN     NaN          NaN         3.0     23.3500   \n",
      "10115 2019-07-29          NaN     NaN          NaN         6.0     25.2500   \n",
      "10116 2019-07-30          NaN     NaN          NaN         7.0     20.7375   \n",
      "10117 2019-07-31          NaN     NaN          NaN         6.0     20.4500   \n",
      "10118 2019-08-01          NaN     NaN          NaN         5.0     21.0625   \n",
      "\n",
      "       Windgeschwindigkeit  Wettercode  Wochentag_Numerisch  \n",
      "0                     14.0        58.0                    6  \n",
      "1                     12.0         NaN                    0  \n",
      "2                     18.0        63.0                    1  \n",
      "3                     19.0        80.0                    2  \n",
      "4                     23.0        80.0                    3  \n",
      "...                    ...         ...                  ...  \n",
      "10114                 14.0         5.0                    6  \n",
      "10115                  7.0        61.0                    0  \n",
      "10116                  8.0        61.0                    1  \n",
      "10117                  7.0        61.0                    2  \n",
      "10118                  9.0        61.0                    3  \n",
      "\n",
      "[10119 rows x 9 columns]\n",
      "           Datum  Warengruppe  Umsatz  KielerWoche  Bewoelkung  Temperatur  \\\n",
      "0     2012-01-01          NaN     NaN          NaN         8.0      9.8250   \n",
      "1     2012-01-02          NaN     NaN          NaN         7.0      7.4375   \n",
      "2     2012-01-03          NaN     NaN          NaN         8.0      5.5375   \n",
      "3     2012-01-04          NaN     NaN          NaN         4.0      5.6875   \n",
      "4     2012-01-05          NaN     NaN          NaN         6.0      5.3000   \n",
      "...          ...          ...     ...          ...         ...         ...   \n",
      "10114 2019-07-28          NaN     NaN          NaN         3.0     23.3500   \n",
      "10115 2019-07-29          NaN     NaN          NaN         6.0     25.2500   \n",
      "10116 2019-07-30          NaN     NaN          NaN         7.0     20.7375   \n",
      "10117 2019-07-31          NaN     NaN          NaN         6.0     20.4500   \n",
      "10118 2019-08-01          NaN     NaN          NaN         5.0     21.0625   \n",
      "\n",
      "       Windgeschwindigkeit  Wettercode  Wochentag_Numerisch  Wochenende  \n",
      "0                     14.0        58.0                    6        True  \n",
      "1                     12.0         NaN                    0       False  \n",
      "2                     18.0        63.0                    1       False  \n",
      "3                     19.0        80.0                    2       False  \n",
      "4                     23.0        80.0                    3       False  \n",
      "...                    ...         ...                  ...         ...  \n",
      "10114                 14.0         5.0                    6        True  \n",
      "10115                  7.0        61.0                    0       False  \n",
      "10116                  8.0        61.0                    1       False  \n",
      "10117                  7.0        61.0                    2       False  \n",
      "10118                  9.0        61.0                    3       False  \n",
      "\n",
      "[10119 rows x 10 columns]\n"
     ]
    }
   ],
   "source": [
    "#Konvertiere die Spalte \"Datum\" in einen Datumsdatentypen \n",
    "merged_data[\"Datum\"] = pd.to_datetime(merged_data[\"Datum\"])\n",
    "\n",
    "# 1. Spalte für Wochentage als numerischen Wert hinzufügen\n",
    "merged_data['Wochentag_Numerisch'] = merged_data['Datum'].dt.weekday\n",
    "\n",
    "print(merged_data)\n",
    "\n",
    "# Spalte mit True/False für Wochenende hinzufügen\n",
    "merged_data['Wochenende'] = merged_data['Datum'].dt.dayofweek >= 5\n",
    "\n",
    "print(merged_data)"
   ]
  },
  {
   "cell_type": "markdown",
   "metadata": {},
   "source": [
    "## Umsatz nach Wochentag und Warengruppe gruppieren"
   ]
  },
  {
   "cell_type": "code",
   "execution_count": 5,
   "metadata": {},
   "outputs": [
    {
     "name": "stdout",
     "output_type": "stream",
     "text": [
      "    Wochentag_Numerisch  Warengruppe         Umsatz\n",
      "0                     0          1.0   34349.518577\n",
      "1                     0          2.0   94518.267009\n",
      "2                     0          3.0   38768.415694\n",
      "3                     0          4.0   20668.483499\n",
      "4                     0          5.0   65505.413757\n",
      "5                     0          6.0    2633.407614\n",
      "6                     1          1.0   31035.935115\n",
      "7                     1          2.0   92908.071950\n",
      "8                     1          3.0   38040.052609\n",
      "9                     1          4.0   19807.539861\n",
      "10                    1          5.0   68043.250991\n",
      "11                    1          6.0    2950.421577\n",
      "12                    2          1.0   30686.879782\n",
      "13                    2          2.0   91747.856697\n",
      "14                    2          3.0   37755.007020\n",
      "15                    2          4.0   19276.580698\n",
      "16                    2          5.0   69612.460394\n",
      "17                    2          6.0    2516.051662\n",
      "18                    3          1.0   35131.645020\n",
      "19                    3          2.0   94031.839875\n",
      "20                    3          3.0   37253.891937\n",
      "21                    3          4.0   19532.368451\n",
      "22                    3          5.0   68808.535855\n",
      "23                    3          6.0    3013.572798\n",
      "24                    4          1.0   32718.556908\n",
      "25                    4          2.0   94979.742448\n",
      "26                    4          3.0   38620.516552\n",
      "27                    4          4.0   19738.297666\n",
      "28                    4          5.0   69157.523580\n",
      "29                    4          6.0    2784.949199\n",
      "30                    5          1.0   38593.824977\n",
      "31                    5          2.0  125001.295223\n",
      "32                    5          3.0   52594.737848\n",
      "33                    5          4.0   21738.211629\n",
      "34                    5          5.0   81447.091239\n",
      "35                    5          6.0    3028.201958\n",
      "36                    6          1.0   19660.863080\n",
      "37                    6          2.0  138956.626316\n",
      "38                    6          3.0   54084.511046\n",
      "39                    6          4.0   34565.356110\n",
      "40                    6          5.0   80916.754334\n",
      "41                    6          6.0    2613.052615\n"
     ]
    },
    {
     "data": {
      "text/plain": [
       "<Figure size 640x480 with 0 Axes>"
      ]
     },
     "metadata": {},
     "output_type": "display_data"
    }
   ],
   "source": [
    "# Gruppiere die Daten nach Wochentag und Warengruppe und aggregiere die Umsätze\n",
    "umsatz_je_wochentag_warengruppe = merged_data.groupby([\"Wochentag_Numerisch\", \"Warengruppe\"])[\"Umsatz\"].sum().reset_index()\n",
    "\n",
    "# Ausgabe des Ergebnisses\n",
    "print(umsatz_je_wochentag_warengruppe)\n",
    "\n",
    "plt.tight_layout()\n",
    "plt.show()"
   ]
  },
  {
   "cell_type": "markdown",
   "metadata": {},
   "source": [
    "### Visualisierung"
   ]
  },
  {
   "cell_type": "code",
   "execution_count": 6,
   "metadata": {},
   "outputs": [
    {
     "data": {
      "text/plain": [
       "(array([-1.,  0.,  1.,  2.,  3.,  4.,  5.,  6.,  7.]),\n",
       " [Text(-1.0, 0, '−1'),\n",
       "  Text(0.0, 0, '0'),\n",
       "  Text(1.0, 0, '1'),\n",
       "  Text(2.0, 0, '2'),\n",
       "  Text(3.0, 0, '3'),\n",
       "  Text(4.0, 0, '4'),\n",
       "  Text(5.0, 0, '5'),\n",
       "  Text(6.0, 0, '6'),\n",
       "  Text(7.0, 0, '7')])"
      ]
     },
     "execution_count": 6,
     "metadata": {},
     "output_type": "execute_result"
    },
    {
     "data": {
      "image/png": "[encoded data removed]",
      "text/plain": [
       "<Figure size 1000x600 with 1 Axes>"
      ]
     },
     "metadata": {},
     "output_type": "display_data"
    }
   ],
   "source": [
    "# Erstelle die Visualisierung\n",
    "plt.figure(figsize=(10, 6))\n",
    "for warengruppe in umsatz_je_wochentag_warengruppe[\"Warengruppe\"].unique():\n",
    "    data = umsatz_je_wochentag_warengruppe[umsatz_je_wochentag_warengruppe[\"Warengruppe\"] == warengruppe]\n",
    "    plt.plot(data[\"Wochentag_Numerisch\"], data[\"Umsatz\"], marker='o', label=warengruppe)\n",
    "\n",
    "plt.xlabel(\"Wochentag_Numerisch\")\n",
    "plt.ylabel(\"Umsatz\")\n",
    "plt.title(\"Umsatz je Wochentag und Warengruppe\")\n",
    "plt.legend(title=\"Warengruppe\")\n",
    "plt.xticks(rotation=45)"
   ]
  },
  {
   "cell_type": "markdown",
   "metadata": {},
   "source": [
    "# Deskriptive Statistiken berechnen"
   ]
  },
  {
   "cell_type": "code",
   "execution_count": 7,
   "metadata": {},
   "outputs": [],
   "source": [
    "# Temperatur\n",
    "temp_stats = merged_data['Temperatur'].describe()\n",
    "\n",
    "# Umsatz\n",
    "umsatz_stats = merged_data['Umsatz'].describe()\n",
    "\n",
    "# Wind\n",
    "wind_stats = merged_data['Windgeschwindigkeit'].describe()\n",
    "\n",
    "# Umsatz je Warengruppe\n",
    "deskriptive_statistiken = merged_data.groupby(\"Warengruppe\")[\"Umsatz\"].describe()"
   ]
  },
  {
   "cell_type": "markdown",
   "metadata": {},
   "source": [
    "## Output deskriptive Statistiken"
   ]
  },
  {
   "cell_type": "code",
   "execution_count": 8,
   "metadata": {},
   "outputs": [
    {
     "name": "stdout",
     "output_type": "stream",
     "text": [
      "Deskriptive Statistiken für Temperatur:\n",
      "count    10103.000000\n",
      "mean        12.014560\n",
      "std          7.212466\n",
      "min        -10.250000\n",
      "25%          6.250000\n",
      "50%         11.625000\n",
      "75%         17.875000\n",
      "max         32.671428\n",
      "Name: Temperatur, dtype: float64\n",
      "\n",
      "Deskriptive Statistiken für Umsatz:\n",
      "count    9334.000000\n",
      "mean      206.749044\n",
      "std       144.545189\n",
      "min         7.051201\n",
      "25%        96.897441\n",
      "50%       161.900831\n",
      "75%       280.644663\n",
      "max      1879.461831\n",
      "Name: Umsatz, dtype: float64\n",
      "\n",
      "Deskriptive Statistiken für Windgeschwindigkeit:\n",
      "count    10103.000000\n",
      "mean        11.026527\n",
      "std          4.131774\n",
      "min          3.000000\n",
      "25%          8.000000\n",
      "50%         10.000000\n",
      "75%         13.000000\n",
      "max         35.000000\n",
      "Name: Windgeschwindigkeit, dtype: float64\n",
      "              count        mean         std         min         25%  \\\n",
      "Warengruppe                                                           \n",
      "1.0          1819.0  122.142509   40.299209   23.108406   96.436728   \n",
      "2.0          1819.0  402.497911  139.660208  174.999832  289.050638   \n",
      "3.0          1819.0  163.340920   75.578308   37.739245  105.589349   \n",
      "4.0          1766.0   87.954042   35.318400   27.433726   66.024297   \n",
      "5.0          1819.0  276.795509   99.472740  121.493282  228.972912   \n",
      "6.0           292.0   66.916635   32.372569    7.051201   41.559645   \n",
      "\n",
      "                    50%         75%          max  \n",
      "Warengruppe                                       \n",
      "1.0          120.053295  144.264423   416.788764  \n",
      "2.0          370.834527  492.837815  1203.431130  \n",
      "3.0          142.808943  201.950786   565.941679  \n",
      "4.0           79.986363   98.345934   430.500089  \n",
      "5.0          265.958912  307.620893  1879.461831  \n",
      "6.0           62.909351   86.238825   172.865985  \n"
     ]
    }
   ],
   "source": [
    "# Output der Deskriptiven Statistiken\n",
    "print(\"Deskriptive Statistiken für Temperatur:\")\n",
    "print(temp_stats)\n",
    "\n",
    "print(\"\\nDeskriptive Statistiken für Umsatz:\")\n",
    "print(umsatz_stats)\n",
    "\n",
    "print(\"\\nDeskriptive Statistiken für Windgeschwindigkeit:\")\n",
    "print(wind_stats)\n",
    "\n",
    "# Ausgabe der deskriptiven Statistiken\n",
    "print(deskriptive_statistiken)"
   ]
  },
  {
   "cell_type": "markdown",
   "metadata": {},
   "source": [
    "# Korrelationen berechnen"
   ]
  },
  {
   "cell_type": "code",
   "execution_count": 9,
   "metadata": {},
   "outputs": [
    {
     "name": "stdout",
     "output_type": "stream",
     "text": [
      "Korrelation zwischen Umsatz und 0: nan\n",
      "Korrelation zwischen Umsatz und 1: nan\n",
      "Korrelation zwischen Umsatz und 2: nan\n",
      "Korrelation zwischen Umsatz und 3: nan\n",
      "Korrelation zwischen Umsatz und 4: nan\n",
      "Korrelation zwischen Umsatz und 5: nan\n",
      "Korrelation zwischen Umsatz und 6: nan\n",
      "Cramér's V: 0.002742493155364742\n",
      "Wochenende   False  True \n",
      "Warengruppe              \n",
      "1.0           1298    521\n",
      "2.0           1298    521\n",
      "3.0           1298    521\n",
      "4.0           1255    511\n",
      "5.0           1298    521\n",
      "6.0            209     83\n"
     ]
    },
    {
     "name": "stderr",
     "output_type": "stream",
     "text": [
      "/home/codespace/.local/lib/python3.10/site-packages/numpy/lib/function_base.py:2897: RuntimeWarning: invalid value encountered in divide\n",
      "  c /= stddev[:, None]\n",
      "/home/codespace/.local/lib/python3.10/site-packages/numpy/lib/function_base.py:2898: RuntimeWarning: invalid value encountered in divide\n",
      "  c /= stddev[None, :]\n"
     ]
    }
   ],
   "source": [
    "# Korrelationen berechnen\n",
    "corr_umsatz_weekend = merged_data['Umsatz'].corr(merged_data['Wochenende'].astype(int))\n",
    "corr_umsatz_weekday = merged_data.groupby('Wochentag_Numerisch')['Umsatz'].mean()\n",
    "corr_umsatz_temp = merged_data['Umsatz'].corr(merged_data['Temperatur'])\n",
    "corr_umsatz_wind = merged_data['Umsatz'].corr(merged_data['Windgeschwindigkeit'])\n",
    "\n",
    "# Korrelationsmatrix für Umsatzdaten\n",
    "corr_matrix = merged_data.corr()\n",
    "\n",
    "# Korrelationen zwischen Umsatz und einzelnen Wochentagen berechnen\n",
    "corr_umsatz_weekdays = {}\n",
    "for day in range(7):\n",
    "    # Filtere den DataFrame nach dem aktuellen Wochentag\n",
    "    day_data = merged_data[merged_data['Wochentag_Numerisch'] == day]\n",
    "    # Berechne die Korrelation zwischen Umsatz und dem aktuellen Wochentag\n",
    "    corr = day_data['Umsatz'].corr(day_data['Wochentag_Numerisch'])\n",
    "    # Speichere die Korrelation für den aktuellen Wochentag\n",
    "    corr_umsatz_weekdays[day] = corr\n",
    "\n",
    "# Ausgabe der Korrelationen für die einzelnen Wochentage\n",
    "for day, corr in corr_umsatz_weekdays.items():\n",
    "    print(f\"Korrelation zwischen Umsatz und {day}: {corr}\")\n",
    "\n",
    "\n",
    "\n",
    "# Berechne die Kontingenztabelle\n",
    "kontingenztabelle = pd.crosstab(merged_data[\"Warengruppe\"], merged_data[\"Wochenende\"])\n",
    "\n",
    "# Berechne Cramér's V\n",
    "chi2 = stats.chi2_contingency(kontingenztabelle)[0]\n",
    "n = kontingenztabelle.sum().sum()\n",
    "min_dim = min(kontingenztabelle.shape) - 1\n",
    "cramers_v = np.sqrt(chi2 / (n * min_dim))\n",
    "\n",
    "print(f\"Cramér's V: {cramers_v}\")\n",
    "\n",
    "# Optional: Ausgabe der Kontingenztabelle zur Überprüfung\n",
    "print(kontingenztabelle)"
   ]
  },
  {
   "cell_type": "markdown",
   "metadata": {},
   "source": [
    "# Lineares Modell"
   ]
  },
  {
   "cell_type": "markdown",
   "metadata": {},
   "source": [
    "## Lineares Modell 1"
   ]
  },
  {
   "cell_type": "code",
   "execution_count": 10,
   "metadata": {},
   "outputs": [
    {
     "name": "stdout",
     "output_type": "stream",
     "text": [
      "                            OLS Regression Results                            \n",
      "==============================================================================\n",
      "Dep. Variable:                 Umsatz   R-squared:                       0.877\n",
      "Model:                            OLS   Adj. R-squared:                  0.870\n",
      "Method:                 Least Squares   F-statistic:                     136.6\n",
      "Date:                Wed, 05 Jun 2024   Prob (F-statistic):           1.64e-89\n",
      "Time:                        13:49:59   Log-Likelihood:                -1236.7\n",
      "No. Observations:                 223   AIC:                             2497.\n",
      "Df Residuals:                     211   BIC:                             2538.\n",
      "Df Model:                          11                                         \n",
      "Covariance Type:            nonrobust                                         \n",
      "===============================================================================================\n",
      "                                  coef    std err          t      P>|t|      [0.025      0.975]\n",
      "-----------------------------------------------------------------------------------------------\n",
      "Intercept                      79.3199     14.619      5.426      0.000      50.502     108.138\n",
      "C(Warengruppe)[T.2.0]         402.5332     13.432     29.969      0.000     376.055     429.011\n",
      "C(Warengruppe)[T.3.0]          87.2790     13.432      6.498      0.000      60.801     113.757\n",
      "C(Warengruppe)[T.4.0]         -53.9631     13.591     -3.970      0.000     -80.755     -27.171\n",
      "C(Warengruppe)[T.5.0]         179.6742     13.432     13.377      0.000     153.196     206.152\n",
      "C(Warengruppe)[T.6.0]       -3.025e-14   6.39e-15     -4.734      0.000   -4.28e-14   -1.77e-14\n",
      "Wochenende[T.True]             44.3365      9.536      4.649      0.000      25.538      63.135\n",
      "C(Wochentag_Numerisch)[T.1]   -16.0410     18.040     -0.889      0.375     -51.603      19.521\n",
      "C(Wochentag_Numerisch)[T.2]     0.1895     18.026      0.011      0.992     -35.345      35.724\n",
      "C(Wochentag_Numerisch)[T.3]     1.4412     18.021      0.080      0.936     -34.084      36.966\n",
      "C(Wochentag_Numerisch)[T.4]    23.0919     18.215      1.268      0.206     -12.815      58.999\n",
      "C(Wochentag_Numerisch)[T.5]    45.9183      8.005      5.736      0.000      30.138      61.698\n",
      "C(Wochentag_Numerisch)[T.6]    -1.5817      7.964     -0.199      0.843     -17.281      14.118\n",
      "Temperatur                     -2.8809      1.325     -2.175      0.031      -5.493      -0.269\n",
      "KielerWoche                    79.3199     14.619      5.426      0.000      50.502     108.138\n",
      "==============================================================================\n",
      "Omnibus:                       41.152   Durbin-Watson:                   2.035\n",
      "Prob(Omnibus):                  0.000   Jarque-Bera (JB):               93.869\n",
      "Skew:                           0.855   Prob(JB):                     4.14e-21\n",
      "Kurtosis:                       5.679   Cond. No.                     2.24e+18\n",
      "==============================================================================\n",
      "\n",
      "Notes:\n",
      "[1] Standard Errors assume that the covariance matrix of the errors is correctly specified.\n",
      "[2] The smallest eigenvalue is 1.57e-32. This might indicate that there are\n",
      "strong multicollinearity problems or that the design matrix is singular.\n"
     ]
    }
   ],
   "source": [
    "mod = smf.ols('Umsatz ~ C(Warengruppe) + Temperatur + Wochenende + KielerWoche  + C(Wochentag_Numerisch)', data=merged_data).fit()\n",
    "\n",
    "# Print the summary\n",
    "print(mod.summary())\n",
    "\n"
   ]
  },
  {
   "cell_type": "markdown",
   "metadata": {},
   "source": [
    "## Lineares Modell 2\n",
    "Mit Interaktion Wochentag und Umsatz je Warengruppe"
   ]
  },
  {
   "cell_type": "code",
   "execution_count": 11,
   "metadata": {},
   "outputs": [
    {
     "name": "stdout",
     "output_type": "stream",
     "text": [
      "                            OLS Regression Results                            \n",
      "==============================================================================\n",
      "Dep. Variable:                 Umsatz   R-squared:                       0.920\n",
      "Model:                            OLS   Adj. R-squared:                  0.906\n",
      "Method:                 Least Squares   F-statistic:                     61.86\n",
      "Date:                Wed, 05 Jun 2024   Prob (F-statistic):           6.62e-85\n",
      "Time:                        13:50:00   Log-Likelihood:                -1187.9\n",
      "No. Observations:                 223   AIC:                             2448.\n",
      "Df Residuals:                     187   BIC:                             2570.\n",
      "Df Model:                          35                                         \n",
      "Covariance Type:            nonrobust                                         \n",
      "=====================================================================================================================\n",
      "                                                        coef    std err          t      P>|t|      [0.025      0.975]\n",
      "---------------------------------------------------------------------------------------------------------------------\n",
      "Intercept                                            98.4738     16.150      6.097      0.000      66.613     130.334\n",
      "C(Warengruppe)[T.2.0]                               291.2009     34.396      8.466      0.000     223.348     359.054\n",
      "C(Warengruppe)[T.3.0]                                42.4303     34.396      1.234      0.219     -25.423     110.284\n",
      "C(Warengruppe)[T.4.0]                               -66.8209     34.396     -1.943      0.054    -134.674       1.032\n",
      "C(Warengruppe)[T.5.0]                               153.0198     34.396      4.449      0.000      85.167     220.873\n",
      "C(Warengruppe)[T.6.0]                              -2.66e-13   2.01e-13     -1.325      0.187   -6.62e-13     1.3e-13\n",
      "C(Wochentag_Numerisch)[T.1]                         -20.2380     34.403     -0.588      0.557     -88.106      47.630\n",
      "C(Wochentag_Numerisch)[T.2]                         -12.9226     34.398     -0.376      0.708     -80.780      54.935\n",
      "C(Wochentag_Numerisch)[T.3]                          -4.8099     34.396     -0.140      0.889     -72.664      63.044\n",
      "C(Wochentag_Numerisch)[T.4]                          13.4414     34.400      0.391      0.696     -54.421      81.304\n",
      "C(Wochentag_Numerisch)[T.5]                          43.7761     15.172      2.885      0.004      13.846      73.706\n",
      "C(Wochentag_Numerisch)[T.6]                         -52.5898     15.169     -3.467      0.001     -82.515     -22.665\n",
      "Wochenende[T.True]                                   -8.8138     18.139     -0.486      0.628     -44.597      26.970\n",
      "C(Warengruppe)[T.2.0]:C(Wochentag_Numerisch)[T.1]    22.9207     48.643      0.471      0.638     -73.038     118.880\n",
      "C(Warengruppe)[T.3.0]:C(Wochentag_Numerisch)[T.1]     4.9711     48.643      0.102      0.919     -90.988     100.930\n",
      "C(Warengruppe)[T.4.0]:C(Wochentag_Numerisch)[T.1]     6.1556     48.643      0.127      0.899     -89.803     102.115\n",
      "C(Warengruppe)[T.5.0]:C(Wochentag_Numerisch)[T.1]   -12.9229     48.643     -0.266      0.791    -108.882      83.036\n",
      "C(Warengruppe)[T.6.0]:C(Wochentag_Numerisch)[T.1] -4.584e-14   2.77e-14     -1.654      0.100   -1.01e-13    8.84e-15\n",
      "C(Warengruppe)[T.2.0]:C(Wochentag_Numerisch)[T.2]    39.7743     48.643      0.818      0.415     -56.185     135.733\n",
      "C(Warengruppe)[T.3.0]:C(Wochentag_Numerisch)[T.2]    -2.2940     48.643     -0.047      0.962     -98.253      93.665\n",
      "C(Warengruppe)[T.4.0]:C(Wochentag_Numerisch)[T.2]    17.1384     48.643      0.352      0.725     -78.821     113.097\n",
      "C(Warengruppe)[T.5.0]:C(Wochentag_Numerisch)[T.2]    10.8665     48.643      0.223      0.823     -85.092     106.826\n",
      "C(Warengruppe)[T.6.0]:C(Wochentag_Numerisch)[T.2]  3.679e-14   1.58e-14      2.325      0.021    5.58e-15     6.8e-14\n",
      "C(Warengruppe)[T.2.0]:C(Wochentag_Numerisch)[T.3]    41.6474     48.643      0.856      0.393     -54.312     137.606\n",
      "C(Warengruppe)[T.3.0]:C(Wochentag_Numerisch)[T.3]    -6.5813     48.643     -0.135      0.893    -102.540      89.378\n",
      "C(Warengruppe)[T.4.0]:C(Wochentag_Numerisch)[T.3]     4.8381     48.643      0.099      0.921     -91.121     100.797\n",
      "C(Warengruppe)[T.5.0]:C(Wochentag_Numerisch)[T.3]    -8.6710     48.643     -0.178      0.859    -104.630      87.288\n",
      "C(Warengruppe)[T.6.0]:C(Wochentag_Numerisch)[T.3]  1.734e-14   1.21e-14      1.435      0.153    -6.5e-15    4.12e-14\n",
      "C(Warengruppe)[T.2.0]:C(Wochentag_Numerisch)[T.4]    53.0901     48.643      1.091      0.276     -42.869     149.049\n",
      "C(Warengruppe)[T.3.0]:C(Wochentag_Numerisch)[T.4]    -7.7164     48.643     -0.159      0.874    -103.675      88.243\n",
      "C(Warengruppe)[T.4.0]:C(Wochentag_Numerisch)[T.4]    -6.9974     50.159     -0.140      0.889    -105.947      91.952\n",
      "C(Warengruppe)[T.5.0]:C(Wochentag_Numerisch)[T.4]    11.7408     48.643      0.241      0.810     -84.218     107.700\n",
      "C(Warengruppe)[T.6.0]:C(Wochentag_Numerisch)[T.4] -3.646e-15   1.09e-14     -0.333      0.739   -2.52e-14    1.79e-14\n",
      "C(Warengruppe)[T.2.0]:C(Wochentag_Numerisch)[T.5]   178.8363     42.126      4.245      0.000      95.733     261.939\n",
      "C(Warengruppe)[T.3.0]:C(Wochentag_Numerisch)[T.5]    71.0040     42.126      1.686      0.094     -12.099     154.107\n",
      "C(Warengruppe)[T.4.0]:C(Wochentag_Numerisch)[T.5]   -44.0193     42.514     -1.035      0.302    -127.888      39.850\n",
      "C(Warengruppe)[T.5.0]:C(Wochentag_Numerisch)[T.5]    63.5288     42.126      1.508      0.133     -19.574     146.632\n",
      "C(Warengruppe)[T.6.0]:C(Wochentag_Numerisch)[T.5] -9.327e-17   5.69e-16     -0.164      0.870   -1.21e-15    1.03e-15\n",
      "C(Warengruppe)[T.2.0]:C(Wochentag_Numerisch)[T.6]   243.4430     42.126      5.779      0.000     160.340     326.546\n",
      "C(Warengruppe)[T.3.0]:C(Wochentag_Numerisch)[T.6]   136.6254     42.126      3.243      0.001      53.522     219.728\n",
      "C(Warengruppe)[T.4.0]:C(Wochentag_Numerisch)[T.6]    84.9888     42.126      2.017      0.045       1.886     168.092\n",
      "C(Warengruppe)[T.5.0]:C(Wochentag_Numerisch)[T.6]    55.9090     42.126      1.327      0.186     -27.194     139.012\n",
      "C(Warengruppe)[T.6.0]:C(Wochentag_Numerisch)[T.6]          0          0        nan        nan           0           0\n",
      "Temperatur                                           -2.8367      1.132     -2.506      0.013      -5.070      -0.604\n",
      "KielerWoche                                          98.4738     16.150      6.097      0.000      66.613     130.334\n",
      "==============================================================================\n",
      "Omnibus:                       46.086   Durbin-Watson:                   1.671\n",
      "Prob(Omnibus):                  0.000   Jarque-Bera (JB):              259.325\n",
      "Skew:                           0.620   Prob(JB):                     4.88e-57\n",
      "Kurtosis:                       8.136   Cond. No.                     1.79e+18\n",
      "==============================================================================\n",
      "\n",
      "Notes:\n",
      "[1] Standard Errors assume that the covariance matrix of the errors is correctly specified.\n",
      "[2] The smallest eigenvalue is 2.45e-32. This might indicate that there are\n",
      "strong multicollinearity problems or that the design matrix is singular.\n"
     ]
    }
   ],
   "source": [
    "# Erstelle eine numerische Darstellung des Wochentags\n",
    "merged_data[\"Wochentag_Numerisch\"] = merged_data[\"Datum\"].dt.dayofweek\n",
    "\n",
    "# Baue das Modell, inklusive Interaktionsterm zwischen Warengruppe und Wochentag\n",
    "mod = smf.ols('Umsatz ~ C(Warengruppe) * C(Wochentag_Numerisch) + Temperatur + Wochenende + KielerWoche', data=merged_data).fit()\n",
    "\n",
    "# Print the summary\n",
    "print(mod.summary())"
   ]
  },
  {
   "cell_type": "markdown",
   "metadata": {},
   "source": [
    "## Lineares Modell 3\n",
    "Umsatz je Warengruppe und Wochentag und Kieler Woche"
   ]
  },
  {
   "cell_type": "code",
   "execution_count": 12,
   "metadata": {},
   "outputs": [
    {
     "name": "stdout",
     "output_type": "stream",
     "text": [
      "                            OLS Regression Results                            \n",
      "==============================================================================\n",
      "Dep. Variable:                 Umsatz   R-squared:                       0.920\n",
      "Model:                            OLS   Adj. R-squared:                  0.906\n",
      "Method:                 Least Squares   F-statistic:                     61.86\n",
      "Date:                Wed, 05 Jun 2024   Prob (F-statistic):           6.62e-85\n",
      "Time:                        13:50:00   Log-Likelihood:                -1187.9\n",
      "No. Observations:                 223   AIC:                             2448.\n",
      "Df Residuals:                     187   BIC:                             2570.\n",
      "Df Model:                          35                                         \n",
      "Covariance Type:            nonrobust                                         \n",
      "=====================================================================================================================\n",
      "                                                        coef    std err          t      P>|t|      [0.025      0.975]\n",
      "---------------------------------------------------------------------------------------------------------------------\n",
      "Intercept                                            98.4738     16.150      6.097      0.000      66.613     130.334\n",
      "C(Warengruppe)[T.2.0]                               145.6004     17.198      8.466      0.000     111.674     179.527\n",
      "C(Warengruppe)[T.3.0]                                21.2152     17.198      1.234      0.219     -12.711      55.142\n",
      "C(Warengruppe)[T.4.0]                               -33.4105     17.198     -1.943      0.054     -67.337       0.516\n",
      "C(Warengruppe)[T.5.0]                                76.5099     17.198      4.449      0.000      42.583     110.437\n",
      "C(Warengruppe)[T.6.0]                             -1.253e-13   7.12e-14     -1.760      0.080   -2.66e-13    1.51e-14\n",
      "C(Wochentag_Numerisch)[T.1]                         -20.2380     34.403     -0.588      0.557     -88.106      47.630\n",
      "C(Wochentag_Numerisch)[T.2]                         -12.9226     34.398     -0.376      0.708     -80.780      54.935\n",
      "C(Wochentag_Numerisch)[T.3]                          -4.8099     34.396     -0.140      0.889     -72.664      63.044\n",
      "C(Wochentag_Numerisch)[T.4]                          13.4414     34.400      0.391      0.696     -54.421      81.304\n",
      "C(Wochentag_Numerisch)[T.5]                          43.7761     15.172      2.885      0.004      13.846      73.706\n",
      "C(Wochentag_Numerisch)[T.6]                         -52.5898     15.169     -3.467      0.001     -82.515     -22.665\n",
      "Wochenende[T.True]                                   -8.8138     18.139     -0.486      0.628     -44.597      26.970\n",
      "C(Warengruppe)[T.2.0]:C(Wochentag_Numerisch)[T.1]    22.9207     48.643      0.471      0.638     -73.038     118.880\n",
      "C(Warengruppe)[T.3.0]:C(Wochentag_Numerisch)[T.1]     4.9711     48.643      0.102      0.919     -90.988     100.930\n",
      "C(Warengruppe)[T.4.0]:C(Wochentag_Numerisch)[T.1]     6.1556     48.643      0.127      0.899     -89.803     102.115\n",
      "C(Warengruppe)[T.5.0]:C(Wochentag_Numerisch)[T.1]   -12.9229     48.643     -0.266      0.791    -108.882      83.036\n",
      "C(Warengruppe)[T.6.0]:C(Wochentag_Numerisch)[T.1] -1.626e-15   5.35e-14     -0.030      0.976   -1.07e-13    1.04e-13\n",
      "C(Warengruppe)[T.2.0]:C(Wochentag_Numerisch)[T.2]    39.7743     48.643      0.818      0.415     -56.185     135.733\n",
      "C(Warengruppe)[T.3.0]:C(Wochentag_Numerisch)[T.2]    -2.2940     48.643     -0.047      0.962     -98.253      93.665\n",
      "C(Warengruppe)[T.4.0]:C(Wochentag_Numerisch)[T.2]    17.1384     48.643      0.352      0.725     -78.821     113.097\n",
      "C(Warengruppe)[T.5.0]:C(Wochentag_Numerisch)[T.2]    10.8665     48.643      0.223      0.823     -85.092     106.826\n",
      "C(Warengruppe)[T.6.0]:C(Wochentag_Numerisch)[T.2] -4.019e-15   1.91e-14     -0.211      0.833   -4.16e-14    3.36e-14\n",
      "C(Warengruppe)[T.2.0]:C(Wochentag_Numerisch)[T.3]    41.6474     48.643      0.856      0.393     -54.312     137.606\n",
      "C(Warengruppe)[T.3.0]:C(Wochentag_Numerisch)[T.3]    -6.5813     48.643     -0.135      0.893    -102.540      89.378\n",
      "C(Warengruppe)[T.4.0]:C(Wochentag_Numerisch)[T.3]     4.8381     48.643      0.099      0.921     -91.121     100.797\n",
      "C(Warengruppe)[T.5.0]:C(Wochentag_Numerisch)[T.3]    -8.6710     48.643     -0.178      0.859    -104.630      87.288\n",
      "C(Warengruppe)[T.6.0]:C(Wochentag_Numerisch)[T.3]  8.522e-15   9.28e-15      0.919      0.359   -9.78e-15    2.68e-14\n",
      "C(Warengruppe)[T.2.0]:C(Wochentag_Numerisch)[T.4]    53.0901     48.643      1.091      0.276     -42.869     149.049\n",
      "C(Warengruppe)[T.3.0]:C(Wochentag_Numerisch)[T.4]    -7.7164     48.643     -0.159      0.874    -103.675      88.243\n",
      "C(Warengruppe)[T.4.0]:C(Wochentag_Numerisch)[T.4]    -6.9974     50.159     -0.140      0.889    -105.947      91.952\n",
      "C(Warengruppe)[T.5.0]:C(Wochentag_Numerisch)[T.4]    11.7408     48.643      0.241      0.810     -84.218     107.700\n",
      "C(Warengruppe)[T.6.0]:C(Wochentag_Numerisch)[T.4]  -2.36e-15   9.47e-15     -0.249      0.803    -2.1e-14    1.63e-14\n",
      "C(Warengruppe)[T.2.0]:C(Wochentag_Numerisch)[T.5]   178.8363     42.126      4.245      0.000      95.733     261.939\n",
      "C(Warengruppe)[T.3.0]:C(Wochentag_Numerisch)[T.5]    71.0040     42.126      1.686      0.094     -12.099     154.107\n",
      "C(Warengruppe)[T.4.0]:C(Wochentag_Numerisch)[T.5]   -44.0193     42.514     -1.035      0.302    -127.888      39.850\n",
      "C(Warengruppe)[T.5.0]:C(Wochentag_Numerisch)[T.5]    63.5288     42.126      1.508      0.133     -19.574     146.632\n",
      "C(Warengruppe)[T.6.0]:C(Wochentag_Numerisch)[T.5]  5.525e-17   3.16e-16      0.175      0.861   -5.68e-16    6.78e-16\n",
      "C(Warengruppe)[T.2.0]:C(Wochentag_Numerisch)[T.6]   243.4430     42.126      5.779      0.000     160.340     326.546\n",
      "C(Warengruppe)[T.3.0]:C(Wochentag_Numerisch)[T.6]   136.6254     42.126      3.243      0.001      53.522     219.728\n",
      "C(Warengruppe)[T.4.0]:C(Wochentag_Numerisch)[T.6]    84.9888     42.126      2.017      0.045       1.886     168.092\n",
      "C(Warengruppe)[T.5.0]:C(Wochentag_Numerisch)[T.6]    55.9090     42.126      1.327      0.186     -27.194     139.012\n",
      "C(Warengruppe)[T.6.0]:C(Wochentag_Numerisch)[T.6]          0          0        nan        nan           0           0\n",
      "Temperatur                                           -2.8367      1.132     -2.506      0.013      -5.070      -0.604\n",
      "KielerWoche                                          98.4738     16.150      6.097      0.000      66.613     130.334\n",
      "C(Warengruppe)[T.2.0]:KielerWoche                   145.6004     17.198      8.466      0.000     111.674     179.527\n",
      "C(Warengruppe)[T.3.0]:KielerWoche                    21.2152     17.198      1.234      0.219     -12.711      55.142\n",
      "C(Warengruppe)[T.4.0]:KielerWoche                   -33.4105     17.198     -1.943      0.054     -67.337       0.516\n",
      "C(Warengruppe)[T.5.0]:KielerWoche                    76.5099     17.198      4.449      0.000      42.583     110.437\n",
      "C(Warengruppe)[T.6.0]:KielerWoche                          0          0        nan        nan           0           0\n",
      "==============================================================================\n",
      "Omnibus:                       46.086   Durbin-Watson:                   1.671\n",
      "Prob(Omnibus):                  0.000   Jarque-Bera (JB):              259.325\n",
      "Skew:                           0.620   Prob(JB):                     4.88e-57\n",
      "Kurtosis:                       8.136   Cond. No.                     1.99e+17\n",
      "==============================================================================\n",
      "\n",
      "Notes:\n",
      "[1] Standard Errors assume that the covariance matrix of the errors is correctly specified.\n",
      "[2] The smallest eigenvalue is 1.98e-30. This might indicate that there are\n",
      "strong multicollinearity problems or that the design matrix is singular.\n"
     ]
    }
   ],
   "source": [
    "# Baue das Modell, inklusive Interaktionstermen zwischen Warengruppe und Wochentag sowie Warengruppe und KielerWoche\n",
    "mod = smf.ols('Umsatz ~ C(Warengruppe) * C(Wochentag_Numerisch) + Temperatur + Wochenende + C(Warengruppe) * KielerWoche', data=merged_data).fit()\n",
    "\n",
    "# Print the summary\n",
    "print(mod.summary())"
   ]
  }
 ],
 "metadata": {
  "kernelspec": {
   "display_name": "python_course",
   "language": "python",
   "name": "python3"
  },
  "language_info": {
   "codemirror_mode": {
    "name": "ipython",
    "version": 3
   },
   "file_extension": ".py",
   "mimetype": "text/x-python",
   "name": "python",
   "nbconvert_exporter": "python",
   "pygments_lexer": "ipython3",
   "version": "3.10.13"
  }
 },
 "nbformat": 4,
 "nbformat_minor": 2
}
