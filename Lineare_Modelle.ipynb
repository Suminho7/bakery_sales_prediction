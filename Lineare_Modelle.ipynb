{
 "cells": [
  {
   "cell_type": "markdown",
   "metadata": {},
   "source": [
    "## Pakete laden und mit RF imputierten Datensatz laden"
   ]
  },
  {
   "cell_type": "code",
   "execution_count": 17,
   "metadata": {},
   "outputs": [],
   "source": [
    "import pandas as pd\n",
    "import matplotlib.pyplot as plt\n",
    "import statsmodels.formula.api as smf\n",
    "import holidays\n",
    "from sklearn.model_selection import train_test_split\n",
    "\n",
    "# Load the data\n",
    "data_RF = pd.read_csv(\"/workspaces/bakery_sales_prediction/0_DataPreparation/imputed_data_RF.csv\")"
   ]
  },
  {
   "cell_type": "markdown",
   "metadata": {},
   "source": [
    "## Lineares Modell ohne Interaktionen"
   ]
  },
  {
   "cell_type": "code",
   "execution_count": 20,
   "metadata": {},
   "outputs": [
    {
     "name": "stdout",
     "output_type": "stream",
     "text": [
      "                            OLS Regression Results                            \n",
      "==============================================================================\n",
      "Dep. Variable:                 Umsatz   R-squared:                       0.732\n",
      "Model:                            OLS   Adj. R-squared:                  0.731\n",
      "Method:                 Least Squares   F-statistic:                     2106.\n",
      "Date:                Fri, 14 Jun 2024   Prob (F-statistic):               0.00\n",
      "Time:                        11:23:11   Log-Likelihood:                -53273.\n",
      "No. Observations:                9287   AIC:                         1.066e+05\n",
      "Df Residuals:                    9274   BIC:                         1.067e+05\n",
      "Df Model:                          12                                         \n",
      "Covariance Type:            nonrobust                                         \n",
      "=========================================================================================\n",
      "                            coef    std err          t      P>|t|      [0.025      0.975]\n",
      "-----------------------------------------------------------------------------------------\n",
      "Intercept                43.4714      3.066     14.178      0.000      37.461      49.481\n",
      "C(Warengruppe)[T.2.0]   297.1177      2.806    105.879      0.000     291.617     302.618\n",
      "C(Warengruppe)[T.3.0]    22.6052      2.962      7.631      0.000      16.798      28.412\n",
      "C(Warengruppe)[T.4.0]   -22.4311      2.664     -8.420      0.000     -27.653     -17.209\n",
      "C(Warengruppe)[T.5.0]   175.3932      2.962     59.222      0.000     169.588     181.199\n",
      "C(Warengruppe)[T.6.0]   -31.4999      4.827     -6.526      0.000     -40.961     -22.038\n",
      "C(Feiertag)[T.1]         64.7149      7.631      8.481      0.000      49.757      79.673\n",
      "C(Jahreszeit)[T.2]       -3.7027      2.587     -1.431      0.152      -8.774       1.369\n",
      "C(Jahreszeit)[T.3]       39.6008      3.609     10.972      0.000      32.526      46.676\n",
      "C(Jahreszeit)[T.4]       -0.7710      2.625     -0.294      0.769      -5.917       4.375\n",
      "C(Wochenende)[T.True]    46.8801      1.797     26.092      0.000      43.358      50.402\n",
      "Temperatur                1.8747      0.178     10.534      0.000       1.526       2.224\n",
      "Umsatz_lag1               0.1262      0.010     12.374      0.000       0.106       0.146\n",
      "==============================================================================\n",
      "Omnibus:                     9720.242   Durbin-Watson:                   1.992\n",
      "Prob(Omnibus):                  0.000   Jarque-Bera (JB):          2609288.635\n",
      "Skew:                           4.713   Prob(JB):                         0.00\n",
      "Kurtosis:                      84.573   Cond. No.                     2.46e+03\n",
      "==============================================================================\n",
      "\n",
      "Notes:\n",
      "[1] Standard Errors assume that the covariance matrix of the errors is correctly specified.\n",
      "[2] The condition number is large, 2.46e+03. This might indicate that there are\n",
      "strong multicollinearity or other numerical problems.\n"
     ]
    }
   ],
   "source": [
    "# Fit the linear model (erster Versuch)\n",
    "mod = smf.ols('Umsatz ~ C(Warengruppe)  + Temperatur + C(Feiertag) + C(Jahreszeit) + C(Wochenende) + Umsatz_lag1', data=data_RF).fit()\n",
    "\n",
    "# Print the summary\n",
    "print(mod.summary())"
   ]
  },
  {
   "cell_type": "markdown",
   "metadata": {},
   "source": [
    "## Lineares Modell mit Interaktionen"
   ]
  },
  {
   "cell_type": "code",
   "execution_count": 22,
   "metadata": {},
   "outputs": [
    {
     "name": "stdout",
     "output_type": "stream",
     "text": [
      "                            OLS Regression Results                            \n",
      "==============================================================================\n",
      "Dep. Variable:                 Umsatz   R-squared:                       0.870\n",
      "Model:                            OLS   Adj. R-squared:                  0.864\n",
      "Method:                 Least Squares   F-statistic:                     142.1\n",
      "Date:                Fri, 14 Jun 2024   Prob (F-statistic):           3.55e-88\n",
      "Time:                        11:24:20   Log-Likelihood:                -1242.6\n",
      "No. Observations:                 223   AIC:                             2507.\n",
      "Df Residuals:                     212   BIC:                             2545.\n",
      "Df Model:                          10                                         \n",
      "Covariance Type:            nonrobust                                         \n",
      "=========================================================================================\n",
      "                            coef    std err          t      P>|t|      [0.025      0.975]\n",
      "-----------------------------------------------------------------------------------------\n",
      "Intercept                 1.9776      1.591      1.243      0.215      -1.158       5.113\n",
      "C(Warengruppe)[T.2.0]   394.5530     21.891     18.024      0.000     351.402     437.704\n",
      "C(Warengruppe)[T.3.0]    94.1732     20.342      4.629      0.000      54.074     134.272\n",
      "C(Warengruppe)[T.4.0]   -63.4873     27.250     -2.330      0.021    -117.202      -9.773\n",
      "C(Warengruppe)[T.5.0]   170.6318     22.898      7.452      0.000     125.495     215.768\n",
      "C(Warengruppe)[T.6.0] -2.974e-14   8.42e-15     -3.534      0.001   -4.63e-14   -1.32e-14\n",
      "C(Feiertag)[T.1]       5.952e-15   1.16e-15      5.140      0.000    3.67e-15    8.23e-15\n",
      "C(Jahreszeit)[T.2]     2.384e-14   2.58e-15      9.240      0.000    1.88e-14    2.89e-14\n",
      "C(Jahreszeit)[T.3]        1.9776      1.591      1.243      0.215      -1.158       5.113\n",
      "C(Jahreszeit)[T.4]     2.478e-14   4.22e-15      5.871      0.000    1.65e-14    3.31e-14\n",
      "C(Wochenende)[T.True]    65.9452     10.117      6.518      0.000      46.002      85.889\n",
      "Temperatur                0.0309      0.075      0.412      0.681      -0.117       0.179\n",
      "Umsatz_lag1              -0.0349      0.068     -0.515      0.607      -0.168       0.098\n",
      "Umsatz_lag7               0.0131      0.053      0.246      0.806      -0.092       0.118\n",
      "Wettercode                1.7420      1.023      1.703      0.090      -0.274       3.758\n",
      "Wettercode:Temperatur    -0.0734      0.052     -1.417      0.158      -0.175       0.029\n",
      "Monat                    11.8653      9.543      1.243      0.215      -6.947      30.677\n",
      "Monat:Temperatur          0.1855      0.450      0.412      0.681      -0.701       1.073\n",
      "==============================================================================\n",
      "Omnibus:                       37.008   Durbin-Watson:                   1.974\n",
      "Prob(Omnibus):                  0.000   Jarque-Bera (JB):               81.361\n",
      "Skew:                           0.784   Prob(JB):                     2.15e-18\n",
      "Kurtosis:                       5.510   Cond. No.                     3.79e+21\n",
      "==============================================================================\n",
      "\n",
      "Notes:\n",
      "[1] Standard Errors assume that the covariance matrix of the errors is correctly specified.\n",
      "[2] The smallest eigenvalue is 1.87e-35. This might indicate that there are\n",
      "strong multicollinearity problems or that the design matrix is singular.\n"
     ]
    }
   ],
   "source": [
    "# Modell mit Interaktionseffekten\n",
    "import pandas as pd\n",
    "import statsmodels.formula.api as smf\n",
    "from sklearn.model_selection import train_test_split\n",
    "import itertools\n",
    "\n",
    "# Formel für die multiple lineare Regression mit ausgewählten Interaktionseffekten\n",
    "mod_int = smf.ols('Umsatz ~ C(Warengruppe) + Temperatur + C(Feiertag) + C(Jahreszeit) + C(Wochenende) + Umsatz_lag1 + Umsatz_lag7 + C(KielerWoche)*C(Warengruppe) + Wettercode*Temperatur + Monat*Temperatur', data = data_RF).fit()\n",
    "\n",
    "# Print the summary\n",
    "print(mod_int.summary())\n"
   ]
  },
  {
   "cell_type": "markdown",
   "metadata": {},
   "source": [
    "Ergebnis könnte Artefakt sein, weil die Korrelation zwischen Wettercode und Temperatur durch die Imputation in die Höhe geschossen wurde"
   ]
  },
  {
   "cell_type": "markdown",
   "metadata": {},
   "source": [
    "## Vorhersagen testen"
   ]
  },
  {
   "cell_type": "code",
   "execution_count": 23,
   "metadata": {},
   "outputs": [
    {
     "name": "stdout",
     "output_type": "stream",
     "text": [
      "The predicted sales for the new day is: 224.18552938937597\n"
     ]
    }
   ],
   "source": [
    "# Create a new house with the following features\n",
    "new_day = pd.DataFrame({\n",
    "'Temperatur': [20], \n",
    "'Warengruppe': [3],\n",
    "\"Feiertag\" : [1],\n",
    "\"Jahreszeit\" : [2],\n",
    "\"Wochenende\" : [1],\n",
    "\"Umsatz_lag1\" : [100.80162265371] \n",
    "})\n",
    "# Use the model to predict the sales of the new day\n",
    "predicted_sales = mod.predict(new_day)\n",
    "print(f\"The predicted sales for the new day is: {predicted_sales[0]}\")\n"
   ]
  }
 ],
 "metadata": {
  "kernelspec": {
   "display_name": "Python 3",
   "language": "python",
   "name": "python3"
  },
  "language_info": {
   "codemirror_mode": {
    "name": "ipython",
    "version": 3
   },
   "file_extension": ".py",
   "mimetype": "text/x-python",
   "name": "python",
   "nbconvert_exporter": "python",
   "pygments_lexer": "ipython3",
   "version": "3.10.13"
  }
 },
 "nbformat": 4,
 "nbformat_minor": 2
}
