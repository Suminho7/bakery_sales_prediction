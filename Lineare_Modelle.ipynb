{
 "cells": [
  {
   "cell_type": "markdown",
   "metadata": {},
   "source": [
    "## Pakete laden und mit RF imputierten Datensatz laden"
   ]
  },
  {
   "cell_type": "code",
   "execution_count": 2,
   "metadata": {},
   "outputs": [],
   "source": [
    "import pandas as pd\n",
    "import matplotlib.pyplot as plt\n",
    "import statsmodels.formula.api as smf\n",
    "import holidays\n",
    "from sklearn.model_selection import train_test_split\n",
    "\n",
    "# Load the data\n",
    "data_RF = pd.read_csv(\"/workspaces/bakery_sales_prediction/0_DataPreparation/imputed_data_RF.csv\")"
   ]
  },
  {
   "cell_type": "markdown",
   "metadata": {},
   "source": [
    "## Lineares Modell ohne Interaktionen"
   ]
  },
  {
   "cell_type": "code",
   "execution_count": 3,
   "metadata": {},
   "outputs": [
    {
     "name": "stdout",
     "output_type": "stream",
     "text": [
      "                            OLS Regression Results                            \n",
      "==============================================================================\n",
      "Dep. Variable:                 Umsatz   R-squared:                       0.732\n",
      "Model:                            OLS   Adj. R-squared:                  0.731\n",
      "Method:                 Least Squares   F-statistic:                     2106.\n",
      "Date:                Sat, 22 Jun 2024   Prob (F-statistic):               0.00\n",
      "Time:                        05:06:02   Log-Likelihood:                -53273.\n",
      "No. Observations:                9287   AIC:                         1.066e+05\n",
      "Df Residuals:                    9274   BIC:                         1.067e+05\n",
      "Df Model:                          12                                         \n",
      "Covariance Type:            nonrobust                                         \n",
      "=========================================================================================\n",
      "                            coef    std err          t      P>|t|      [0.025      0.975]\n",
      "-----------------------------------------------------------------------------------------\n",
      "Intercept                43.4714      3.066     14.178      0.000      37.461      49.481\n",
      "C(Warengruppe)[T.2.0]   297.1177      2.806    105.879      0.000     291.617     302.618\n",
      "C(Warengruppe)[T.3.0]    22.6052      2.962      7.631      0.000      16.798      28.412\n",
      "C(Warengruppe)[T.4.0]   -22.4311      2.664     -8.420      0.000     -27.653     -17.209\n",
      "C(Warengruppe)[T.5.0]   175.3932      2.962     59.222      0.000     169.588     181.199\n",
      "C(Warengruppe)[T.6.0]   -31.4999      4.827     -6.526      0.000     -40.961     -22.038\n",
      "C(Feiertag)[T.1]         64.7149      7.631      8.481      0.000      49.757      79.673\n",
      "C(Jahreszeit)[T.2]       -3.7027      2.587     -1.431      0.152      -8.774       1.369\n",
      "C(Jahreszeit)[T.3]       39.6008      3.609     10.972      0.000      32.526      46.676\n",
      "C(Jahreszeit)[T.4]       -0.7710      2.625     -0.294      0.769      -5.917       4.375\n",
      "C(Wochenende)[T.True]    46.8801      1.797     26.092      0.000      43.358      50.402\n",
      "Temperatur                1.8747      0.178     10.534      0.000       1.526       2.224\n",
      "Umsatz_lag1               0.1262      0.010     12.374      0.000       0.106       0.146\n",
      "==============================================================================\n",
      "Omnibus:                     9720.242   Durbin-Watson:                   1.992\n",
      "Prob(Omnibus):                  0.000   Jarque-Bera (JB):          2609288.635\n",
      "Skew:                           4.713   Prob(JB):                         0.00\n",
      "Kurtosis:                      84.573   Cond. No.                     2.46e+03\n",
      "==============================================================================\n",
      "\n",
      "Notes:\n",
      "[1] Standard Errors assume that the covariance matrix of the errors is correctly specified.\n",
      "[2] The condition number is large, 2.46e+03. This might indicate that there are\n",
      "strong multicollinearity or other numerical problems.\n"
     ]
    }
   ],
   "source": [
    "# Fit the linear model (erster Versuch)\n",
    "mod = smf.ols('Umsatz ~ C(Warengruppe)  + Temperatur + C(Feiertag) + C(Jahreszeit) + C(Wochenende) + Umsatz_lag1', data=data_RF).fit()\n",
    "\n",
    "# Print the summary\n",
    "print(mod.summary())"
   ]
  },
  {
   "cell_type": "markdown",
   "metadata": {},
   "source": [
    "## Lineares Modell mit Interaktionen"
   ]
  },
  {
   "cell_type": "code",
   "execution_count": 6,
   "metadata": {},
   "outputs": [
    {
     "name": "stdout",
     "output_type": "stream",
     "text": [
      "                            OLS Regression Results                            \n",
      "==============================================================================\n",
      "Dep. Variable:                 Umsatz   R-squared:                       0.737\n",
      "Model:                            OLS   Adj. R-squared:                  0.736\n",
      "Method:                 Least Squares   F-statistic:                     1175.\n",
      "Date:                Sat, 22 Jun 2024   Prob (F-statistic):               0.00\n",
      "Time:                        05:07:00   Log-Likelihood:                -52922.\n",
      "No. Observations:                9246   AIC:                         1.059e+05\n",
      "Df Residuals:                    9223   BIC:                         1.061e+05\n",
      "Df Model:                          22                                         \n",
      "Covariance Type:            nonrobust                                         \n",
      "=================================================================================================================\n",
      "                                                    coef    std err          t      P>|t|      [0.025      0.975]\n",
      "-----------------------------------------------------------------------------------------------------------------\n",
      "Intercept                                        53.9871      4.340     12.439      0.000      45.480      62.494\n",
      "C(Warengruppe)[T.2.0]                           289.3610      3.048     94.924      0.000     283.386     295.336\n",
      "C(Warengruppe)[T.3.0]                            20.7938      2.983      6.971      0.000      14.946      26.641\n",
      "C(Warengruppe)[T.4.0]                           -28.2997      3.294     -8.591      0.000     -34.757     -21.842\n",
      "C(Warengruppe)[T.5.0]                           172.4035      3.028     56.939      0.000     166.468     178.339\n",
      "C(Warengruppe)[T.6.0]                           -37.9165      5.097     -7.438      0.000     -47.909     -27.924\n",
      "C(Feiertag)[T.1]                                 62.4217      7.549      8.269      0.000      47.625      77.219\n",
      "C(Jahreszeit)[T.2]                                6.2958      2.879      2.186      0.029       0.651      11.940\n",
      "C(Jahreszeit)[T.3]                               35.1011      3.705      9.474      0.000      27.839      42.363\n",
      "C(Jahreszeit)[T.4]                              -15.5251      3.089     -5.026      0.000     -21.580      -9.470\n",
      "C(Wochenende)[T.True]                            46.6955      1.785     26.153      0.000      43.196      50.195\n",
      "C(Kieler_Woche)[T.True]                         -34.8516     11.369     -3.066      0.002     -57.137     -12.566\n",
      "C(Kieler_Woche)[T.True]:C(Warengruppe)[T.2.0]   130.5653     15.850      8.237      0.000      99.495     161.636\n",
      "C(Kieler_Woche)[T.True]:C(Warengruppe)[T.3.0]    37.9608     15.848      2.395      0.017       6.895      69.027\n",
      "C(Kieler_Woche)[T.True]:C(Warengruppe)[T.4.0]   -24.8024     16.054     -1.545      0.122     -56.271       6.666\n",
      "C(Kieler_Woche)[T.True]:C(Warengruppe)[T.5.0]    31.9570     15.867      2.014      0.044       0.854      63.060\n",
      "C(Kieler_Woche)[T.True]:C(Warengruppe)[T.6.0]  1.161e-14   4.47e-15      2.597      0.009    2.85e-15    2.04e-14\n",
      "Temperatur                                       -1.4605      0.419     -3.490      0.000      -2.281      -0.640\n",
      "Umsatz_lag1                                       0.1224      0.010     11.820      0.000       0.102       0.143\n",
      "Umsatz_lag7                                       0.0241      0.007      3.337      0.001       0.010       0.038\n",
      "Wettercode                                       -0.2121      0.056     -3.767      0.000      -0.323      -0.102\n",
      "Wettercode:Temperatur                             0.0145      0.004      3.636      0.000       0.007       0.022\n",
      "Monat                                            -0.4427      0.401     -1.105      0.269      -1.228       0.342\n",
      "Monat:Temperatur                                  0.4274      0.056      7.598      0.000       0.317       0.538\n",
      "==============================================================================\n",
      "Omnibus:                     9759.403   Durbin-Watson:                   1.999\n",
      "Prob(Omnibus):                  0.000   Jarque-Bera (JB):          2706709.662\n",
      "Skew:                           4.776   Prob(JB):                         0.00\n",
      "Kurtosis:                      86.274   Cond. No.                     5.15e+19\n",
      "==============================================================================\n",
      "\n",
      "Notes:\n",
      "[1] Standard Errors assume that the covariance matrix of the errors is correctly specified.\n",
      "[2] The smallest eigenvalue is 1.22e-30. This might indicate that there are\n",
      "strong multicollinearity problems or that the design matrix is singular.\n"
     ]
    }
   ],
   "source": [
    "# Modell mit Interaktionseffekten\n",
    "import pandas as pd\n",
    "import statsmodels.formula.api as smf\n",
    "from sklearn.model_selection import train_test_split\n",
    "import itertools\n",
    "\n",
    "# Formel für die multiple lineare Regression mit ausgewählten Interaktionseffekten\n",
    "mod_int = smf.ols('Umsatz ~ C(Warengruppe) + Temperatur + C(Feiertag) + C(Jahreszeit) + C(Wochenende) + Umsatz_lag1 + Umsatz_lag7 + C(Kieler_Woche)*C(Warengruppe) + Wettercode*Temperatur + Monat*Temperatur', data = data_RF).fit()\n",
    "\n",
    "# Print the summary\n",
    "print(mod_int.summary())\n"
   ]
  },
  {
   "cell_type": "markdown",
   "metadata": {},
   "source": [
    "Ergebnis könnte Artefakt sein, weil die Korrelation zwischen Wettercode und Temperatur durch die Imputation in die Höhe geschossen wurde"
   ]
  },
  {
   "cell_type": "markdown",
   "metadata": {},
   "source": [
    "## Vorhersagen testen"
   ]
  },
  {
   "cell_type": "code",
   "execution_count": 7,
   "metadata": {},
   "outputs": [
    {
     "name": "stdout",
     "output_type": "stream",
     "text": [
      "The predicted sales for the new day is: 224.18552938937597\n"
     ]
    }
   ],
   "source": [
    "# Create a new house with the following features\n",
    "new_day = pd.DataFrame({\n",
    "'Temperatur': [20], \n",
    "'Warengruppe': [3],\n",
    "\"Feiertag\" : [1],\n",
    "\"Jahreszeit\" : [2],\n",
    "\"Wochenende\" : [1],\n",
    "\"Umsatz_lag1\" : [100.80162265371] \n",
    "})\n",
    "# Use the model to predict the sales of the new day\n",
    "predicted_sales = mod.predict(new_day)\n",
    "print(f\"The predicted sales for the new day is: {predicted_sales[0]}\")\n"
   ]
  }
 ],
 "metadata": {
  "kernelspec": {
   "display_name": "Python 3",
   "language": "python",
   "name": "python3"
  },
  "language_info": {
   "codemirror_mode": {
    "name": "ipython",
    "version": 3
   },
   "file_extension": ".py",
   "mimetype": "text/x-python",
   "name": "python",
   "nbconvert_exporter": "python",
   "pygments_lexer": "ipython3",
   "version": "3.10.13"
  }
 },
 "nbformat": 4,
 "nbformat_minor": 2
}
